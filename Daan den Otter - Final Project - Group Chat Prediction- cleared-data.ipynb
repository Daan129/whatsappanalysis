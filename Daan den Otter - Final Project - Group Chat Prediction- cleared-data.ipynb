{
 "cells": [
  {
   "cell_type": "markdown",
   "metadata": {},
   "source": [
    "# Data cleaning"
   ]
  },
  {
   "cell_type": "markdown",
   "metadata": {},
   "source": [
    "## Introduction\n",
    "\n",
    "The goal of this project was to build a model that could predict something of clear business or user value. I chose to have data of my own; my Whatsapp messages of a group chat of my long time friends from home, called \"GB's\". The group chat was originally created on 23th of January 2013, but I could only recieve messages from the **10th of May, 2014**. We are with **11 guys** in the chat. Since everybody switched phones over the years and didn't transport all their data. But that was of no problem since we have the last **397731 messages** of the chat. \n",
    "\n",
    "We not only send messages in the chat to meet up, but also discuss a lot about football, news, politics, showbiz and some more football. I expect to see a peak at Tuesday evenings, Wednesday evenings and Sunday afternoons, since that's when the biggest football matches are played. With all this data, I wanted to know how predictive we have become over the years. Could you already know who is going to send the next message? So:\n",
    "\n",
    "**Who would be most likely to send the next message on the basis of the messages that came before?**\n",
    "\n",
    "This notebook will take you through the data cleaning, feature engineering, data analysis, predictive modeling, and analysis parts.\n",
    "\n",
    "_**<font color='red'>UPDATE</font>**_\n",
    "\n",
    "_**<font color='red'>Due to privacy reasons some of the outputs of the cells are cleared</font>**_\n",
    "\n",
    "_**<font color='red'>Some graphs didn't show up anymore, but the analysis is still there. I'll see if I can fix it later.</font>**_"
   ]
  },
  {
   "cell_type": "markdown",
   "metadata": {},
   "source": [
    "## Part I: Data Set & Data Cleaning\n",
    "First we need to delete all the flaws out of the dataframe. I downloaded the data of the phone of Faried, my friend who had a longer message history. \n",
    "\n",
    "I only recieved raw lines of message dates with the message. They weren't structured nicely into columns and you didn't have an oversight if the message contained for exapmple an image or audio. You also can't see if somebody responded directly to an earlier send message. That was kind of a bummer. There were also some issues I struggled with:\n",
    "\n",
    "- There was an weird symbol, \"‚Äé\", before every non-message row (like when someone sent an image). I could see this only when I opened the .csv in Excel.\n",
    "- There are a lot of empty cells these were /n's in the messages that the system didn't see as the same message.\n",
    "- When there was text after an \\n in the message, it was presented as a new row that didn't start with a timecode."
   ]
  },
  {
   "cell_type": "code",
   "execution_count": 233,
   "metadata": {},
   "outputs": [],
   "source": [
    "import re\n",
    "import pandas as pd\n",
    "import matplotlib.pyplot as plt\n",
    "import emoji\n",
    "from collections import Counter"
   ]
  },
  {
   "cell_type": "code",
   "execution_count": null,
   "metadata": {},
   "outputs": [],
   "source": [
    "# importing the data. With encoding 'utf-8' we are able to see the \"‚Äé\" symbol that is shown as '\\u200e' after.\n",
    "df = pd.read_csv('chat2.0.csv', sep=\" \", names=['data'], encoding='utf-8')\n",
    "df.head()"
   ]
  },
  {
   "cell_type": "markdown",
   "metadata": {},
   "source": [
    "_**<font color='red'>Data cleared</font>**_\n",
    "\n",
    "To merge the messages with **\\n's** with the original message it belongs to, I first dropped all the empty cells because they were not necessary anyway. After that I placed every message after each other so that it becomes one big string. This way the text that was send after the **\\n's** was right after the original message **with** a timecode. After that I splitted the string on every **' ['** because that is how every message started in the string."
   ]
  },
  {
   "cell_type": "code",
   "execution_count": null,
   "metadata": {},
   "outputs": [],
   "source": [
    "# drop all the empty cells in the DF\n",
    "df = df.dropna()\n",
    "\n",
    "# delete the 'AE'-symbol\n",
    "df['data'] = df['data'].str.replace('\\u200e', '')\n",
    "\n",
    "# make everything a string because it gave an error that not everything was en therefor it couldn't .join() everything together\n",
    "df = df.applymap(str)\n",
    "\n",
    "# make one big string of everything. This way messages with enters are merged together. I lowered all the characters in the messages.\n",
    "# also splitting the big string right away on ' [' to create one big list. If I'd do this sepperately it didn't work.\n",
    "df = \" \".join(msg for msg in df.data.str.lower()).split(' [')\n",
    "\n",
    "# creating a Dataframe out of the list of messages and giving it the column name 'data'\n",
    "df = pd.DataFrame(df, columns=['data'])\n",
    "\n",
    "df.head()"
   ]
  },
  {
   "cell_type": "markdown",
   "metadata": {},
   "source": [
    "_**<font color='red'>Data cleared</font>**_"
   ]
  },
  {
   "cell_type": "markdown",
   "metadata": {},
   "source": [
    "#### Splitting data and creating better variables\n",
    "\n",
    "Now we luckily have a dataset withouth the issues in the beginning. What we now need are the variables that are already in each row. We're also doing this with the **.split** function.\n",
    "- Date\n",
    "- Time\n",
    "- Name of sender\n",
    "- Messages"
   ]
  },
  {
   "cell_type": "code",
   "execution_count": null,
   "metadata": {},
   "outputs": [],
   "source": [
    "# Split the data in half on the '] '\n",
    "df[['date_time', 'name_text']] = df['data'].str.split('] ', 1, expand=True)\n",
    "\n",
    "df.head()"
   ]
  },
  {
   "cell_type": "markdown",
   "metadata": {},
   "source": [
    "_**<font color='red'>Data cleared</font>**_\n",
    "\n",
    "\n",
    "This gives us 2 columns:\n",
    "- [29-01-2013 23:46:29\n",
    "- Abel: Best stil vandaag\n",
    "\n",
    "Split the second in half again, so we seperate the name of the sender from the message. We split it on ': '. It ish identical in the column, so we split it only once. That way it can't go wrong. And let's clean the dataset a big right away."
   ]
  },
  {
   "cell_type": "code",
   "execution_count": null,
   "metadata": {},
   "outputs": [],
   "source": [
    "# split the data to the columns name and text\n",
    "df[['name', 'text']] = df['name_text'].str.split(': ', 1, expand=True)\n",
    "\n",
    "# The splitting only duplicated the columns into new ones. Here we subset the dataframe with only the columns we need.\n",
    "df = df[['date_time', 'name', 'text']]\n",
    "\n",
    "# deleting the [ in the first row\n",
    "df['date_time'] = df['date_time'].str.replace('[', '')\n",
    "\n",
    "# Deleting all none-text messages. These are group actions (e.g. Adding people to the group, changing group name, etc.)\n",
    "df = df.dropna(subset=['text'])\n",
    "\n",
    "df.head()"
   ]
  },
  {
   "cell_type": "markdown",
   "metadata": {},
   "source": [
    "_**<font color='red'>Data cleared</font>**_\n",
    "\n",
    "\n",
    "It already looks pretty good. But there's still some trouble with the names as you can see. Let's look at this more thorough."
   ]
  },
  {
   "cell_type": "code",
   "execution_count": null,
   "metadata": {},
   "outputs": [],
   "source": [
    "# Showing all the unique values of the column \"name\"\n",
    "df.name.unique()"
   ]
  },
  {
   "cell_type": "markdown",
   "metadata": {},
   "source": [
    "_**<font color='red'>Data cleared</font>**_\n"
   ]
  },
  {
   "cell_type": "code",
   "execution_count": null,
   "metadata": {},
   "outputs": [],
   "source": [
    "# counting the different names. \n",
    "df['name'].value_counts().head(20)"
   ]
  },
  {
   "cell_type": "markdown",
   "metadata": {},
   "source": [
    "_**<font color='red'>Data cleared</font>**_\n",
    "\n",
    "\n",
    "\n",
    "We see a lot of people in the dataset. There are only 11 guys in the group chat. Why is this?\n",
    "- Some people have had different phone numbers over the years. These are noticed by (oud) after the name or as just a number.\n",
    "- Some people are not in the chat anymore.\n",
    "- There are a lot of \"group actions\" that happened over the years. These are messages when (i.e.) someone is added to the group, deleted from the group or someone changed the group chat name. These messages are not structured like normal messages. Because we splitted the data on the \": \", the \"group action\" messages are beeing seen as names. They don't contain \": \" in the message.\n",
    "\n",
    "The \"group action\" messages are dropped later, since I don't see them have have much influence on the one who'll respond on normal messages. Now we can just focus on them."
   ]
  },
  {
   "cell_type": "code",
   "execution_count": null,
   "metadata": {},
   "outputs": [],
   "source": [
    "# To have 11 unique values, change some values with the replace function.\n",
    "# The phone numbers look a little bit different, the system recognizes them different.\n",
    "# I found out about this with the function: df['name'].unique_values()\n",
    "df['name'] = df['name'].replace(['**DATA CLEARED**'],'Faried')\n",
    "df['name'] = df['name'].replace(['**DATA CLEARED**'],'Mel')\n",
    "df['name'] = df['name'].replace(['**DATA CLEARED**'],'Abel')\n",
    "df['name'] = df['name'].replace(['**DATA CLEARED**'],'Samson')\n",
    "df['name'] = df['name'].replace(['**DATA CLEARED**'],'Max')\n",
    "df['name'] = df['name'].replace(['**DATA CLEARED**'],'Justin')\n",
    "df['name'] = df['name'].replace(['**DATA CLEARED**'],'Daan')\n",
    "df['name'] = df['name'].replace(['**DATA CLEARED**'],'Jules')\n",
    "df['name'] = df['name'].replace(['**DATA CLEARED**'],'Ramzy')\n",
    "df['name'] = df['name'].replace(['**DATA CLEARED**'],'Rutger')\n",
    "df['name'] = df['name'].replace(['**DATA CLEARED**'],'Jules')\n",
    "df['name'] = df['name'].replace(['**DATA CLEARED**'],'Abel')\n",
    "df['name'] = df['name'].replace(['**DATA CLEARED**'],'Nicko')\n",
    "df['name'] = df['name'].replace(['**DATA CLEARED**'],'Nicko')\n",
    "df['name'] = df['name'].replace(['**DATA CLEARED**'],'Rutger')\n",
    "\n",
    "# We only need the names of the \"guys\" who are in the chat today, because only they are still relevant.\n",
    "df = df.loc[(df['name'] == 'Faried') | (df['name'] == 'Mel') | (df['name'] == 'Abel') | (df['name'] == 'Samson') | (df['name'] == 'Max') | (df['name'] == 'Justin') | (df['name'] == 'Daan') | (df['name'] == 'Jules') | (df['name'] == 'Ramzy') | (df['name'] == 'Rutger') | (df['name'] == 'Nicko')]\n",
    "\n",
    "# Lets reset the index to have a more structured dataframe.\n",
    "df = df.reset_index()\n",
    "\n",
    "df"
   ]
  },
  {
   "cell_type": "markdown",
   "metadata": {},
   "source": [
    "_**<font color='red'>Data cleared</font>**_\n",
    "\n"
   ]
  },
  {
   "cell_type": "markdown",
   "metadata": {},
   "source": [
    "It already looks way better! We can also see some emoticons (which I will call emojis) there, let's extract them from the dataframe and add them to a new column.\n",
    "\n",
    "*In the end stages running the code took a while on a laptop. So I switched to a (Windows) pc, but Windows didn't run the next piece of code. I had to download an extra package and didn't had space (wasn't my pc). So the next part I could only do on my MacBook. That's the reason I work from another .csv-file after.*"
   ]
  },
  {
   "cell_type": "code",
   "execution_count": 241,
   "metadata": {},
   "outputs": [
    {
     "data": {
      "text/html": [
       "<div>\n",
       "<style scoped>\n",
       "    .dataframe tbody tr th:only-of-type {\n",
       "        vertical-align: middle;\n",
       "    }\n",
       "\n",
       "    .dataframe tbody tr th {\n",
       "        vertical-align: top;\n",
       "    }\n",
       "\n",
       "    .dataframe thead th {\n",
       "        text-align: right;\n",
       "    }\n",
       "</style>\n",
       "<table border=\"1\" class=\"dataframe\">\n",
       "  <thead>\n",
       "    <tr style=\"text-align: right;\">\n",
       "      <th></th>\n",
       "      <th>date_time</th>\n",
       "      <th>name</th>\n",
       "      <th>text</th>\n",
       "      <th>emojis</th>\n",
       "    </tr>\n",
       "  </thead>\n",
       "  <tbody>\n",
       "    <tr>\n",
       "      <th>0</th>\n",
       "      <td>10-05-2014 19:36:39</td>\n",
       "      <td>Faried</td>\n",
       "      <td>zemmeks</td>\n",
       "      <td>[]</td>\n",
       "    </tr>\n",
       "    <tr>\n",
       "      <th>1</th>\n",
       "      <td>10-05-2014 19:36:41</td>\n",
       "      <td>Faried</td>\n",
       "      <td>jajaja</td>\n",
       "      <td>[]</td>\n",
       "    </tr>\n",
       "    <tr>\n",
       "      <th>2</th>\n",
       "      <td>10-05-2014 19:36:45</td>\n",
       "      <td>Faried</td>\n",
       "      <td>nieuwe iphone</td>\n",
       "      <td>[]</td>\n",
       "    </tr>\n",
       "    <tr>\n",
       "      <th>3</th>\n",
       "      <td>10-05-2014 19:36:48</td>\n",
       "      <td>Faried</td>\n",
       "      <td>zonder barst</td>\n",
       "      <td>[]</td>\n",
       "    </tr>\n",
       "    <tr>\n",
       "      <th>4</th>\n",
       "      <td>10-05-2014 21:55:52</td>\n",
       "      <td>Justin</td>\n",
       "      <td>gaan mensen nog aus</td>\n",
       "      <td>[]</td>\n",
       "    </tr>\n",
       "  </tbody>\n",
       "</table>\n",
       "</div>"
      ],
      "text/plain": [
       "             date_time    name                 text emojis\n",
       "0  10-05-2014 19:36:39  Faried              zemmeks     []\n",
       "1  10-05-2014 19:36:41  Faried               jajaja     []\n",
       "2  10-05-2014 19:36:45  Faried        nieuwe iphone     []\n",
       "3  10-05-2014 19:36:48  Faried         zonder barst     []\n",
       "4  10-05-2014 21:55:52  Justin  gaan mensen nog aus     []"
      ]
     },
     "execution_count": 241,
     "metadata": {},
     "output_type": "execute_result"
    }
   ],
   "source": [
    "# What I do here is extracting al emojis in a list.\n",
    "# The extracted list gives a dictionary with all kinds of information.\n",
    "# The first column is a list of the extracted emojis of each row \n",
    "# Then make it a pandas Series so we can add it to the df later.\n",
    "\n",
    "# import advertools as adv\n",
    "\n",
    "# t_emo = adv.extract_emoji(df['text'])\n",
    "# t_emo = t_emo.pop('emoji')\n",
    "# t_emo = pd.Series(t_emo, name='emojis')\n",
    "# df = pd.concat([df, t_emo], axis=1)\n",
    "\n",
    "# importing the new data. add converters so it sees the \"emojis\" columns as lists\n",
    "df = pd.read_csv('chat-emoji.csv', encoding='utf-8', converters={'emojis': eval})\n",
    "df.head()"
   ]
  },
  {
   "cell_type": "markdown",
   "metadata": {},
   "source": [
    "We finally need one more thing, the Y variable. This is the thing that we want to predict. It's the name value of the row after/below the current row. We can easily grap it with the *.shift* function."
   ]
  },
  {
   "cell_type": "code",
   "execution_count": null,
   "metadata": {},
   "outputs": [],
   "source": [
    "df['responder'] = df['name'].shift(-1)\n",
    "\n",
    "df"
   ]
  },
  {
   "cell_type": "markdown",
   "metadata": {},
   "source": [
    "_**<font color='red'>Data cleared</font>**_\n",
    "\n"
   ]
  },
  {
   "cell_type": "code",
   "execution_count": 243,
   "metadata": {},
   "outputs": [
    {
     "data": {
      "text/plain": [
       "Faried    99597\n",
       "Mel       79305\n",
       "Abel      61406\n",
       "Samson    47096\n",
       "Max       23827\n",
       "Justin    18335\n",
       "Daan      16127\n",
       "Jules     16006\n",
       "Ramzy     12987\n",
       "Rutger    11601\n",
       "Nicko      2083\n",
       "Name: name, dtype: int64"
      ]
     },
     "execution_count": 243,
     "metadata": {},
     "output_type": "execute_result"
    }
   ],
   "source": [
    "df['name'].value_counts()"
   ]
  },
  {
   "cell_type": "markdown",
   "metadata": {},
   "source": [
    "So this looks already pretty good from the data we got from Whatsapp. I we finally have **388370 messages** of **11 people** in **6,5 years**"
   ]
  },
  {
   "cell_type": "markdown",
   "metadata": {},
   "source": [
    "## Part II: Feature engineering\n",
    "\n",
    "Whatsapp gave us very little variables we could clean. So I had to come up with new variables that could have an impact on the results. We will add them one by one."
   ]
  },
  {
   "cell_type": "markdown",
   "metadata": {},
   "source": [
    "#### Content variables\n",
    "First lets evaluate the text in the message. What kind of message is it? And how long is the message?\n",
    "\n",
    "We want to know:\n",
    "- How many characters does the message contain?\n",
    "- How many words does the message contain?\n",
    "- Does the message contain a link?\n",
    "- Does the message contain an image?\n",
    "- Does the message contain an audio file?"
   ]
  },
  {
   "cell_type": "code",
   "execution_count": 244,
   "metadata": {},
   "outputs": [
    {
     "data": {
      "text/html": [
       "<div>\n",
       "<style scoped>\n",
       "    .dataframe tbody tr th:only-of-type {\n",
       "        vertical-align: middle;\n",
       "    }\n",
       "\n",
       "    .dataframe tbody tr th {\n",
       "        vertical-align: top;\n",
       "    }\n",
       "\n",
       "    .dataframe thead th {\n",
       "        text-align: right;\n",
       "    }\n",
       "</style>\n",
       "<table border=\"1\" class=\"dataframe\">\n",
       "  <thead>\n",
       "    <tr style=\"text-align: right;\">\n",
       "      <th></th>\n",
       "      <th>date_time</th>\n",
       "      <th>name</th>\n",
       "      <th>text</th>\n",
       "      <th>emojis</th>\n",
       "      <th>responder</th>\n",
       "      <th>words</th>\n",
       "      <th>characters</th>\n",
       "      <th>link</th>\n",
       "      <th>img</th>\n",
       "      <th>audio</th>\n",
       "    </tr>\n",
       "  </thead>\n",
       "  <tbody>\n",
       "    <tr>\n",
       "      <th>0</th>\n",
       "      <td>10-05-2014 19:36:39</td>\n",
       "      <td>Faried</td>\n",
       "      <td>zemmeks</td>\n",
       "      <td>[]</td>\n",
       "      <td>Faried</td>\n",
       "      <td>1</td>\n",
       "      <td>7</td>\n",
       "      <td>0</td>\n",
       "      <td>0</td>\n",
       "      <td>0</td>\n",
       "    </tr>\n",
       "    <tr>\n",
       "      <th>1</th>\n",
       "      <td>10-05-2014 19:36:41</td>\n",
       "      <td>Faried</td>\n",
       "      <td>jajaja</td>\n",
       "      <td>[]</td>\n",
       "      <td>Faried</td>\n",
       "      <td>1</td>\n",
       "      <td>6</td>\n",
       "      <td>0</td>\n",
       "      <td>0</td>\n",
       "      <td>0</td>\n",
       "    </tr>\n",
       "    <tr>\n",
       "      <th>2</th>\n",
       "      <td>10-05-2014 19:36:45</td>\n",
       "      <td>Faried</td>\n",
       "      <td>nieuwe iphone</td>\n",
       "      <td>[]</td>\n",
       "      <td>Faried</td>\n",
       "      <td>2</td>\n",
       "      <td>13</td>\n",
       "      <td>0</td>\n",
       "      <td>0</td>\n",
       "      <td>0</td>\n",
       "    </tr>\n",
       "    <tr>\n",
       "      <th>3</th>\n",
       "      <td>10-05-2014 19:36:48</td>\n",
       "      <td>Faried</td>\n",
       "      <td>zonder barst</td>\n",
       "      <td>[]</td>\n",
       "      <td>Justin</td>\n",
       "      <td>2</td>\n",
       "      <td>12</td>\n",
       "      <td>0</td>\n",
       "      <td>0</td>\n",
       "      <td>0</td>\n",
       "    </tr>\n",
       "    <tr>\n",
       "      <th>4</th>\n",
       "      <td>10-05-2014 21:55:52</td>\n",
       "      <td>Justin</td>\n",
       "      <td>gaan mensen nog aus</td>\n",
       "      <td>[]</td>\n",
       "      <td>Daan</td>\n",
       "      <td>4</td>\n",
       "      <td>19</td>\n",
       "      <td>0</td>\n",
       "      <td>0</td>\n",
       "      <td>0</td>\n",
       "    </tr>\n",
       "  </tbody>\n",
       "</table>\n",
       "</div>"
      ],
      "text/plain": [
       "             date_time    name                 text emojis responder  words  \\\n",
       "0  10-05-2014 19:36:39  Faried              zemmeks     []    Faried      1   \n",
       "1  10-05-2014 19:36:41  Faried               jajaja     []    Faried      1   \n",
       "2  10-05-2014 19:36:45  Faried        nieuwe iphone     []    Faried      2   \n",
       "3  10-05-2014 19:36:48  Faried         zonder barst     []    Justin      2   \n",
       "4  10-05-2014 21:55:52  Justin  gaan mensen nog aus     []      Daan      4   \n",
       "\n",
       "   characters  link  img  audio  \n",
       "0           7     0    0      0  \n",
       "1           6     0    0      0  \n",
       "2          13     0    0      0  \n",
       "3          12     0    0      0  \n",
       "4          19     0    0      0  "
      ]
     },
     "execution_count": 244,
     "metadata": {},
     "output_type": "execute_result"
    }
   ],
   "source": [
    "df['words'] = df['text'].str.split().str.len().fillna(0).astype(int)\n",
    "df['characters'] = df['text'].str.len().fillna(0).astype(int)\n",
    "df['link'] = df['text'].str.contains('https://|http://|www.').fillna(0).astype(int)\n",
    "df['img'] = df['text'].str.contains(\"afbeelding weggelaten\").fillna(0).astype(int)\n",
    "df['audio'] = df['text'].str.contains(\"audio weggelaten\").fillna(0).astype(int)\n",
    "\n",
    "df.head()"
   ]
  },
  {
   "cell_type": "markdown",
   "metadata": {},
   "source": [
    "#### Adding time\n",
    "\n",
    "The first variables we're going to create are the time variables. The different dates on itself don't have much value, so we need to categorize them.\n",
    "\n",
    "What we do want is:\n",
    "- Day\n",
    "- Period of day\n",
    "- Season"
   ]
  },
  {
   "cell_type": "code",
   "execution_count": 245,
   "metadata": {},
   "outputs": [
    {
     "data": {
      "text/html": [
       "<div>\n",
       "<style scoped>\n",
       "    .dataframe tbody tr th:only-of-type {\n",
       "        vertical-align: middle;\n",
       "    }\n",
       "\n",
       "    .dataframe tbody tr th {\n",
       "        vertical-align: top;\n",
       "    }\n",
       "\n",
       "    .dataframe thead th {\n",
       "        text-align: right;\n",
       "    }\n",
       "</style>\n",
       "<table border=\"1\" class=\"dataframe\">\n",
       "  <thead>\n",
       "    <tr style=\"text-align: right;\">\n",
       "      <th></th>\n",
       "      <th>date_time</th>\n",
       "      <th>name</th>\n",
       "      <th>text</th>\n",
       "      <th>emojis</th>\n",
       "      <th>responder</th>\n",
       "      <th>words</th>\n",
       "      <th>characters</th>\n",
       "      <th>link</th>\n",
       "      <th>img</th>\n",
       "      <th>audio</th>\n",
       "      <th>day</th>\n",
       "      <th>period</th>\n",
       "      <th>season</th>\n",
       "    </tr>\n",
       "  </thead>\n",
       "  <tbody>\n",
       "    <tr>\n",
       "      <th>0</th>\n",
       "      <td>2014-05-10 19:36:39</td>\n",
       "      <td>Faried</td>\n",
       "      <td>zemmeks</td>\n",
       "      <td>[]</td>\n",
       "      <td>Faried</td>\n",
       "      <td>1</td>\n",
       "      <td>7</td>\n",
       "      <td>0</td>\n",
       "      <td>0</td>\n",
       "      <td>0</td>\n",
       "      <td>Saturday</td>\n",
       "      <td>Evening</td>\n",
       "      <td>Spring</td>\n",
       "    </tr>\n",
       "    <tr>\n",
       "      <th>1</th>\n",
       "      <td>2014-05-10 19:36:41</td>\n",
       "      <td>Faried</td>\n",
       "      <td>jajaja</td>\n",
       "      <td>[]</td>\n",
       "      <td>Faried</td>\n",
       "      <td>1</td>\n",
       "      <td>6</td>\n",
       "      <td>0</td>\n",
       "      <td>0</td>\n",
       "      <td>0</td>\n",
       "      <td>Saturday</td>\n",
       "      <td>Evening</td>\n",
       "      <td>Spring</td>\n",
       "    </tr>\n",
       "    <tr>\n",
       "      <th>2</th>\n",
       "      <td>2014-05-10 19:36:45</td>\n",
       "      <td>Faried</td>\n",
       "      <td>nieuwe iphone</td>\n",
       "      <td>[]</td>\n",
       "      <td>Faried</td>\n",
       "      <td>2</td>\n",
       "      <td>13</td>\n",
       "      <td>0</td>\n",
       "      <td>0</td>\n",
       "      <td>0</td>\n",
       "      <td>Saturday</td>\n",
       "      <td>Evening</td>\n",
       "      <td>Spring</td>\n",
       "    </tr>\n",
       "    <tr>\n",
       "      <th>3</th>\n",
       "      <td>2014-05-10 19:36:48</td>\n",
       "      <td>Faried</td>\n",
       "      <td>zonder barst</td>\n",
       "      <td>[]</td>\n",
       "      <td>Justin</td>\n",
       "      <td>2</td>\n",
       "      <td>12</td>\n",
       "      <td>0</td>\n",
       "      <td>0</td>\n",
       "      <td>0</td>\n",
       "      <td>Saturday</td>\n",
       "      <td>Evening</td>\n",
       "      <td>Spring</td>\n",
       "    </tr>\n",
       "    <tr>\n",
       "      <th>4</th>\n",
       "      <td>2014-05-10 21:55:52</td>\n",
       "      <td>Justin</td>\n",
       "      <td>gaan mensen nog aus</td>\n",
       "      <td>[]</td>\n",
       "      <td>Daan</td>\n",
       "      <td>4</td>\n",
       "      <td>19</td>\n",
       "      <td>0</td>\n",
       "      <td>0</td>\n",
       "      <td>0</td>\n",
       "      <td>Saturday</td>\n",
       "      <td>Night</td>\n",
       "      <td>Spring</td>\n",
       "    </tr>\n",
       "  </tbody>\n",
       "</table>\n",
       "</div>"
      ],
      "text/plain": [
       "            date_time    name                 text emojis responder  words  \\\n",
       "0 2014-05-10 19:36:39  Faried              zemmeks     []    Faried      1   \n",
       "1 2014-05-10 19:36:41  Faried               jajaja     []    Faried      1   \n",
       "2 2014-05-10 19:36:45  Faried        nieuwe iphone     []    Faried      2   \n",
       "3 2014-05-10 19:36:48  Faried         zonder barst     []    Justin      2   \n",
       "4 2014-05-10 21:55:52  Justin  gaan mensen nog aus     []      Daan      4   \n",
       "\n",
       "   characters  link  img  audio       day   period  season  \n",
       "0           7     0    0      0  Saturday  Evening  Spring  \n",
       "1           6     0    0      0  Saturday  Evening  Spring  \n",
       "2          13     0    0      0  Saturday  Evening  Spring  \n",
       "3          12     0    0      0  Saturday  Evening  Spring  \n",
       "4          19     0    0      0  Saturday    Night  Spring  "
      ]
     },
     "execution_count": 245,
     "metadata": {},
     "output_type": "execute_result"
    }
   ],
   "source": [
    "# First we need to tell the system how our date/time is formatted\n",
    "df['date_time'] = pd.to_datetime(df.date_time, format='%d-%m-%Y %H:%M:%S', errors='coerce')\n",
    "\n",
    "# With this function we can find out which day of the week a certain date is\n",
    "df['day'] = df['date_time'].dt.strftime('%A')\n",
    "\n",
    "# Now we're deciding the period of the day based on the hour. We give it a number to the 6 periods. The formula is: (hour + 4) / 4\n",
    "# because of we create 6 periods we can be more specific on the time of the day.\n",
    "# we add the +4 to the hour so that we can give 00:00h the value 1 (instead of 0) and 23:00h the value 6 (instead of 5)\n",
    "# otherwise the formula wouldn't be evenly divided.\n",
    "df['period'] = (df['date_time'].dt.hour % 24 + 4) // 4  # https://stackoverflow.com/questions/55571311/get-part-of-day-morning-afternoon-evening-night-in-python-dataframe\n",
    "df['period'].replace({1: 'Late Night',\n",
    "                      2: 'Early Morning',\n",
    "                      3: 'Morning',\n",
    "                      4: 'Noon',\n",
    "                      5: 'Evening',\n",
    "                      6: 'Night'}, inplace=True)\n",
    "\n",
    "# We do the same for the seasons. There are 4 seasons so we need to divide the months by 3 (12/3=4)\n",
    "# Unlike the hours, the months start with 1 instead of 0. This is okay, because winter starts in December and ends in February (12, 1, 2)\n",
    "df['season'] = (df['date_time'].dt.month + 3) // 3\n",
    "df['season'].replace({1: 'Winter',\n",
    "                      2: 'Spring',\n",
    "                      3: 'Summer',\n",
    "                      4: 'Fall',\n",
    "                      5: 'Winter'}, inplace=True)\n",
    "\n",
    "df.head()"
   ]
  },
  {
   "cell_type": "markdown",
   "metadata": {},
   "source": [
    "#### Who are in the conversation?\n",
    "It is more likely that somebody who already sent a message, will respond. For example: \n",
    "\n",
    "*Person A: Hey how are you guys doing?*\n",
    "\n",
    "*Person B: Great how are you?*\n",
    "\n",
    "*Person A: Doing great!*\n",
    "\n",
    "I experimented with different amounts. The higher I went, the higher the prediction percentage went from people with more messages, but people with less messages got a lower percentage. To have a good balance I finally concluded that to look at the 10 messages before would be most benificial."
   ]
  },
  {
   "cell_type": "code",
   "execution_count": 246,
   "metadata": {},
   "outputs": [],
   "source": [
    "df['before_1mes'] = df['name'].shift(1)\n",
    "df['before_2mes'] = df['name'].shift(2)\n",
    "df['before_3mes'] = df['name'].shift(3)\n",
    "df['before_4mes'] = df['name'].shift(4)\n",
    "df['before_5mes'] = df['name'].shift(5)\n",
    "df['before_6mes'] = df['name'].shift(6)\n",
    "df['before_7mes'] = df['name'].shift(7)\n",
    "df['before_8mes'] = df['name'].shift(8)\n",
    "df['before_9mes'] = df['name'].shift(9)\n",
    "df['before_10mes'] = df['name'].shift(10)"
   ]
  },
  {
   "cell_type": "markdown",
   "metadata": {},
   "source": [
    "A comment here that could be made is: 10 messages before a certain message won't always be the same conversation. It could be hours before, or even the day before. But in my own experience, when there are conversations in the chat, they are more than 10 messages and the conversation goes on and on. That's probably why the precision went up when we added more people. But, to be more secure I wanted to get all the people of * 15 minutes * before. I tried that with the folowwing code, but I struggled to get it to work. Maybe if I go  back to this later!"
   ]
  },
  {
   "cell_type": "code",
   "execution_count": 247,
   "metadata": {},
   "outputs": [],
   "source": [
    "# from datetime import datetime\n",
    "\n",
    "# df.reset_index()\n",
    "# prec_row_num = df['index']\n",
    "# output =  [False for cnt in len(df['name'])] \n",
    "# time_of_interest_minutes = 15\n",
    "\n",
    "# while prec_row_num > 0:\n",
    "#    prec_row_num = prec_row_num-1\n",
    "#    dtime = datetime.strptime(msg_list[prec_row_num, date_time], '%m-%d-%Y %H:%M:%S') - datetime.strptime(msg_list[row_mum, date_time], '%m-%d-%Y %H:%M:%S')\n",
    "#    if dtime.seconds//60 < time_of_interest_minutes:\n",
    "#       output[name_list.index(msg_list[prec_row_num,name])] = True\n",
    "#    else:\n",
    "#       break"
   ]
  },
  {
   "cell_type": "markdown",
   "metadata": {},
   "source": [
    "#### How many emojis are in the text?\n",
    "\n",
    "We can add how many emojis there are in the text. Some people seemed to respond more to emojis than others. We can easily count the amount of list items in the \"emojis\" column."
   ]
  },
  {
   "cell_type": "code",
   "execution_count": 248,
   "metadata": {},
   "outputs": [],
   "source": [
    "df['emoji_count'] = df['emojis'].str.len()"
   ]
  },
  {
   "cell_type": "markdown",
   "metadata": {},
   "source": [
    "#### Sentiment\n",
    "After a lot of searching and trying I got a Dutch sentiment analyzer. The first number is the polarity, running from -1 till 1 (from negative to positive). The second number is the subjectivity, running from 0 to 1."
   ]
  },
  {
   "cell_type": "code",
   "execution_count": 249,
   "metadata": {},
   "outputs": [],
   "source": [
    "# from pattern.nl import sentiment\n",
    "        \n",
    "# def senti(x):\n",
    "#     return sentiment(x)\n",
    "\n",
    "# df['senti_score'] = df['text'].apply(senti)\n",
    "\n",
    "# df.senti_score.head()\n",
    "\n",
    "# df['senti_score'] = df['senti_score'].str.replace(\"(\", \"\")\n",
    "# df[['pol']] = df['senti_score'].str.split(', ')\n",
    "# df.head()"
   ]
  },
  {
   "cell_type": "markdown",
   "metadata": {},
   "source": [
    "#### Waiting time\n",
    "So when you ask: \"Who will respond after the message?\", a huge component is the time. Are we talking about 1 minute after? Or is the conversation already over and an hour went by. I thought it was a fair variable to add to the dataset. So I categorized the number of seconds."
   ]
  },
  {
   "cell_type": "code",
   "execution_count": 250,
   "metadata": {},
   "outputs": [
    {
     "data": {
      "text/html": [
       "<div>\n",
       "<style scoped>\n",
       "    .dataframe tbody tr th:only-of-type {\n",
       "        vertical-align: middle;\n",
       "    }\n",
       "\n",
       "    .dataframe tbody tr th {\n",
       "        vertical-align: top;\n",
       "    }\n",
       "\n",
       "    .dataframe thead th {\n",
       "        text-align: right;\n",
       "    }\n",
       "</style>\n",
       "<table border=\"1\" class=\"dataframe\">\n",
       "  <thead>\n",
       "    <tr style=\"text-align: right;\">\n",
       "      <th></th>\n",
       "      <th>date_time</th>\n",
       "      <th>name</th>\n",
       "      <th>text</th>\n",
       "      <th>emojis</th>\n",
       "      <th>responder</th>\n",
       "      <th>words</th>\n",
       "      <th>characters</th>\n",
       "      <th>link</th>\n",
       "      <th>img</th>\n",
       "      <th>audio</th>\n",
       "      <th>...</th>\n",
       "      <th>before_3mes</th>\n",
       "      <th>before_4mes</th>\n",
       "      <th>before_5mes</th>\n",
       "      <th>before_6mes</th>\n",
       "      <th>before_7mes</th>\n",
       "      <th>before_8mes</th>\n",
       "      <th>before_9mes</th>\n",
       "      <th>before_10mes</th>\n",
       "      <th>emoji_count</th>\n",
       "      <th>wait_time</th>\n",
       "    </tr>\n",
       "  </thead>\n",
       "  <tbody>\n",
       "    <tr>\n",
       "      <th>0</th>\n",
       "      <td>2014-05-10 19:36:39</td>\n",
       "      <td>Faried</td>\n",
       "      <td>zemmeks</td>\n",
       "      <td>[]</td>\n",
       "      <td>Faried</td>\n",
       "      <td>1</td>\n",
       "      <td>7</td>\n",
       "      <td>0</td>\n",
       "      <td>0</td>\n",
       "      <td>0</td>\n",
       "      <td>...</td>\n",
       "      <td>NaN</td>\n",
       "      <td>NaN</td>\n",
       "      <td>NaN</td>\n",
       "      <td>NaN</td>\n",
       "      <td>NaN</td>\n",
       "      <td>NaN</td>\n",
       "      <td>NaN</td>\n",
       "      <td>NaN</td>\n",
       "      <td>0</td>\n",
       "      <td>1min</td>\n",
       "    </tr>\n",
       "    <tr>\n",
       "      <th>1</th>\n",
       "      <td>2014-05-10 19:36:41</td>\n",
       "      <td>Faried</td>\n",
       "      <td>jajaja</td>\n",
       "      <td>[]</td>\n",
       "      <td>Faried</td>\n",
       "      <td>1</td>\n",
       "      <td>6</td>\n",
       "      <td>0</td>\n",
       "      <td>0</td>\n",
       "      <td>0</td>\n",
       "      <td>...</td>\n",
       "      <td>NaN</td>\n",
       "      <td>NaN</td>\n",
       "      <td>NaN</td>\n",
       "      <td>NaN</td>\n",
       "      <td>NaN</td>\n",
       "      <td>NaN</td>\n",
       "      <td>NaN</td>\n",
       "      <td>NaN</td>\n",
       "      <td>0</td>\n",
       "      <td>1min</td>\n",
       "    </tr>\n",
       "    <tr>\n",
       "      <th>2</th>\n",
       "      <td>2014-05-10 19:36:45</td>\n",
       "      <td>Faried</td>\n",
       "      <td>nieuwe iphone</td>\n",
       "      <td>[]</td>\n",
       "      <td>Faried</td>\n",
       "      <td>2</td>\n",
       "      <td>13</td>\n",
       "      <td>0</td>\n",
       "      <td>0</td>\n",
       "      <td>0</td>\n",
       "      <td>...</td>\n",
       "      <td>NaN</td>\n",
       "      <td>NaN</td>\n",
       "      <td>NaN</td>\n",
       "      <td>NaN</td>\n",
       "      <td>NaN</td>\n",
       "      <td>NaN</td>\n",
       "      <td>NaN</td>\n",
       "      <td>NaN</td>\n",
       "      <td>0</td>\n",
       "      <td>1min</td>\n",
       "    </tr>\n",
       "    <tr>\n",
       "      <th>3</th>\n",
       "      <td>2014-05-10 19:36:48</td>\n",
       "      <td>Faried</td>\n",
       "      <td>zonder barst</td>\n",
       "      <td>[]</td>\n",
       "      <td>Justin</td>\n",
       "      <td>2</td>\n",
       "      <td>12</td>\n",
       "      <td>0</td>\n",
       "      <td>0</td>\n",
       "      <td>0</td>\n",
       "      <td>...</td>\n",
       "      <td>Faried</td>\n",
       "      <td>NaN</td>\n",
       "      <td>NaN</td>\n",
       "      <td>NaN</td>\n",
       "      <td>NaN</td>\n",
       "      <td>NaN</td>\n",
       "      <td>NaN</td>\n",
       "      <td>NaN</td>\n",
       "      <td>0</td>\n",
       "      <td>1h+</td>\n",
       "    </tr>\n",
       "    <tr>\n",
       "      <th>4</th>\n",
       "      <td>2014-05-10 21:55:52</td>\n",
       "      <td>Justin</td>\n",
       "      <td>gaan mensen nog aus</td>\n",
       "      <td>[]</td>\n",
       "      <td>Daan</td>\n",
       "      <td>4</td>\n",
       "      <td>19</td>\n",
       "      <td>0</td>\n",
       "      <td>0</td>\n",
       "      <td>0</td>\n",
       "      <td>...</td>\n",
       "      <td>Faried</td>\n",
       "      <td>Faried</td>\n",
       "      <td>NaN</td>\n",
       "      <td>NaN</td>\n",
       "      <td>NaN</td>\n",
       "      <td>NaN</td>\n",
       "      <td>NaN</td>\n",
       "      <td>NaN</td>\n",
       "      <td>0</td>\n",
       "      <td>5m</td>\n",
       "    </tr>\n",
       "  </tbody>\n",
       "</table>\n",
       "<p>5 rows × 25 columns</p>\n",
       "</div>"
      ],
      "text/plain": [
       "            date_time    name                 text emojis responder  words  \\\n",
       "0 2014-05-10 19:36:39  Faried              zemmeks     []    Faried      1   \n",
       "1 2014-05-10 19:36:41  Faried               jajaja     []    Faried      1   \n",
       "2 2014-05-10 19:36:45  Faried        nieuwe iphone     []    Faried      2   \n",
       "3 2014-05-10 19:36:48  Faried         zonder barst     []    Justin      2   \n",
       "4 2014-05-10 21:55:52  Justin  gaan mensen nog aus     []      Daan      4   \n",
       "\n",
       "   characters  link  img  audio  ... before_3mes before_4mes before_5mes  \\\n",
       "0           7     0    0      0  ...         NaN         NaN         NaN   \n",
       "1           6     0    0      0  ...         NaN         NaN         NaN   \n",
       "2          13     0    0      0  ...         NaN         NaN         NaN   \n",
       "3          12     0    0      0  ...      Faried         NaN         NaN   \n",
       "4          19     0    0      0  ...      Faried      Faried         NaN   \n",
       "\n",
       "  before_6mes before_7mes before_8mes before_9mes before_10mes emoji_count  \\\n",
       "0         NaN         NaN         NaN         NaN          NaN           0   \n",
       "1         NaN         NaN         NaN         NaN          NaN           0   \n",
       "2         NaN         NaN         NaN         NaN          NaN           0   \n",
       "3         NaN         NaN         NaN         NaN          NaN           0   \n",
       "4         NaN         NaN         NaN         NaN          NaN           0   \n",
       "\n",
       "  wait_time  \n",
       "0      1min  \n",
       "1      1min  \n",
       "2      1min  \n",
       "3       1h+  \n",
       "4        5m  \n",
       "\n",
       "[5 rows x 25 columns]"
      ]
     },
     "execution_count": 250,
     "metadata": {},
     "output_type": "execute_result"
    }
   ],
   "source": [
    "df['wait_time'] = (df[[\"date_time\"]].shift(-1) - df[[\"date_time\"]])\n",
    "df['wait_time'] = df['wait_time'].dt.total_seconds()\n",
    "\n",
    "def classifier(row):\n",
    "        if row[\"wait_time\"] < 60:\n",
    "                return \"1min\"\n",
    "        elif row[\"wait_time\"] < 300:\n",
    "                return \"5m\"\n",
    "        elif row[\"wait_time\"] < 600:\n",
    "                return \"10m\"\n",
    "        elif row[\"wait_time\"] < 900:\n",
    "                return \"15m\"\n",
    "        elif row[\"wait_time\"] < 1800:\n",
    "                return \"30m\"\n",
    "        elif row[\"wait_time\"] < 3600:\n",
    "                return \"1h\"\n",
    "        else:\n",
    "                return \"1h+\"\n",
    "    \n",
    "df[\"wait_time\"] = df.apply(classifier, axis=1)\n",
    "\n",
    "df.head()"
   ]
  },
  {
   "cell_type": "markdown",
   "metadata": {},
   "source": [
    "## Part III: Descriptive Analysis"
   ]
  },
  {
   "cell_type": "markdown",
   "metadata": {},
   "source": [
    "So now, let's look at the data and how we can interpret it. We have **388370 messages** of **11 people** in **6,5 years**. We came up with certain features based on some of these graphs.\n",
    "\n",
    "Let's start with looking at a basic line graph of the messages per month."
   ]
  },
  {
   "cell_type": "code",
   "execution_count": 327,
   "metadata": {
    "scrolled": false
   },
   "outputs": [
    {
     "data": {
      "application/vnd.plotly.v1+json": {
       "config": {
        "plotlyServerURL": "https://plot.ly"
       },
       "data": [
        {
         "hovertemplate": "date_time=%{x}<br>count=%{y}<extra></extra>",
         "legendgroup": "",
         "line": {
          "color": "#636efa",
          "dash": "solid"
         },
         "mode": "lines",
         "name": "",
         "orientation": "v",
         "showlegend": false,
         "type": "scatter",
         "x": [
          "2014-05-31T00:00:00",
          "2014-06-30T00:00:00",
          "2014-07-31T00:00:00",
          "2014-08-31T00:00:00",
          "2014-09-30T00:00:00",
          "2014-10-31T00:00:00",
          "2014-11-30T00:00:00",
          "2014-12-31T00:00:00",
          "2015-01-31T00:00:00",
          "2015-02-28T00:00:00",
          "2015-03-31T00:00:00",
          "2015-04-30T00:00:00",
          "2015-05-31T00:00:00",
          "2015-06-30T00:00:00",
          "2015-07-31T00:00:00",
          "2015-08-31T00:00:00",
          "2015-09-30T00:00:00",
          "2015-10-31T00:00:00",
          "2015-11-30T00:00:00",
          "2015-12-31T00:00:00",
          "2016-01-31T00:00:00",
          "2016-02-29T00:00:00",
          "2016-03-31T00:00:00",
          "2016-04-30T00:00:00",
          "2016-05-31T00:00:00",
          "2016-06-30T00:00:00",
          "2016-07-31T00:00:00",
          "2016-08-31T00:00:00",
          "2016-09-30T00:00:00",
          "2016-10-31T00:00:00",
          "2016-11-30T00:00:00",
          "2016-12-31T00:00:00",
          "2017-01-31T00:00:00",
          "2017-02-28T00:00:00",
          "2017-03-31T00:00:00",
          "2017-04-30T00:00:00",
          "2017-05-31T00:00:00",
          "2017-06-30T00:00:00",
          "2017-07-31T00:00:00",
          "2017-08-31T00:00:00",
          "2017-09-30T00:00:00",
          "2017-10-31T00:00:00",
          "2017-11-30T00:00:00",
          "2017-12-31T00:00:00",
          "2018-01-31T00:00:00",
          "2018-02-28T00:00:00",
          "2018-03-31T00:00:00",
          "2018-04-30T00:00:00",
          "2018-05-31T00:00:00",
          "2018-06-30T00:00:00",
          "2018-07-31T00:00:00",
          "2018-08-31T00:00:00",
          "2018-09-30T00:00:00",
          "2018-10-31T00:00:00",
          "2018-11-30T00:00:00",
          "2018-12-31T00:00:00",
          "2019-01-31T00:00:00",
          "2019-02-28T00:00:00",
          "2019-03-31T00:00:00",
          "2019-04-30T00:00:00",
          "2019-05-31T00:00:00",
          "2019-06-30T00:00:00",
          "2019-07-31T00:00:00",
          "2019-08-31T00:00:00",
          "2019-09-30T00:00:00",
          "2019-10-31T00:00:00",
          "2019-11-30T00:00:00",
          "2019-12-31T00:00:00",
          "2020-01-31T00:00:00",
          "2020-02-29T00:00:00",
          "2020-03-31T00:00:00",
          "2020-04-30T00:00:00",
          "2020-05-31T00:00:00",
          "2020-06-30T00:00:00",
          "2020-07-31T00:00:00",
          "2020-08-31T00:00:00",
          "2020-09-30T00:00:00",
          "2020-10-31T00:00:00",
          "2020-11-30T00:00:00",
          "2020-12-31T00:00:00",
          "2021-01-31T00:00:00"
         ],
         "xaxis": "x",
         "y": [
          2431,
          5018,
          3881,
          2106,
          2587,
          2513,
          2832,
          3513,
          5717,
          7265,
          10463,
          6719,
          8381,
          4619,
          5605,
          6171,
          3966,
          3517,
          3876,
          3970,
          3975,
          2869,
          8381,
          8763,
          5851,
          7455,
          6658,
          6511,
          4859,
          3763,
          4795,
          6129,
          4078,
          3073,
          5848,
          6894,
          9088,
          10424,
          6732,
          7708,
          8794,
          6287,
          6101,
          8448,
          6983,
          5647,
          6265,
          5832,
          4515,
          6016,
          5253,
          4030,
          4113,
          3630,
          3246,
          3371,
          2748,
          2606,
          4495,
          4814,
          2984,
          3560,
          2534,
          3190,
          2737,
          2714,
          2839,
          3187,
          2340,
          2387,
          3986,
          1580,
          2204,
          3971,
          3554,
          3851,
          4064,
          4076,
          4876,
          4283,
          1252
         ],
         "yaxis": "y"
        }
       ],
       "layout": {
        "legend": {
         "tracegroupgap": 0
        },
        "template": {
         "data": {
          "bar": [
           {
            "error_x": {
             "color": "#2a3f5f"
            },
            "error_y": {
             "color": "#2a3f5f"
            },
            "marker": {
             "line": {
              "color": "#E5ECF6",
              "width": 0.5
             }
            },
            "type": "bar"
           }
          ],
          "barpolar": [
           {
            "marker": {
             "line": {
              "color": "#E5ECF6",
              "width": 0.5
             }
            },
            "type": "barpolar"
           }
          ],
          "carpet": [
           {
            "aaxis": {
             "endlinecolor": "#2a3f5f",
             "gridcolor": "white",
             "linecolor": "white",
             "minorgridcolor": "white",
             "startlinecolor": "#2a3f5f"
            },
            "baxis": {
             "endlinecolor": "#2a3f5f",
             "gridcolor": "white",
             "linecolor": "white",
             "minorgridcolor": "white",
             "startlinecolor": "#2a3f5f"
            },
            "type": "carpet"
           }
          ],
          "choropleth": [
           {
            "colorbar": {
             "outlinewidth": 0,
             "ticks": ""
            },
            "type": "choropleth"
           }
          ],
          "contour": [
           {
            "colorbar": {
             "outlinewidth": 0,
             "ticks": ""
            },
            "colorscale": [
             [
              0,
              "#0d0887"
             ],
             [
              0.1111111111111111,
              "#46039f"
             ],
             [
              0.2222222222222222,
              "#7201a8"
             ],
             [
              0.3333333333333333,
              "#9c179e"
             ],
             [
              0.4444444444444444,
              "#bd3786"
             ],
             [
              0.5555555555555556,
              "#d8576b"
             ],
             [
              0.6666666666666666,
              "#ed7953"
             ],
             [
              0.7777777777777778,
              "#fb9f3a"
             ],
             [
              0.8888888888888888,
              "#fdca26"
             ],
             [
              1,
              "#f0f921"
             ]
            ],
            "type": "contour"
           }
          ],
          "contourcarpet": [
           {
            "colorbar": {
             "outlinewidth": 0,
             "ticks": ""
            },
            "type": "contourcarpet"
           }
          ],
          "heatmap": [
           {
            "colorbar": {
             "outlinewidth": 0,
             "ticks": ""
            },
            "colorscale": [
             [
              0,
              "#0d0887"
             ],
             [
              0.1111111111111111,
              "#46039f"
             ],
             [
              0.2222222222222222,
              "#7201a8"
             ],
             [
              0.3333333333333333,
              "#9c179e"
             ],
             [
              0.4444444444444444,
              "#bd3786"
             ],
             [
              0.5555555555555556,
              "#d8576b"
             ],
             [
              0.6666666666666666,
              "#ed7953"
             ],
             [
              0.7777777777777778,
              "#fb9f3a"
             ],
             [
              0.8888888888888888,
              "#fdca26"
             ],
             [
              1,
              "#f0f921"
             ]
            ],
            "type": "heatmap"
           }
          ],
          "heatmapgl": [
           {
            "colorbar": {
             "outlinewidth": 0,
             "ticks": ""
            },
            "colorscale": [
             [
              0,
              "#0d0887"
             ],
             [
              0.1111111111111111,
              "#46039f"
             ],
             [
              0.2222222222222222,
              "#7201a8"
             ],
             [
              0.3333333333333333,
              "#9c179e"
             ],
             [
              0.4444444444444444,
              "#bd3786"
             ],
             [
              0.5555555555555556,
              "#d8576b"
             ],
             [
              0.6666666666666666,
              "#ed7953"
             ],
             [
              0.7777777777777778,
              "#fb9f3a"
             ],
             [
              0.8888888888888888,
              "#fdca26"
             ],
             [
              1,
              "#f0f921"
             ]
            ],
            "type": "heatmapgl"
           }
          ],
          "histogram": [
           {
            "marker": {
             "colorbar": {
              "outlinewidth": 0,
              "ticks": ""
             }
            },
            "type": "histogram"
           }
          ],
          "histogram2d": [
           {
            "colorbar": {
             "outlinewidth": 0,
             "ticks": ""
            },
            "colorscale": [
             [
              0,
              "#0d0887"
             ],
             [
              0.1111111111111111,
              "#46039f"
             ],
             [
              0.2222222222222222,
              "#7201a8"
             ],
             [
              0.3333333333333333,
              "#9c179e"
             ],
             [
              0.4444444444444444,
              "#bd3786"
             ],
             [
              0.5555555555555556,
              "#d8576b"
             ],
             [
              0.6666666666666666,
              "#ed7953"
             ],
             [
              0.7777777777777778,
              "#fb9f3a"
             ],
             [
              0.8888888888888888,
              "#fdca26"
             ],
             [
              1,
              "#f0f921"
             ]
            ],
            "type": "histogram2d"
           }
          ],
          "histogram2dcontour": [
           {
            "colorbar": {
             "outlinewidth": 0,
             "ticks": ""
            },
            "colorscale": [
             [
              0,
              "#0d0887"
             ],
             [
              0.1111111111111111,
              "#46039f"
             ],
             [
              0.2222222222222222,
              "#7201a8"
             ],
             [
              0.3333333333333333,
              "#9c179e"
             ],
             [
              0.4444444444444444,
              "#bd3786"
             ],
             [
              0.5555555555555556,
              "#d8576b"
             ],
             [
              0.6666666666666666,
              "#ed7953"
             ],
             [
              0.7777777777777778,
              "#fb9f3a"
             ],
             [
              0.8888888888888888,
              "#fdca26"
             ],
             [
              1,
              "#f0f921"
             ]
            ],
            "type": "histogram2dcontour"
           }
          ],
          "mesh3d": [
           {
            "colorbar": {
             "outlinewidth": 0,
             "ticks": ""
            },
            "type": "mesh3d"
           }
          ],
          "parcoords": [
           {
            "line": {
             "colorbar": {
              "outlinewidth": 0,
              "ticks": ""
             }
            },
            "type": "parcoords"
           }
          ],
          "pie": [
           {
            "automargin": true,
            "type": "pie"
           }
          ],
          "scatter": [
           {
            "marker": {
             "colorbar": {
              "outlinewidth": 0,
              "ticks": ""
             }
            },
            "type": "scatter"
           }
          ],
          "scatter3d": [
           {
            "line": {
             "colorbar": {
              "outlinewidth": 0,
              "ticks": ""
             }
            },
            "marker": {
             "colorbar": {
              "outlinewidth": 0,
              "ticks": ""
             }
            },
            "type": "scatter3d"
           }
          ],
          "scattercarpet": [
           {
            "marker": {
             "colorbar": {
              "outlinewidth": 0,
              "ticks": ""
             }
            },
            "type": "scattercarpet"
           }
          ],
          "scattergeo": [
           {
            "marker": {
             "colorbar": {
              "outlinewidth": 0,
              "ticks": ""
             }
            },
            "type": "scattergeo"
           }
          ],
          "scattergl": [
           {
            "marker": {
             "colorbar": {
              "outlinewidth": 0,
              "ticks": ""
             }
            },
            "type": "scattergl"
           }
          ],
          "scattermapbox": [
           {
            "marker": {
             "colorbar": {
              "outlinewidth": 0,
              "ticks": ""
             }
            },
            "type": "scattermapbox"
           }
          ],
          "scatterpolar": [
           {
            "marker": {
             "colorbar": {
              "outlinewidth": 0,
              "ticks": ""
             }
            },
            "type": "scatterpolar"
           }
          ],
          "scatterpolargl": [
           {
            "marker": {
             "colorbar": {
              "outlinewidth": 0,
              "ticks": ""
             }
            },
            "type": "scatterpolargl"
           }
          ],
          "scatterternary": [
           {
            "marker": {
             "colorbar": {
              "outlinewidth": 0,
              "ticks": ""
             }
            },
            "type": "scatterternary"
           }
          ],
          "surface": [
           {
            "colorbar": {
             "outlinewidth": 0,
             "ticks": ""
            },
            "colorscale": [
             [
              0,
              "#0d0887"
             ],
             [
              0.1111111111111111,
              "#46039f"
             ],
             [
              0.2222222222222222,
              "#7201a8"
             ],
             [
              0.3333333333333333,
              "#9c179e"
             ],
             [
              0.4444444444444444,
              "#bd3786"
             ],
             [
              0.5555555555555556,
              "#d8576b"
             ],
             [
              0.6666666666666666,
              "#ed7953"
             ],
             [
              0.7777777777777778,
              "#fb9f3a"
             ],
             [
              0.8888888888888888,
              "#fdca26"
             ],
             [
              1,
              "#f0f921"
             ]
            ],
            "type": "surface"
           }
          ],
          "table": [
           {
            "cells": {
             "fill": {
              "color": "#EBF0F8"
             },
             "line": {
              "color": "white"
             }
            },
            "header": {
             "fill": {
              "color": "#C8D4E3"
             },
             "line": {
              "color": "white"
             }
            },
            "type": "table"
           }
          ]
         },
         "layout": {
          "annotationdefaults": {
           "arrowcolor": "#2a3f5f",
           "arrowhead": 0,
           "arrowwidth": 1
          },
          "autotypenumbers": "strict",
          "coloraxis": {
           "colorbar": {
            "outlinewidth": 0,
            "ticks": ""
           }
          },
          "colorscale": {
           "diverging": [
            [
             0,
             "#8e0152"
            ],
            [
             0.1,
             "#c51b7d"
            ],
            [
             0.2,
             "#de77ae"
            ],
            [
             0.3,
             "#f1b6da"
            ],
            [
             0.4,
             "#fde0ef"
            ],
            [
             0.5,
             "#f7f7f7"
            ],
            [
             0.6,
             "#e6f5d0"
            ],
            [
             0.7,
             "#b8e186"
            ],
            [
             0.8,
             "#7fbc41"
            ],
            [
             0.9,
             "#4d9221"
            ],
            [
             1,
             "#276419"
            ]
           ],
           "sequential": [
            [
             0,
             "#0d0887"
            ],
            [
             0.1111111111111111,
             "#46039f"
            ],
            [
             0.2222222222222222,
             "#7201a8"
            ],
            [
             0.3333333333333333,
             "#9c179e"
            ],
            [
             0.4444444444444444,
             "#bd3786"
            ],
            [
             0.5555555555555556,
             "#d8576b"
            ],
            [
             0.6666666666666666,
             "#ed7953"
            ],
            [
             0.7777777777777778,
             "#fb9f3a"
            ],
            [
             0.8888888888888888,
             "#fdca26"
            ],
            [
             1,
             "#f0f921"
            ]
           ],
           "sequentialminus": [
            [
             0,
             "#0d0887"
            ],
            [
             0.1111111111111111,
             "#46039f"
            ],
            [
             0.2222222222222222,
             "#7201a8"
            ],
            [
             0.3333333333333333,
             "#9c179e"
            ],
            [
             0.4444444444444444,
             "#bd3786"
            ],
            [
             0.5555555555555556,
             "#d8576b"
            ],
            [
             0.6666666666666666,
             "#ed7953"
            ],
            [
             0.7777777777777778,
             "#fb9f3a"
            ],
            [
             0.8888888888888888,
             "#fdca26"
            ],
            [
             1,
             "#f0f921"
            ]
           ]
          },
          "colorway": [
           "#636efa",
           "#EF553B",
           "#00cc96",
           "#ab63fa",
           "#FFA15A",
           "#19d3f3",
           "#FF6692",
           "#B6E880",
           "#FF97FF",
           "#FECB52"
          ],
          "font": {
           "color": "#2a3f5f"
          },
          "geo": {
           "bgcolor": "white",
           "lakecolor": "white",
           "landcolor": "#E5ECF6",
           "showlakes": true,
           "showland": true,
           "subunitcolor": "white"
          },
          "hoverlabel": {
           "align": "left"
          },
          "hovermode": "closest",
          "mapbox": {
           "style": "light"
          },
          "paper_bgcolor": "white",
          "plot_bgcolor": "#E5ECF6",
          "polar": {
           "angularaxis": {
            "gridcolor": "white",
            "linecolor": "white",
            "ticks": ""
           },
           "bgcolor": "#E5ECF6",
           "radialaxis": {
            "gridcolor": "white",
            "linecolor": "white",
            "ticks": ""
           }
          },
          "scene": {
           "xaxis": {
            "backgroundcolor": "#E5ECF6",
            "gridcolor": "white",
            "gridwidth": 2,
            "linecolor": "white",
            "showbackground": true,
            "ticks": "",
            "zerolinecolor": "white"
           },
           "yaxis": {
            "backgroundcolor": "#E5ECF6",
            "gridcolor": "white",
            "gridwidth": 2,
            "linecolor": "white",
            "showbackground": true,
            "ticks": "",
            "zerolinecolor": "white"
           },
           "zaxis": {
            "backgroundcolor": "#E5ECF6",
            "gridcolor": "white",
            "gridwidth": 2,
            "linecolor": "white",
            "showbackground": true,
            "ticks": "",
            "zerolinecolor": "white"
           }
          },
          "shapedefaults": {
           "line": {
            "color": "#2a3f5f"
           }
          },
          "ternary": {
           "aaxis": {
            "gridcolor": "white",
            "linecolor": "white",
            "ticks": ""
           },
           "baxis": {
            "gridcolor": "white",
            "linecolor": "white",
            "ticks": ""
           },
           "bgcolor": "#E5ECF6",
           "caxis": {
            "gridcolor": "white",
            "linecolor": "white",
            "ticks": ""
           }
          },
          "title": {
           "x": 0.05
          },
          "xaxis": {
           "automargin": true,
           "gridcolor": "white",
           "linecolor": "white",
           "ticks": "",
           "title": {
            "standoff": 15
           },
           "zerolinecolor": "white",
           "zerolinewidth": 2
          },
          "yaxis": {
           "automargin": true,
           "gridcolor": "white",
           "linecolor": "white",
           "ticks": "",
           "title": {
            "standoff": 15
           },
           "zerolinecolor": "white",
           "zerolinewidth": 2
          }
         }
        },
        "title": {
         "text": "Messages per month"
        },
        "xaxis": {
         "anchor": "y",
         "domain": [
          0,
          1
         ],
         "title": {
          "text": "date_time"
         }
        },
        "yaxis": {
         "anchor": "x",
         "domain": [
          0,
          1
         ],
         "title": {
          "text": "count"
         }
        }
       }
      },
      "text/html": [
       "<div>                            <div id=\"24ba3806-eab7-4c9d-999f-f69dc9fe797e\" class=\"plotly-graph-div\" style=\"height:525px; width:100%;\"></div>            <script type=\"text/javascript\">                require([\"plotly\"], function(Plotly) {                    window.PLOTLYENV=window.PLOTLYENV || {};                                    if (document.getElementById(\"24ba3806-eab7-4c9d-999f-f69dc9fe797e\")) {                    Plotly.newPlot(                        \"24ba3806-eab7-4c9d-999f-f69dc9fe797e\",                        [{\"hovertemplate\": \"date_time=%{x}<br>count=%{y}<extra></extra>\", \"legendgroup\": \"\", \"line\": {\"color\": \"#636efa\", \"dash\": \"solid\"}, \"mode\": \"lines\", \"name\": \"\", \"orientation\": \"v\", \"showlegend\": false, \"type\": \"scatter\", \"x\": [\"2014-05-31T00:00:00\", \"2014-06-30T00:00:00\", \"2014-07-31T00:00:00\", \"2014-08-31T00:00:00\", \"2014-09-30T00:00:00\", \"2014-10-31T00:00:00\", \"2014-11-30T00:00:00\", \"2014-12-31T00:00:00\", \"2015-01-31T00:00:00\", \"2015-02-28T00:00:00\", \"2015-03-31T00:00:00\", \"2015-04-30T00:00:00\", \"2015-05-31T00:00:00\", \"2015-06-30T00:00:00\", \"2015-07-31T00:00:00\", \"2015-08-31T00:00:00\", \"2015-09-30T00:00:00\", \"2015-10-31T00:00:00\", \"2015-11-30T00:00:00\", \"2015-12-31T00:00:00\", \"2016-01-31T00:00:00\", \"2016-02-29T00:00:00\", \"2016-03-31T00:00:00\", \"2016-04-30T00:00:00\", \"2016-05-31T00:00:00\", \"2016-06-30T00:00:00\", \"2016-07-31T00:00:00\", \"2016-08-31T00:00:00\", \"2016-09-30T00:00:00\", \"2016-10-31T00:00:00\", \"2016-11-30T00:00:00\", \"2016-12-31T00:00:00\", \"2017-01-31T00:00:00\", \"2017-02-28T00:00:00\", \"2017-03-31T00:00:00\", \"2017-04-30T00:00:00\", \"2017-05-31T00:00:00\", \"2017-06-30T00:00:00\", \"2017-07-31T00:00:00\", \"2017-08-31T00:00:00\", \"2017-09-30T00:00:00\", \"2017-10-31T00:00:00\", \"2017-11-30T00:00:00\", \"2017-12-31T00:00:00\", \"2018-01-31T00:00:00\", \"2018-02-28T00:00:00\", \"2018-03-31T00:00:00\", \"2018-04-30T00:00:00\", \"2018-05-31T00:00:00\", \"2018-06-30T00:00:00\", \"2018-07-31T00:00:00\", \"2018-08-31T00:00:00\", \"2018-09-30T00:00:00\", \"2018-10-31T00:00:00\", \"2018-11-30T00:00:00\", \"2018-12-31T00:00:00\", \"2019-01-31T00:00:00\", \"2019-02-28T00:00:00\", \"2019-03-31T00:00:00\", \"2019-04-30T00:00:00\", \"2019-05-31T00:00:00\", \"2019-06-30T00:00:00\", \"2019-07-31T00:00:00\", \"2019-08-31T00:00:00\", \"2019-09-30T00:00:00\", \"2019-10-31T00:00:00\", \"2019-11-30T00:00:00\", \"2019-12-31T00:00:00\", \"2020-01-31T00:00:00\", \"2020-02-29T00:00:00\", \"2020-03-31T00:00:00\", \"2020-04-30T00:00:00\", \"2020-05-31T00:00:00\", \"2020-06-30T00:00:00\", \"2020-07-31T00:00:00\", \"2020-08-31T00:00:00\", \"2020-09-30T00:00:00\", \"2020-10-31T00:00:00\", \"2020-11-30T00:00:00\", \"2020-12-31T00:00:00\", \"2021-01-31T00:00:00\"], \"xaxis\": \"x\", \"y\": [2431, 5018, 3881, 2106, 2587, 2513, 2832, 3513, 5717, 7265, 10463, 6719, 8381, 4619, 5605, 6171, 3966, 3517, 3876, 3970, 3975, 2869, 8381, 8763, 5851, 7455, 6658, 6511, 4859, 3763, 4795, 6129, 4078, 3073, 5848, 6894, 9088, 10424, 6732, 7708, 8794, 6287, 6101, 8448, 6983, 5647, 6265, 5832, 4515, 6016, 5253, 4030, 4113, 3630, 3246, 3371, 2748, 2606, 4495, 4814, 2984, 3560, 2534, 3190, 2737, 2714, 2839, 3187, 2340, 2387, 3986, 1580, 2204, 3971, 3554, 3851, 4064, 4076, 4876, 4283, 1252], \"yaxis\": \"y\"}],                        {\"legend\": {\"tracegroupgap\": 0}, \"template\": {\"data\": {\"bar\": [{\"error_x\": {\"color\": \"#2a3f5f\"}, \"error_y\": {\"color\": \"#2a3f5f\"}, \"marker\": {\"line\": {\"color\": \"#E5ECF6\", \"width\": 0.5}}, \"type\": \"bar\"}], \"barpolar\": [{\"marker\": {\"line\": {\"color\": \"#E5ECF6\", \"width\": 0.5}}, \"type\": \"barpolar\"}], \"carpet\": [{\"aaxis\": {\"endlinecolor\": \"#2a3f5f\", \"gridcolor\": \"white\", \"linecolor\": \"white\", \"minorgridcolor\": \"white\", \"startlinecolor\": \"#2a3f5f\"}, \"baxis\": {\"endlinecolor\": \"#2a3f5f\", \"gridcolor\": \"white\", \"linecolor\": \"white\", \"minorgridcolor\": \"white\", \"startlinecolor\": \"#2a3f5f\"}, \"type\": \"carpet\"}], \"choropleth\": [{\"colorbar\": {\"outlinewidth\": 0, \"ticks\": \"\"}, \"type\": \"choropleth\"}], \"contour\": [{\"colorbar\": {\"outlinewidth\": 0, \"ticks\": \"\"}, \"colorscale\": [[0.0, \"#0d0887\"], [0.1111111111111111, \"#46039f\"], [0.2222222222222222, \"#7201a8\"], [0.3333333333333333, \"#9c179e\"], [0.4444444444444444, \"#bd3786\"], [0.5555555555555556, \"#d8576b\"], [0.6666666666666666, \"#ed7953\"], [0.7777777777777778, \"#fb9f3a\"], [0.8888888888888888, \"#fdca26\"], [1.0, \"#f0f921\"]], \"type\": \"contour\"}], \"contourcarpet\": [{\"colorbar\": {\"outlinewidth\": 0, \"ticks\": \"\"}, \"type\": \"contourcarpet\"}], \"heatmap\": [{\"colorbar\": {\"outlinewidth\": 0, \"ticks\": \"\"}, \"colorscale\": [[0.0, \"#0d0887\"], [0.1111111111111111, \"#46039f\"], [0.2222222222222222, \"#7201a8\"], [0.3333333333333333, \"#9c179e\"], [0.4444444444444444, \"#bd3786\"], [0.5555555555555556, \"#d8576b\"], [0.6666666666666666, \"#ed7953\"], [0.7777777777777778, \"#fb9f3a\"], [0.8888888888888888, \"#fdca26\"], [1.0, \"#f0f921\"]], \"type\": \"heatmap\"}], \"heatmapgl\": [{\"colorbar\": {\"outlinewidth\": 0, \"ticks\": \"\"}, \"colorscale\": [[0.0, \"#0d0887\"], [0.1111111111111111, \"#46039f\"], [0.2222222222222222, \"#7201a8\"], [0.3333333333333333, \"#9c179e\"], [0.4444444444444444, \"#bd3786\"], [0.5555555555555556, \"#d8576b\"], [0.6666666666666666, \"#ed7953\"], [0.7777777777777778, \"#fb9f3a\"], [0.8888888888888888, \"#fdca26\"], [1.0, \"#f0f921\"]], \"type\": \"heatmapgl\"}], \"histogram\": [{\"marker\": {\"colorbar\": {\"outlinewidth\": 0, \"ticks\": \"\"}}, \"type\": \"histogram\"}], \"histogram2d\": [{\"colorbar\": {\"outlinewidth\": 0, \"ticks\": \"\"}, \"colorscale\": [[0.0, \"#0d0887\"], [0.1111111111111111, \"#46039f\"], [0.2222222222222222, \"#7201a8\"], [0.3333333333333333, \"#9c179e\"], [0.4444444444444444, \"#bd3786\"], [0.5555555555555556, \"#d8576b\"], [0.6666666666666666, \"#ed7953\"], [0.7777777777777778, \"#fb9f3a\"], [0.8888888888888888, \"#fdca26\"], [1.0, \"#f0f921\"]], \"type\": \"histogram2d\"}], \"histogram2dcontour\": [{\"colorbar\": {\"outlinewidth\": 0, \"ticks\": \"\"}, \"colorscale\": [[0.0, \"#0d0887\"], [0.1111111111111111, \"#46039f\"], [0.2222222222222222, \"#7201a8\"], [0.3333333333333333, \"#9c179e\"], [0.4444444444444444, \"#bd3786\"], [0.5555555555555556, \"#d8576b\"], [0.6666666666666666, \"#ed7953\"], [0.7777777777777778, \"#fb9f3a\"], [0.8888888888888888, \"#fdca26\"], [1.0, \"#f0f921\"]], \"type\": \"histogram2dcontour\"}], \"mesh3d\": [{\"colorbar\": {\"outlinewidth\": 0, \"ticks\": \"\"}, \"type\": \"mesh3d\"}], \"parcoords\": [{\"line\": {\"colorbar\": {\"outlinewidth\": 0, \"ticks\": \"\"}}, \"type\": \"parcoords\"}], \"pie\": [{\"automargin\": true, \"type\": \"pie\"}], \"scatter\": [{\"marker\": {\"colorbar\": {\"outlinewidth\": 0, \"ticks\": \"\"}}, \"type\": \"scatter\"}], \"scatter3d\": [{\"line\": {\"colorbar\": {\"outlinewidth\": 0, \"ticks\": \"\"}}, \"marker\": {\"colorbar\": {\"outlinewidth\": 0, \"ticks\": \"\"}}, \"type\": \"scatter3d\"}], \"scattercarpet\": [{\"marker\": {\"colorbar\": {\"outlinewidth\": 0, \"ticks\": \"\"}}, \"type\": \"scattercarpet\"}], \"scattergeo\": [{\"marker\": {\"colorbar\": {\"outlinewidth\": 0, \"ticks\": \"\"}}, \"type\": \"scattergeo\"}], \"scattergl\": [{\"marker\": {\"colorbar\": {\"outlinewidth\": 0, \"ticks\": \"\"}}, \"type\": \"scattergl\"}], \"scattermapbox\": [{\"marker\": {\"colorbar\": {\"outlinewidth\": 0, \"ticks\": \"\"}}, \"type\": \"scattermapbox\"}], \"scatterpolar\": [{\"marker\": {\"colorbar\": {\"outlinewidth\": 0, \"ticks\": \"\"}}, \"type\": \"scatterpolar\"}], \"scatterpolargl\": [{\"marker\": {\"colorbar\": {\"outlinewidth\": 0, \"ticks\": \"\"}}, \"type\": \"scatterpolargl\"}], \"scatterternary\": [{\"marker\": {\"colorbar\": {\"outlinewidth\": 0, \"ticks\": \"\"}}, \"type\": \"scatterternary\"}], \"surface\": [{\"colorbar\": {\"outlinewidth\": 0, \"ticks\": \"\"}, \"colorscale\": [[0.0, \"#0d0887\"], [0.1111111111111111, \"#46039f\"], [0.2222222222222222, \"#7201a8\"], [0.3333333333333333, \"#9c179e\"], [0.4444444444444444, \"#bd3786\"], [0.5555555555555556, \"#d8576b\"], [0.6666666666666666, \"#ed7953\"], [0.7777777777777778, \"#fb9f3a\"], [0.8888888888888888, \"#fdca26\"], [1.0, \"#f0f921\"]], \"type\": \"surface\"}], \"table\": [{\"cells\": {\"fill\": {\"color\": \"#EBF0F8\"}, \"line\": {\"color\": \"white\"}}, \"header\": {\"fill\": {\"color\": \"#C8D4E3\"}, \"line\": {\"color\": \"white\"}}, \"type\": \"table\"}]}, \"layout\": {\"annotationdefaults\": {\"arrowcolor\": \"#2a3f5f\", \"arrowhead\": 0, \"arrowwidth\": 1}, \"autotypenumbers\": \"strict\", \"coloraxis\": {\"colorbar\": {\"outlinewidth\": 0, \"ticks\": \"\"}}, \"colorscale\": {\"diverging\": [[0, \"#8e0152\"], [0.1, \"#c51b7d\"], [0.2, \"#de77ae\"], [0.3, \"#f1b6da\"], [0.4, \"#fde0ef\"], [0.5, \"#f7f7f7\"], [0.6, \"#e6f5d0\"], [0.7, \"#b8e186\"], [0.8, \"#7fbc41\"], [0.9, \"#4d9221\"], [1, \"#276419\"]], \"sequential\": [[0.0, \"#0d0887\"], [0.1111111111111111, \"#46039f\"], [0.2222222222222222, \"#7201a8\"], [0.3333333333333333, \"#9c179e\"], [0.4444444444444444, \"#bd3786\"], [0.5555555555555556, \"#d8576b\"], [0.6666666666666666, \"#ed7953\"], [0.7777777777777778, \"#fb9f3a\"], [0.8888888888888888, \"#fdca26\"], [1.0, \"#f0f921\"]], \"sequentialminus\": [[0.0, \"#0d0887\"], [0.1111111111111111, \"#46039f\"], [0.2222222222222222, \"#7201a8\"], [0.3333333333333333, \"#9c179e\"], [0.4444444444444444, \"#bd3786\"], [0.5555555555555556, \"#d8576b\"], [0.6666666666666666, \"#ed7953\"], [0.7777777777777778, \"#fb9f3a\"], [0.8888888888888888, \"#fdca26\"], [1.0, \"#f0f921\"]]}, \"colorway\": [\"#636efa\", \"#EF553B\", \"#00cc96\", \"#ab63fa\", \"#FFA15A\", \"#19d3f3\", \"#FF6692\", \"#B6E880\", \"#FF97FF\", \"#FECB52\"], \"font\": {\"color\": \"#2a3f5f\"}, \"geo\": {\"bgcolor\": \"white\", \"lakecolor\": \"white\", \"landcolor\": \"#E5ECF6\", \"showlakes\": true, \"showland\": true, \"subunitcolor\": \"white\"}, \"hoverlabel\": {\"align\": \"left\"}, \"hovermode\": \"closest\", \"mapbox\": {\"style\": \"light\"}, \"paper_bgcolor\": \"white\", \"plot_bgcolor\": \"#E5ECF6\", \"polar\": {\"angularaxis\": {\"gridcolor\": \"white\", \"linecolor\": \"white\", \"ticks\": \"\"}, \"bgcolor\": \"#E5ECF6\", \"radialaxis\": {\"gridcolor\": \"white\", \"linecolor\": \"white\", \"ticks\": \"\"}}, \"scene\": {\"xaxis\": {\"backgroundcolor\": \"#E5ECF6\", \"gridcolor\": \"white\", \"gridwidth\": 2, \"linecolor\": \"white\", \"showbackground\": true, \"ticks\": \"\", \"zerolinecolor\": \"white\"}, \"yaxis\": {\"backgroundcolor\": \"#E5ECF6\", \"gridcolor\": \"white\", \"gridwidth\": 2, \"linecolor\": \"white\", \"showbackground\": true, \"ticks\": \"\", \"zerolinecolor\": \"white\"}, \"zaxis\": {\"backgroundcolor\": \"#E5ECF6\", \"gridcolor\": \"white\", \"gridwidth\": 2, \"linecolor\": \"white\", \"showbackground\": true, \"ticks\": \"\", \"zerolinecolor\": \"white\"}}, \"shapedefaults\": {\"line\": {\"color\": \"#2a3f5f\"}}, \"ternary\": {\"aaxis\": {\"gridcolor\": \"white\", \"linecolor\": \"white\", \"ticks\": \"\"}, \"baxis\": {\"gridcolor\": \"white\", \"linecolor\": \"white\", \"ticks\": \"\"}, \"bgcolor\": \"#E5ECF6\", \"caxis\": {\"gridcolor\": \"white\", \"linecolor\": \"white\", \"ticks\": \"\"}}, \"title\": {\"x\": 0.05}, \"xaxis\": {\"automargin\": true, \"gridcolor\": \"white\", \"linecolor\": \"white\", \"ticks\": \"\", \"title\": {\"standoff\": 15}, \"zerolinecolor\": \"white\", \"zerolinewidth\": 2}, \"yaxis\": {\"automargin\": true, \"gridcolor\": \"white\", \"linecolor\": \"white\", \"ticks\": \"\", \"title\": {\"standoff\": 15}, \"zerolinecolor\": \"white\", \"zerolinewidth\": 2}}}, \"title\": {\"text\": \"Messages per month\"}, \"xaxis\": {\"anchor\": \"y\", \"domain\": [0.0, 1.0], \"title\": {\"text\": \"date_time\"}}, \"yaxis\": {\"anchor\": \"x\", \"domain\": [0.0, 1.0], \"title\": {\"text\": \"count\"}}},                        {\"responsive\": true}                    ).then(function(){\n",
       "                            \n",
       "var gd = document.getElementById('24ba3806-eab7-4c9d-999f-f69dc9fe797e');\n",
       "var x = new MutationObserver(function (mutations, observer) {{\n",
       "        var display = window.getComputedStyle(gd).display;\n",
       "        if (!display || display === 'none') {{\n",
       "            console.log([gd, 'removed!']);\n",
       "            Plotly.purge(gd);\n",
       "            observer.disconnect();\n",
       "        }}\n",
       "}});\n",
       "\n",
       "// Listen for the removal of the full notebook cells\n",
       "var notebookContainer = gd.closest('#notebook-container');\n",
       "if (notebookContainer) {{\n",
       "    x.observe(notebookContainer, {childList: true});\n",
       "}}\n",
       "\n",
       "// Listen for the clearing of the current output cell\n",
       "var outputEl = gd.closest('.output');\n",
       "if (outputEl) {{\n",
       "    x.observe(outputEl, {childList: true});\n",
       "}}\n",
       "\n",
       "                        })                };                });            </script>        </div>"
      ]
     },
     "metadata": {},
     "output_type": "display_data"
    }
   ],
   "source": [
    "import plotly.express as px\n",
    "\n",
    "df_time = df.groupby(pd.Grouper(key=\"date_time\", freq=\"M\"))[\"text\"].count().reset_index(name=\"count\")\n",
    "px.line(df_time, x=\"date_time\", y=\"count\", title='Messages per month')"
   ]
  },
  {
   "cell_type": "markdown",
   "metadata": {},
   "source": [
    "Here we see that the messages had a regression over the years. Probably because most of us got jobs and had to stop looking at our phones that much. But what we can see here is a clear overview of the seasons. There are lows during Winter (especially February) and highs during Spring. Summers are steady, but in Fall the lines lowers for Winter.\n",
    "\n",
    "Let's see what people talk during those seasons."
   ]
  },
  {
   "cell_type": "code",
   "execution_count": 331,
   "metadata": {},
   "outputs": [
    {
     "data": {
      "text/html": [
       "<div>\n",
       "<style scoped>\n",
       "    .dataframe tbody tr th:only-of-type {\n",
       "        vertical-align: middle;\n",
       "    }\n",
       "\n",
       "    .dataframe tbody tr th {\n",
       "        vertical-align: top;\n",
       "    }\n",
       "\n",
       "    .dataframe thead th {\n",
       "        text-align: right;\n",
       "    }\n",
       "</style>\n",
       "<table border=\"1\" class=\"dataframe\">\n",
       "  <thead>\n",
       "    <tr style=\"text-align: right;\">\n",
       "      <th>season</th>\n",
       "      <th>Fall</th>\n",
       "      <th>Spring</th>\n",
       "      <th>Summer</th>\n",
       "      <th>Winter</th>\n",
       "    </tr>\n",
       "    <tr>\n",
       "      <th>name</th>\n",
       "      <th></th>\n",
       "      <th></th>\n",
       "      <th></th>\n",
       "      <th></th>\n",
       "    </tr>\n",
       "  </thead>\n",
       "  <tbody>\n",
       "    <tr>\n",
       "      <th>Abel</th>\n",
       "      <td>0.214328</td>\n",
       "      <td>0.284581</td>\n",
       "      <td>0.272710</td>\n",
       "      <td>0.228382</td>\n",
       "    </tr>\n",
       "    <tr>\n",
       "      <th>Daan</th>\n",
       "      <td>0.167917</td>\n",
       "      <td>0.290631</td>\n",
       "      <td>0.305885</td>\n",
       "      <td>0.235568</td>\n",
       "    </tr>\n",
       "    <tr>\n",
       "      <th>Faried</th>\n",
       "      <td>0.225790</td>\n",
       "      <td>0.282237</td>\n",
       "      <td>0.268673</td>\n",
       "      <td>0.223300</td>\n",
       "    </tr>\n",
       "    <tr>\n",
       "      <th>Jules</th>\n",
       "      <td>0.213732</td>\n",
       "      <td>0.282894</td>\n",
       "      <td>0.365863</td>\n",
       "      <td>0.137511</td>\n",
       "    </tr>\n",
       "    <tr>\n",
       "      <th>Justin</th>\n",
       "      <td>0.188219</td>\n",
       "      <td>0.299373</td>\n",
       "      <td>0.330952</td>\n",
       "      <td>0.181456</td>\n",
       "    </tr>\n",
       "    <tr>\n",
       "      <th>Max</th>\n",
       "      <td>0.268458</td>\n",
       "      <td>0.244197</td>\n",
       "      <td>0.264932</td>\n",
       "      <td>0.222413</td>\n",
       "    </tr>\n",
       "    <tr>\n",
       "      <th>Mel</th>\n",
       "      <td>0.229216</td>\n",
       "      <td>0.271206</td>\n",
       "      <td>0.284951</td>\n",
       "      <td>0.214627</td>\n",
       "    </tr>\n",
       "    <tr>\n",
       "      <th>Nicko</th>\n",
       "      <td>0.222756</td>\n",
       "      <td>0.223716</td>\n",
       "      <td>0.316371</td>\n",
       "      <td>0.237158</td>\n",
       "    </tr>\n",
       "    <tr>\n",
       "      <th>Ramzy</th>\n",
       "      <td>0.225379</td>\n",
       "      <td>0.316393</td>\n",
       "      <td>0.290983</td>\n",
       "      <td>0.167244</td>\n",
       "    </tr>\n",
       "    <tr>\n",
       "      <th>Rutger</th>\n",
       "      <td>0.233687</td>\n",
       "      <td>0.262391</td>\n",
       "      <td>0.325748</td>\n",
       "      <td>0.178174</td>\n",
       "    </tr>\n",
       "    <tr>\n",
       "      <th>Samson</th>\n",
       "      <td>0.218278</td>\n",
       "      <td>0.302807</td>\n",
       "      <td>0.241167</td>\n",
       "      <td>0.237748</td>\n",
       "    </tr>\n",
       "  </tbody>\n",
       "</table>\n",
       "</div>"
      ],
      "text/plain": [
       "season      Fall    Spring    Summer    Winter\n",
       "name                                          \n",
       "Abel    0.214328  0.284581  0.272710  0.228382\n",
       "Daan    0.167917  0.290631  0.305885  0.235568\n",
       "Faried  0.225790  0.282237  0.268673  0.223300\n",
       "Jules   0.213732  0.282894  0.365863  0.137511\n",
       "Justin  0.188219  0.299373  0.330952  0.181456\n",
       "Max     0.268458  0.244197  0.264932  0.222413\n",
       "Mel     0.229216  0.271206  0.284951  0.214627\n",
       "Nicko   0.222756  0.223716  0.316371  0.237158\n",
       "Ramzy   0.225379  0.316393  0.290983  0.167244\n",
       "Rutger  0.233687  0.262391  0.325748  0.178174\n",
       "Samson  0.218278  0.302807  0.241167  0.237748"
      ]
     },
     "execution_count": 331,
     "metadata": {},
     "output_type": "execute_result"
    }
   ],
   "source": [
    "res = df.groupby(\"name\")[\"season\"].value_counts(normalize=True)\n",
    "res = res.unstack()\n",
    "res"
   ]
  },
  {
   "cell_type": "markdown",
   "metadata": {},
   "source": [
    "We can see here that there are differences between the seasons. This is beneficial for the model.\n",
    "- Daan is underrepresented in Fall\n",
    "- Ramzy and Samson are sending almost 1/3 of their messages in Spring.\n",
    "- Rutger is very active in Summer, he probably finally got much time to hang out with us.\n",
    "- You really can see a dip during Winter, especially with Jules' 13% of his messages.\n",
    "\n",
    "Now let's take a look at the messages themself."
   ]
  },
  {
   "cell_type": "code",
   "execution_count": 328,
   "metadata": {},
   "outputs": [
    {
     "data": {
      "text/plain": [
       "<AxesSubplot:title={'center':'Most sent texts'}>"
      ]
     },
     "execution_count": 328,
     "metadata": {},
     "output_type": "execute_result"
    },
    {
     "name": "stderr",
     "output_type": "stream",
     "text": [
      "F:\\Anaconda-Daan\\lib\\site-packages\\matplotlib\\backends\\backend_agg.py:238: RuntimeWarning:\n",
      "\n",
      "Glyph 128514 missing from current font.\n",
      "\n",
      "F:\\Anaconda-Daan\\lib\\site-packages\\matplotlib\\backends\\backend_agg.py:201: RuntimeWarning:\n",
      "\n",
      "Glyph 128514 missing from current font.\n",
      "\n"
     ]
    },
    {
     "data": {
      "image/png": "[encoded data removed]",
      "text/plain": [
       "<Figure size 432x288 with 1 Axes>"
      ]
     },
     "metadata": {
      "needs_background": "light"
     },
     "output_type": "display_data"
    }
   ],
   "source": [
    "author_media_messages_value_counts = media_messages_df['text'].value_counts()\n",
    "top_10_author_media_messages_value_counts = author_media_messages_value_counts.head(11)\n",
    "top_10_author_media_messages_value_counts.plot.barh(title='Most sent texts')"
   ]
  },
  {
   "cell_type": "markdown",
   "metadata": {},
   "source": [
    "These are the most sent text. You can conclude that, despide the dicussions and fights over football, we laugh A LOT. We can  see the laughing emojis in there as well. The triple Ha's have been send way more than 3000 times. These are one word, 6 letter texts. Let's take a further look at the lenght of these messages.\n",
    "\n",
    "_While working on this project, eventually, the emojis weren't showing up anymore, they were laughing with tears emojis. It was probably because I changed a certain setting in the code while showing a matrix_"
   ]
  },
  {
   "cell_type": "code",
   "execution_count": 335,
   "metadata": {},
   "outputs": [
    {
     "data": {
      "text/plain": [
       "<AxesSubplot:title={'center':'Guys who respond on the amount of words in messages'}, ylabel='responder'>"
      ]
     },
     "execution_count": 335,
     "metadata": {},
     "output_type": "execute_result"
    },
    {
     "data": {
      "image/png": "[encoded data removed]",
      "text/plain": [
       "<Figure size 432x288 with 1 Axes>"
      ]
     },
     "metadata": {
      "needs_background": "light"
     },
     "output_type": "display_data"
    }
   ],
   "source": [
    "respond_to_words = df.groupby(\"responder\")[\"words\"].mean().sort_values(ascending=True).plot.barh(title='Guys who respond on the amount of words in messages')\n",
    "respond_to_words"
   ]
  },
  {
   "cell_type": "markdown",
   "metadata": {},
   "source": [
    "Most messages sent were 1 word messages. So if we see this graph, Samson will tend to respond earlier to those kind of messages than Daan or Ramzy. They probably like well-founded texts more (haha)."
   ]
  },
  {
   "cell_type": "code",
   "execution_count": 154,
   "metadata": {},
   "outputs": [
    {
     "data": {
      "text/plain": [
       "<AxesSubplot:title={'center':'Waiting time for the next person to respond'}, ylabel='wait_time'>"
      ]
     },
     "execution_count": 154,
     "metadata": {},
     "output_type": "execute_result"
    },
    {
     "data": {
      "image/png": "[encoded data removed]",
      "text/plain": [
       "<Figure size 432x288 with 1 Axes>"
      ]
     },
     "metadata": {},
     "output_type": "display_data"
    }
   ],
   "source": [
    "df['wait_time'].value_counts().plot(kind='pie', title='Waiting time for the next person to respond')"
   ]
  },
  {
   "cell_type": "markdown",
   "metadata": {},
   "source": [
    "So to back up my previous statement during feature engineering about chosing to look at the 10 messages before, a lot of messages were send a minute after each other. This could be from the same person, but more than 45% of all messages couldn't be from the same person. Add the 5 minutes on there and you have a conversation.\n",
    "\n",
    "Let's now look at what time of the day the messages were send. "
   ]
  },
  {
   "cell_type": "code",
   "execution_count": 110,
   "metadata": {},
   "outputs": [
    {
     "data": {
      "image/png": "[encoded data removed]",
      "text/plain": [
       "<Figure size 432x288 with 2 Axes>"
      ]
     },
     "metadata": {
      "needs_background": "light"
     },
     "output_type": "display_data"
    }
   ],
   "source": [
    "# https://towardsdatascience.com/analysing-whatsapp-group-messages-using-python-a17306d3ccad\n",
    "\n",
    "# Create new fields to use in heatmap\n",
    "df_sub = df\n",
    "df_sub['day_of_week'] = df['date_time'].dt.dayofweek + 1\n",
    "df_sub['hour_of_day'] = df['date_time'].dt.hour\n",
    "\n",
    "# Create new Dataframe containing data counts\n",
    "heatmap_data = df_sub.groupby(['hour_of_day', 'day_of_week']).size()\n",
    "heatmap_data = heatmap_data.unstack()\n",
    "\n",
    "# Create heatmap\n",
    "plt.pcolor(heatmap_data, cmap='Reds')\n",
    "plt.xlabel(\"Day of Week\")\n",
    "plt.ylabel(\"Hour of Day\")\n",
    "plt.colorbar()\n",
    "plt.show()"
   ]
  },
  {
   "cell_type": "markdown",
   "metadata": {},
   "source": [
    "I very much like that my thoughts on the peak moments are confirmed. Especially Wednesday evenings during Champions League football are very dark. Also the Sunday afternoons, probably giving each other a recap of the night before and talking football. You can slightly see an increase of messages in the run up to the weekend. Besides you see that on Thursday till Sunday, the nights are also a little darker. Because we probably can't find each other in the bars or so. I think it is a good descision to have 6 different periods of the day. The combination of the different periods with days can really say a lot about the discussions in the group.\n",
    "\n",
    "Now let's look at who's most likely to respond on the different periods of the day."
   ]
  },
  {
   "cell_type": "code",
   "execution_count": 111,
   "metadata": {},
   "outputs": [
    {
     "data": {
      "text/html": [
       "<div>\n",
       "<style scoped>\n",
       "    .dataframe tbody tr th:only-of-type {\n",
       "        vertical-align: middle;\n",
       "    }\n",
       "\n",
       "    .dataframe tbody tr th {\n",
       "        vertical-align: top;\n",
       "    }\n",
       "\n",
       "    .dataframe thead th {\n",
       "        text-align: right;\n",
       "    }\n",
       "</style>\n",
       "<table border=\"1\" class=\"dataframe\">\n",
       "  <thead>\n",
       "    <tr style=\"text-align: right;\">\n",
       "      <th>period</th>\n",
       "      <th>Early Morning</th>\n",
       "      <th>Evening</th>\n",
       "      <th>Late Night</th>\n",
       "      <th>Morning</th>\n",
       "      <th>Night</th>\n",
       "      <th>Noon</th>\n",
       "    </tr>\n",
       "    <tr>\n",
       "      <th>name</th>\n",
       "      <th></th>\n",
       "      <th></th>\n",
       "      <th></th>\n",
       "      <th></th>\n",
       "      <th></th>\n",
       "      <th></th>\n",
       "    </tr>\n",
       "  </thead>\n",
       "  <tbody>\n",
       "    <tr>\n",
       "      <th>Abel</th>\n",
       "      <td>0.019558</td>\n",
       "      <td>0.285347</td>\n",
       "      <td>0.072908</td>\n",
       "      <td>0.063137</td>\n",
       "      <td>0.286812</td>\n",
       "      <td>0.272237</td>\n",
       "    </tr>\n",
       "    <tr>\n",
       "      <th>Daan</th>\n",
       "      <td>0.009301</td>\n",
       "      <td>0.267378</td>\n",
       "      <td>0.057233</td>\n",
       "      <td>0.092454</td>\n",
       "      <td>0.263905</td>\n",
       "      <td>0.309729</td>\n",
       "    </tr>\n",
       "    <tr>\n",
       "      <th>Faried</th>\n",
       "      <td>0.006175</td>\n",
       "      <td>0.273050</td>\n",
       "      <td>0.034981</td>\n",
       "      <td>0.101138</td>\n",
       "      <td>0.249074</td>\n",
       "      <td>0.335582</td>\n",
       "    </tr>\n",
       "    <tr>\n",
       "      <th>Jules</th>\n",
       "      <td>0.025928</td>\n",
       "      <td>0.275022</td>\n",
       "      <td>0.036674</td>\n",
       "      <td>0.095214</td>\n",
       "      <td>0.281707</td>\n",
       "      <td>0.285455</td>\n",
       "    </tr>\n",
       "    <tr>\n",
       "      <th>Justin</th>\n",
       "      <td>0.021325</td>\n",
       "      <td>0.241996</td>\n",
       "      <td>0.092773</td>\n",
       "      <td>0.061794</td>\n",
       "      <td>0.315299</td>\n",
       "      <td>0.266812</td>\n",
       "    </tr>\n",
       "    <tr>\n",
       "      <th>Max</th>\n",
       "      <td>0.010913</td>\n",
       "      <td>0.272235</td>\n",
       "      <td>0.050493</td>\n",
       "      <td>0.088353</td>\n",
       "      <td>0.301364</td>\n",
       "      <td>0.276642</td>\n",
       "    </tr>\n",
       "    <tr>\n",
       "      <th>Mel</th>\n",
       "      <td>0.016039</td>\n",
       "      <td>0.257726</td>\n",
       "      <td>0.048194</td>\n",
       "      <td>0.101330</td>\n",
       "      <td>0.254826</td>\n",
       "      <td>0.321884</td>\n",
       "    </tr>\n",
       "    <tr>\n",
       "      <th>Nicko</th>\n",
       "      <td>0.036006</td>\n",
       "      <td>0.180989</td>\n",
       "      <td>0.242919</td>\n",
       "      <td>0.059530</td>\n",
       "      <td>0.290927</td>\n",
       "      <td>0.189630</td>\n",
       "    </tr>\n",
       "    <tr>\n",
       "      <th>Ramzy</th>\n",
       "      <td>0.010318</td>\n",
       "      <td>0.281281</td>\n",
       "      <td>0.037576</td>\n",
       "      <td>0.114653</td>\n",
       "      <td>0.238700</td>\n",
       "      <td>0.317471</td>\n",
       "    </tr>\n",
       "    <tr>\n",
       "      <th>Rutger</th>\n",
       "      <td>0.016378</td>\n",
       "      <td>0.260495</td>\n",
       "      <td>0.086544</td>\n",
       "      <td>0.108784</td>\n",
       "      <td>0.211102</td>\n",
       "      <td>0.316697</td>\n",
       "    </tr>\n",
       "    <tr>\n",
       "      <th>Samson</th>\n",
       "      <td>0.014375</td>\n",
       "      <td>0.237048</td>\n",
       "      <td>0.060281</td>\n",
       "      <td>0.105083</td>\n",
       "      <td>0.279514</td>\n",
       "      <td>0.303699</td>\n",
       "    </tr>\n",
       "  </tbody>\n",
       "</table>\n",
       "</div>"
      ],
      "text/plain": [
       "period  Early Morning   Evening  Late Night   Morning     Night      Noon\n",
       "name                                                                     \n",
       "Abel         0.019558  0.285347    0.072908  0.063137  0.286812  0.272237\n",
       "Daan         0.009301  0.267378    0.057233  0.092454  0.263905  0.309729\n",
       "Faried       0.006175  0.273050    0.034981  0.101138  0.249074  0.335582\n",
       "Jules        0.025928  0.275022    0.036674  0.095214  0.281707  0.285455\n",
       "Justin       0.021325  0.241996    0.092773  0.061794  0.315299  0.266812\n",
       "Max          0.010913  0.272235    0.050493  0.088353  0.301364  0.276642\n",
       "Mel          0.016039  0.257726    0.048194  0.101330  0.254826  0.321884\n",
       "Nicko        0.036006  0.180989    0.242919  0.059530  0.290927  0.189630\n",
       "Ramzy        0.010318  0.281281    0.037576  0.114653  0.238700  0.317471\n",
       "Rutger       0.016378  0.260495    0.086544  0.108784  0.211102  0.316697\n",
       "Samson       0.014375  0.237048    0.060281  0.105083  0.279514  0.303699"
      ]
     },
     "execution_count": 111,
     "metadata": {},
     "output_type": "execute_result"
    }
   ],
   "source": [
    "# Grouping by period and responders and then counting, normalizing and make it a better df\n",
    "res = df.groupby(\"name\")[\"period\"].value_counts(normalize=True)\n",
    "res = res.unstack()\n",
    "res"
   ]
  },
  {
   "cell_type": "markdown",
   "metadata": {},
   "source": [
    "There were a lot of differences between the amount of messages between the guys. Nicko, for example, had only 3000 messages. You can't really compare that with the almost 100.000 of Faried. Nicko works a lot, he's chef in a restaurant. So he mostly responds after his working hours to see if people are going out. And you can see that in the graph, he tend to have a higher share during late night's and early mornings. So he's probably more likely to respond in those hours, and less likely during the others.\n",
    "This next graph takes the averages of each person during each period."
   ]
  },
  {
   "cell_type": "code",
   "execution_count": 337,
   "metadata": {},
   "outputs": [
    {
     "data": {
      "text/plain": [
       "<AxesSubplot:title={'center':'Guys who are most active during certain periods'}, xlabel='period'>"
      ]
     },
     "execution_count": 337,
     "metadata": {},
     "output_type": "execute_result"
    },
    {
     "data": {
      "image/png": "[encoded data removed]",
      "text/plain": [
       "<Figure size 1440x1440 with 1 Axes>"
      ]
     },
     "metadata": {
      "needs_background": "light"
     },
     "output_type": "display_data"
    }
   ],
   "source": [
    "res = df.groupby(\"period\")[\"name\"].value_counts(normalize=True).unstack()\n",
    "res = res.plot(title='Guys who are most active during certain periods', kind='bar',stacked=True, figsize=(20, 20))#.update_layout(barmode=\"relative\")#.update_yaxes(range=[0,100])\n",
    "res"
   ]
  },
  {
   "cell_type": "markdown",
   "metadata": {},
   "source": [
    "Other insights:\n",
    "- Justin tends to have a bigger share during late nights, compared to other periods.\n",
    "- Abel isn't likely to respond in the mornings, but will be more likely to text in the night.\n",
    "- Daan responds pretty evenly during all periods of the day.\n",
    "- Jules is very active in the early mornings."
   ]
  },
  {
   "cell_type": "markdown",
   "metadata": {},
   "source": [
    "So the next think what's interesting to take a look at, is having insights of who will be more likely to respond to whom. Therefor we need to have a dataframe with all \"names\" and \"responders\". "
   ]
  },
  {
   "cell_type": "code",
   "execution_count": 113,
   "metadata": {},
   "outputs": [
    {
     "data": {
      "text/html": [
       "<div>\n",
       "<style scoped>\n",
       "    .dataframe tbody tr th:only-of-type {\n",
       "        vertical-align: middle;\n",
       "    }\n",
       "\n",
       "    .dataframe tbody tr th {\n",
       "        vertical-align: top;\n",
       "    }\n",
       "\n",
       "    .dataframe thead th {\n",
       "        text-align: right;\n",
       "    }\n",
       "</style>\n",
       "<table border=\"1\" class=\"dataframe\">\n",
       "  <thead>\n",
       "    <tr style=\"text-align: right;\">\n",
       "      <th>name</th>\n",
       "      <th>Abel</th>\n",
       "      <th>Daan</th>\n",
       "      <th>Faried</th>\n",
       "      <th>Jules</th>\n",
       "      <th>Justin</th>\n",
       "      <th>Max</th>\n",
       "      <th>Mel</th>\n",
       "      <th>Nicko</th>\n",
       "      <th>Ramzy</th>\n",
       "      <th>Rutger</th>\n",
       "      <th>Samson</th>\n",
       "    </tr>\n",
       "    <tr>\n",
       "      <th>responder</th>\n",
       "      <th></th>\n",
       "      <th></th>\n",
       "      <th></th>\n",
       "      <th></th>\n",
       "      <th></th>\n",
       "      <th></th>\n",
       "      <th></th>\n",
       "      <th></th>\n",
       "      <th></th>\n",
       "      <th></th>\n",
       "      <th></th>\n",
       "    </tr>\n",
       "  </thead>\n",
       "  <tbody>\n",
       "    <tr>\n",
       "      <th>Abel</th>\n",
       "      <td>0.479546</td>\n",
       "      <td>0.025633</td>\n",
       "      <td>0.139807</td>\n",
       "      <td>0.026203</td>\n",
       "      <td>0.043139</td>\n",
       "      <td>0.028808</td>\n",
       "      <td>0.142804</td>\n",
       "      <td>0.003827</td>\n",
       "      <td>0.023678</td>\n",
       "      <td>0.016415</td>\n",
       "      <td>0.070140</td>\n",
       "    </tr>\n",
       "    <tr>\n",
       "      <th>Daan</th>\n",
       "      <td>0.101197</td>\n",
       "      <td>0.345570</td>\n",
       "      <td>0.194643</td>\n",
       "      <td>0.022881</td>\n",
       "      <td>0.038507</td>\n",
       "      <td>0.039685</td>\n",
       "      <td>0.147517</td>\n",
       "      <td>0.004155</td>\n",
       "      <td>0.026973</td>\n",
       "      <td>0.025051</td>\n",
       "      <td>0.053823</td>\n",
       "    </tr>\n",
       "    <tr>\n",
       "      <th>Faried</th>\n",
       "      <td>0.087122</td>\n",
       "      <td>0.031156</td>\n",
       "      <td>0.532803</td>\n",
       "      <td>0.024278</td>\n",
       "      <td>0.029198</td>\n",
       "      <td>0.043446</td>\n",
       "      <td>0.144213</td>\n",
       "      <td>0.002771</td>\n",
       "      <td>0.025041</td>\n",
       "      <td>0.017220</td>\n",
       "      <td>0.062754</td>\n",
       "    </tr>\n",
       "    <tr>\n",
       "      <th>Jules</th>\n",
       "      <td>0.103711</td>\n",
       "      <td>0.021554</td>\n",
       "      <td>0.146320</td>\n",
       "      <td>0.357928</td>\n",
       "      <td>0.047920</td>\n",
       "      <td>0.045296</td>\n",
       "      <td>0.163001</td>\n",
       "      <td>0.005186</td>\n",
       "      <td>0.018181</td>\n",
       "      <td>0.013308</td>\n",
       "      <td>0.077596</td>\n",
       "    </tr>\n",
       "    <tr>\n",
       "      <th>Justin</th>\n",
       "      <td>0.147805</td>\n",
       "      <td>0.037088</td>\n",
       "      <td>0.159640</td>\n",
       "      <td>0.041069</td>\n",
       "      <td>0.266158</td>\n",
       "      <td>0.038397</td>\n",
       "      <td>0.160349</td>\n",
       "      <td>0.009272</td>\n",
       "      <td>0.032015</td>\n",
       "      <td>0.022253</td>\n",
       "      <td>0.085956</td>\n",
       "    </tr>\n",
       "    <tr>\n",
       "      <th>Max</th>\n",
       "      <td>0.074663</td>\n",
       "      <td>0.028455</td>\n",
       "      <td>0.178663</td>\n",
       "      <td>0.027868</td>\n",
       "      <td>0.027322</td>\n",
       "      <td>0.375666</td>\n",
       "      <td>0.151173</td>\n",
       "      <td>0.005204</td>\n",
       "      <td>0.024846</td>\n",
       "      <td>0.008520</td>\n",
       "      <td>0.097620</td>\n",
       "    </tr>\n",
       "    <tr>\n",
       "      <th>Mel</th>\n",
       "      <td>0.110497</td>\n",
       "      <td>0.029645</td>\n",
       "      <td>0.183166</td>\n",
       "      <td>0.032041</td>\n",
       "      <td>0.038787</td>\n",
       "      <td>0.045054</td>\n",
       "      <td>0.419684</td>\n",
       "      <td>0.003455</td>\n",
       "      <td>0.026379</td>\n",
       "      <td>0.019847</td>\n",
       "      <td>0.091444</td>\n",
       "    </tr>\n",
       "    <tr>\n",
       "      <th>Nicko</th>\n",
       "      <td>0.120979</td>\n",
       "      <td>0.031205</td>\n",
       "      <td>0.120499</td>\n",
       "      <td>0.045127</td>\n",
       "      <td>0.067211</td>\n",
       "      <td>0.071051</td>\n",
       "      <td>0.133461</td>\n",
       "      <td>0.296687</td>\n",
       "      <td>0.031205</td>\n",
       "      <td>0.010082</td>\n",
       "      <td>0.072492</td>\n",
       "    </tr>\n",
       "    <tr>\n",
       "      <th>Ramzy</th>\n",
       "      <td>0.104797</td>\n",
       "      <td>0.036498</td>\n",
       "      <td>0.183645</td>\n",
       "      <td>0.026180</td>\n",
       "      <td>0.047509</td>\n",
       "      <td>0.048048</td>\n",
       "      <td>0.161007</td>\n",
       "      <td>0.004158</td>\n",
       "      <td>0.279741</td>\n",
       "      <td>0.022407</td>\n",
       "      <td>0.086009</td>\n",
       "    </tr>\n",
       "    <tr>\n",
       "      <th>Rutger</th>\n",
       "      <td>0.084562</td>\n",
       "      <td>0.035859</td>\n",
       "      <td>0.142315</td>\n",
       "      <td>0.021377</td>\n",
       "      <td>0.033963</td>\n",
       "      <td>0.018188</td>\n",
       "      <td>0.141281</td>\n",
       "      <td>0.002414</td>\n",
       "      <td>0.027498</td>\n",
       "      <td>0.438152</td>\n",
       "      <td>0.054392</td>\n",
       "    </tr>\n",
       "    <tr>\n",
       "      <th>Samson</th>\n",
       "      <td>0.087990</td>\n",
       "      <td>0.018430</td>\n",
       "      <td>0.137358</td>\n",
       "      <td>0.026350</td>\n",
       "      <td>0.034653</td>\n",
       "      <td>0.045736</td>\n",
       "      <td>0.156107</td>\n",
       "      <td>0.003270</td>\n",
       "      <td>0.021764</td>\n",
       "      <td>0.014460</td>\n",
       "      <td>0.453881</td>\n",
       "    </tr>\n",
       "  </tbody>\n",
       "</table>\n",
       "</div>"
      ],
      "text/plain": [
       "name           Abel      Daan    Faried     Jules    Justin       Max  \\\n",
       "responder                                                               \n",
       "Abel       0.479546  0.025633  0.139807  0.026203  0.043139  0.028808   \n",
       "Daan       0.101197  0.345570  0.194643  0.022881  0.038507  0.039685   \n",
       "Faried     0.087122  0.031156  0.532803  0.024278  0.029198  0.043446   \n",
       "Jules      0.103711  0.021554  0.146320  0.357928  0.047920  0.045296   \n",
       "Justin     0.147805  0.037088  0.159640  0.041069  0.266158  0.038397   \n",
       "Max        0.074663  0.028455  0.178663  0.027868  0.027322  0.375666   \n",
       "Mel        0.110497  0.029645  0.183166  0.032041  0.038787  0.045054   \n",
       "Nicko      0.120979  0.031205  0.120499  0.045127  0.067211  0.071051   \n",
       "Ramzy      0.104797  0.036498  0.183645  0.026180  0.047509  0.048048   \n",
       "Rutger     0.084562  0.035859  0.142315  0.021377  0.033963  0.018188   \n",
       "Samson     0.087990  0.018430  0.137358  0.026350  0.034653  0.045736   \n",
       "\n",
       "name            Mel     Nicko     Ramzy    Rutger    Samson  \n",
       "responder                                                    \n",
       "Abel       0.142804  0.003827  0.023678  0.016415  0.070140  \n",
       "Daan       0.147517  0.004155  0.026973  0.025051  0.053823  \n",
       "Faried     0.144213  0.002771  0.025041  0.017220  0.062754  \n",
       "Jules      0.163001  0.005186  0.018181  0.013308  0.077596  \n",
       "Justin     0.160349  0.009272  0.032015  0.022253  0.085956  \n",
       "Max        0.151173  0.005204  0.024846  0.008520  0.097620  \n",
       "Mel        0.419684  0.003455  0.026379  0.019847  0.091444  \n",
       "Nicko      0.133461  0.296687  0.031205  0.010082  0.072492  \n",
       "Ramzy      0.161007  0.004158  0.279741  0.022407  0.086009  \n",
       "Rutger     0.141281  0.002414  0.027498  0.438152  0.054392  \n",
       "Samson     0.156107  0.003270  0.021764  0.014460  0.453881  "
      ]
     },
     "execution_count": 113,
     "metadata": {},
     "output_type": "execute_result"
    }
   ],
   "source": [
    "res = df.groupby(\"responder\")[\"name\"].value_counts(normalize=True).unstack()\n",
    "res"
   ]
  },
  {
   "cell_type": "markdown",
   "metadata": {},
   "source": [
    "The first time I saw the matrix of who responds most to whom, I was shocked, because I totally forgot about the double texts. most of the times people will send two messages after each other. Or sometimes when people tell stories, they send multiple messages after each other. The question that I asked in the beginning about who will respond to the message, doesn't really fit to the dataset anymore. In reality it is more like: who will send the message below this one? But I will keep the question the same, because it sounds better and you basically can respond to your own message."
   ]
  },
  {
   "cell_type": "code",
   "execution_count": 340,
   "metadata": {},
   "outputs": [
    {
     "data": {
      "text/plain": [
       "<AxesSubplot:title={'center':'Who responds most to whom?'}, xlabel='name'>"
      ]
     },
     "execution_count": 340,
     "metadata": {},
     "output_type": "execute_result"
    },
    {
     "data": {
      "image/png": "[encoded data removed]",
      "text/plain": [
       "<Figure size 1440x576 with 1 Axes>"
      ]
     },
     "metadata": {
      "needs_background": "light"
     },
     "output_type": "display_data"
    }
   ],
   "source": [
    "import pandas as pd\n",
    "from sklearn import preprocessing\n",
    "\n",
    "res = df.groupby(\"name\")[\"responder\"].value_counts(normalize=True).unstack()\n",
    "\n",
    "# Take out all double texts\n",
    "res.at['Abel', 'Abel'] = 0\n",
    "res.at['Daan', 'Daan'] = 0\n",
    "res.at['Faried', 'Faried'] = 0\n",
    "res.at['Jules', 'Jules'] = 0\n",
    "res.at['Justin', 'Justin'] = 0\n",
    "res.at['Max', 'Max'] = 0\n",
    "res.at['Mel', 'Mel'] = 0\n",
    "res.at['Nicko', 'Nicko'] = 0\n",
    "res.at['Ramzy', 'Ramzy'] = 0\n",
    "res.at['Rutger', 'Rutger'] = 0\n",
    "res.at['Samson', 'Samson'] = 0\n",
    "\n",
    "# Y = res.values #returns a numpy array\n",
    "# min_max_scaler = preprocessing.MinMaxScaler()\n",
    "# y_scaled = min_max_scaler.fit_transform(Y)\n",
    "# res = pd.DataFrame(y_scaled)\n",
    "# res.unstack(normalize=True)\n",
    "\n",
    "res = res.plot(kind='bar', title='Who responds most to whom?', figsize=(20, 8))#.update_layout(barmode=\"relative\")#.update_yaxes(range=[0,100])\n",
    "res"
   ]
  },
  {
   "cell_type": "markdown",
   "metadata": {},
   "source": [
    "So here we see a graph that is of much value. We can see who is more likely to respond to a message of a certain other person. You can see that Faried responds much to every guy, but there are differences in his behaviour. Relatively speaking, he tend to have a high stake on responding to Daan's messages than others. Faried has the highest odds to respond on everyone but Samson. There, Mel has responded more. Because of those differences, I think this definately will influence the model.\n",
    "\n",
    "Now let's focus a  bit more on the double texts. We should know the avarage double texting of the group, so we can take in that information to the evaluation and our predictions."
   ]
  },
  {
   "cell_type": "code",
   "execution_count": 345,
   "metadata": {},
   "outputs": [
    {
     "data": {
      "text/html": [
       "<div>\n",
       "<style scoped>\n",
       "    .dataframe tbody tr th:only-of-type {\n",
       "        vertical-align: middle;\n",
       "    }\n",
       "\n",
       "    .dataframe tbody tr th {\n",
       "        vertical-align: top;\n",
       "    }\n",
       "\n",
       "    .dataframe thead th {\n",
       "        text-align: right;\n",
       "    }\n",
       "</style>\n",
       "<table border=\"1\" class=\"dataframe\">\n",
       "  <thead>\n",
       "    <tr style=\"text-align: right;\">\n",
       "      <th>responder</th>\n",
       "      <th>Abel</th>\n",
       "      <th>Daan</th>\n",
       "      <th>Faried</th>\n",
       "      <th>Jules</th>\n",
       "      <th>Justin</th>\n",
       "      <th>Max</th>\n",
       "      <th>Mel</th>\n",
       "      <th>Nicko</th>\n",
       "      <th>Ramzy</th>\n",
       "      <th>Rutger</th>\n",
       "      <th>Samson</th>\n",
       "      <th>Total</th>\n",
       "    </tr>\n",
       "    <tr>\n",
       "      <th>name</th>\n",
       "      <th></th>\n",
       "      <th></th>\n",
       "      <th></th>\n",
       "      <th></th>\n",
       "      <th></th>\n",
       "      <th></th>\n",
       "      <th></th>\n",
       "      <th></th>\n",
       "      <th></th>\n",
       "      <th></th>\n",
       "      <th></th>\n",
       "      <th></th>\n",
       "    </tr>\n",
       "  </thead>\n",
       "  <tbody>\n",
       "    <tr>\n",
       "      <th>Abel</th>\n",
       "      <td>29447</td>\n",
       "      <td>1632</td>\n",
       "      <td>8677</td>\n",
       "      <td>1660</td>\n",
       "      <td>2710</td>\n",
       "      <td>1779</td>\n",
       "      <td>8763</td>\n",
       "      <td>252</td>\n",
       "      <td>1361</td>\n",
       "      <td>981</td>\n",
       "      <td>4144</td>\n",
       "      <td>61406</td>\n",
       "    </tr>\n",
       "    <tr>\n",
       "      <th>Daan</th>\n",
       "      <td>1574</td>\n",
       "      <td>5573</td>\n",
       "      <td>3103</td>\n",
       "      <td>345</td>\n",
       "      <td>680</td>\n",
       "      <td>678</td>\n",
       "      <td>2351</td>\n",
       "      <td>65</td>\n",
       "      <td>474</td>\n",
       "      <td>416</td>\n",
       "      <td>868</td>\n",
       "      <td>16127</td>\n",
       "    </tr>\n",
       "    <tr>\n",
       "      <th>Faried</th>\n",
       "      <td>8585</td>\n",
       "      <td>3139</td>\n",
       "      <td>53065</td>\n",
       "      <td>2342</td>\n",
       "      <td>2927</td>\n",
       "      <td>4257</td>\n",
       "      <td>14526</td>\n",
       "      <td>251</td>\n",
       "      <td>2385</td>\n",
       "      <td>1651</td>\n",
       "      <td>6469</td>\n",
       "      <td>99596</td>\n",
       "    </tr>\n",
       "    <tr>\n",
       "      <th>Jules</th>\n",
       "      <td>1609</td>\n",
       "      <td>369</td>\n",
       "      <td>2418</td>\n",
       "      <td>5729</td>\n",
       "      <td>753</td>\n",
       "      <td>664</td>\n",
       "      <td>2541</td>\n",
       "      <td>94</td>\n",
       "      <td>340</td>\n",
       "      <td>248</td>\n",
       "      <td>1241</td>\n",
       "      <td>16006</td>\n",
       "    </tr>\n",
       "    <tr>\n",
       "      <th>Justin</th>\n",
       "      <td>2649</td>\n",
       "      <td>621</td>\n",
       "      <td>2908</td>\n",
       "      <td>767</td>\n",
       "      <td>4880</td>\n",
       "      <td>651</td>\n",
       "      <td>3076</td>\n",
       "      <td>140</td>\n",
       "      <td>617</td>\n",
       "      <td>394</td>\n",
       "      <td>1632</td>\n",
       "      <td>18335</td>\n",
       "    </tr>\n",
       "    <tr>\n",
       "      <th>Max</th>\n",
       "      <td>1769</td>\n",
       "      <td>640</td>\n",
       "      <td>4327</td>\n",
       "      <td>725</td>\n",
       "      <td>704</td>\n",
       "      <td>8951</td>\n",
       "      <td>3573</td>\n",
       "      <td>148</td>\n",
       "      <td>624</td>\n",
       "      <td>211</td>\n",
       "      <td>2154</td>\n",
       "      <td>23827</td>\n",
       "    </tr>\n",
       "    <tr>\n",
       "      <th>Mel</th>\n",
       "      <td>8769</td>\n",
       "      <td>2379</td>\n",
       "      <td>14363</td>\n",
       "      <td>2609</td>\n",
       "      <td>2940</td>\n",
       "      <td>3602</td>\n",
       "      <td>33283</td>\n",
       "      <td>278</td>\n",
       "      <td>2091</td>\n",
       "      <td>1639</td>\n",
       "      <td>7352</td>\n",
       "      <td>79305</td>\n",
       "    </tr>\n",
       "    <tr>\n",
       "      <th>Nicko</th>\n",
       "      <td>235</td>\n",
       "      <td>67</td>\n",
       "      <td>276</td>\n",
       "      <td>83</td>\n",
       "      <td>170</td>\n",
       "      <td>124</td>\n",
       "      <td>274</td>\n",
       "      <td>618</td>\n",
       "      <td>54</td>\n",
       "      <td>28</td>\n",
       "      <td>154</td>\n",
       "      <td>2083</td>\n",
       "    </tr>\n",
       "    <tr>\n",
       "      <th>Ramzy</th>\n",
       "      <td>1454</td>\n",
       "      <td>435</td>\n",
       "      <td>2494</td>\n",
       "      <td>291</td>\n",
       "      <td>587</td>\n",
       "      <td>592</td>\n",
       "      <td>2092</td>\n",
       "      <td>65</td>\n",
       "      <td>3633</td>\n",
       "      <td>319</td>\n",
       "      <td>1025</td>\n",
       "      <td>12987</td>\n",
       "    </tr>\n",
       "    <tr>\n",
       "      <th>Rutger</th>\n",
       "      <td>1008</td>\n",
       "      <td>404</td>\n",
       "      <td>1715</td>\n",
       "      <td>213</td>\n",
       "      <td>408</td>\n",
       "      <td>203</td>\n",
       "      <td>1574</td>\n",
       "      <td>21</td>\n",
       "      <td>291</td>\n",
       "      <td>5083</td>\n",
       "      <td>681</td>\n",
       "      <td>11601</td>\n",
       "    </tr>\n",
       "    <tr>\n",
       "      <th>Samson</th>\n",
       "      <td>4307</td>\n",
       "      <td>868</td>\n",
       "      <td>6250</td>\n",
       "      <td>1242</td>\n",
       "      <td>1576</td>\n",
       "      <td>2326</td>\n",
       "      <td>7252</td>\n",
       "      <td>151</td>\n",
       "      <td>1117</td>\n",
       "      <td>631</td>\n",
       "      <td>21376</td>\n",
       "      <td>47096</td>\n",
       "    </tr>\n",
       "  </tbody>\n",
       "</table>\n",
       "</div>"
      ],
      "text/plain": [
       "responder   Abel  Daan  Faried  Jules  Justin   Max    Mel  Nicko  Ramzy  Rutger  Samson  Total\n",
       "name                                                                                           \n",
       "Abel       29447  1632    8677   1660    2710  1779   8763    252   1361     981    4144  61406\n",
       "Daan        1574  5573    3103    345     680   678   2351     65    474     416     868  16127\n",
       "Faried      8585  3139   53065   2342    2927  4257  14526    251   2385    1651    6469  99596\n",
       "Jules       1609   369    2418   5729     753   664   2541     94    340     248    1241  16006\n",
       "Justin      2649   621    2908    767    4880   651   3076    140    617     394    1632  18335\n",
       "Max         1769   640    4327    725     704  8951   3573    148    624     211    2154  23827\n",
       "Mel         8769  2379   14363   2609    2940  3602  33283    278   2091    1639    7352  79305\n",
       "Nicko        235    67     276     83     170   124    274    618     54      28     154   2083\n",
       "Ramzy       1454   435    2494    291     587   592   2092     65   3633     319    1025  12987\n",
       "Rutger      1008   404    1715    213     408   203   1574     21    291    5083     681  11601\n",
       "Samson      4307   868    6250   1242    1576  2326   7252    151   1117     631   21376  47096"
      ]
     },
     "execution_count": 345,
     "metadata": {},
     "output_type": "execute_result"
    }
   ],
   "source": [
    "res = df.groupby(\"name\")[\"responder\"].value_counts().unstack()\n",
    "# We create a new column to know the total of messages of each person, so we could calculate the number of double texts\n",
    "res.loc[:,'Total'] = res.sum(axis=0)\n",
    "\n",
    "res"
   ]
  },
  {
   "cell_type": "code",
   "execution_count": 346,
   "metadata": {},
   "outputs": [
    {
     "name": "stdout",
     "output_type": "stream",
     "text": [
      "\n",
      "Faried's percentage of double texts is:\n",
      "53\n",
      "\n",
      "Justin's percentage of double texts is:\n",
      "26\n",
      "\n",
      "Daan's percentage of double texts is:\n",
      "34\n",
      "\n",
      "Abel's percentage of double texts is:\n",
      "47\n",
      "\n",
      "Mel's percentage of double texts is:\n",
      "41\n",
      "\n",
      "Ramzy's percentage of double texts is:\n",
      "27\n",
      "\n",
      "Rutger's percentage of double texts is:\n",
      "43\n",
      "\n",
      "Samson's percentage of double texts is:\n",
      "45\n",
      "\n",
      "Nicko's percentage of double texts is:\n",
      "29\n",
      "\n",
      "Jules's percentage of double texts is:\n",
      "35\n",
      "\n",
      "Max's percentage of double texts is:\n",
      "37\n"
     ]
    }
   ],
   "source": [
    "# Print out the percentage of every name in the chat.\n",
    "for i in df['name'].unique():\n",
    "    print(\"\\n\" + i + \"'s percentage of double texts is:\")\n",
    "    print((res[i][i] / res['Total'][i] * 100).astype(int))"
   ]
  },
  {
   "cell_type": "code",
   "execution_count": 223,
   "metadata": {},
   "outputs": [
    {
     "name": "stdout",
     "output_type": "stream",
     "text": [
      "The average double texts percentage of the group is\n",
      "37.90909090909091\n"
     ]
    }
   ],
   "source": [
    "print(\"The average double texts percentage of the group is\")\n",
    "print((53+26+34+47+41+27+43+45+29+35+37)/11)"
   ]
  },
  {
   "cell_type": "markdown",
   "metadata": {},
   "source": [
    "It's nice to see that some people double text way more than others. Now we also have a explanation on how Faried reached almost 100.000 text. I think almost 38% is still high, but it's way lower than half of the times. With good feature modeling it must be manageable to have a better score than that."
   ]
  },
  {
   "cell_type": "code",
   "execution_count": 347,
   "metadata": {},
   "outputs": [
    {
     "data": {
      "application/vnd.plotly.v1+json": {
       "config": {
        "plotlyServerURL": "https://plot.ly"
       },
       "data": [
        {
         "domain": {
          "x": [
           0,
           1
          ],
          "y": [
           0,
           1
          ]
         },
         "hovertemplate": "emojis=%{label}<br>count=%{value}<extra></extra>",
         "labels": [
          "😂",
          "😭",
          "🤣",
          "👆🏾",
          "🔥",
          "😏",
          "👆🏼",
          "💶",
          "❤",
          "🤔",
          "👆🏻",
          "❤️",
          "😱",
          "👆",
          "👀"
         ],
         "legendgroup": "",
         "name": "",
         "showlegend": true,
         "textinfo": "percent+label",
         "textposition": "inside",
         "type": "pie",
         "values": [
          21380,
          1836,
          1783,
          1120,
          1055,
          851,
          846,
          732,
          524,
          458,
          457,
          446,
          431,
          288,
          283
         ]
        }
       ],
       "layout": {
        "legend": {
         "tracegroupgap": 0
        },
        "template": {
         "data": {
          "bar": [
           {
            "error_x": {
             "color": "#2a3f5f"
            },
            "error_y": {
             "color": "#2a3f5f"
            },
            "marker": {
             "line": {
              "color": "#E5ECF6",
              "width": 0.5
             }
            },
            "type": "bar"
           }
          ],
          "barpolar": [
           {
            "marker": {
             "line": {
              "color": "#E5ECF6",
              "width": 0.5
             }
            },
            "type": "barpolar"
           }
          ],
          "carpet": [
           {
            "aaxis": {
             "endlinecolor": "#2a3f5f",
             "gridcolor": "white",
             "linecolor": "white",
             "minorgridcolor": "white",
             "startlinecolor": "#2a3f5f"
            },
            "baxis": {
             "endlinecolor": "#2a3f5f",
             "gridcolor": "white",
             "linecolor": "white",
             "minorgridcolor": "white",
             "startlinecolor": "#2a3f5f"
            },
            "type": "carpet"
           }
          ],
          "choropleth": [
           {
            "colorbar": {
             "outlinewidth": 0,
             "ticks": ""
            },
            "type": "choropleth"
           }
          ],
          "contour": [
           {
            "colorbar": {
             "outlinewidth": 0,
             "ticks": ""
            },
            "colorscale": [
             [
              0,
              "#0d0887"
             ],
             [
              0.1111111111111111,
              "#46039f"
             ],
             [
              0.2222222222222222,
              "#7201a8"
             ],
             [
              0.3333333333333333,
              "#9c179e"
             ],
             [
              0.4444444444444444,
              "#bd3786"
             ],
             [
              0.5555555555555556,
              "#d8576b"
             ],
             [
              0.6666666666666666,
              "#ed7953"
             ],
             [
              0.7777777777777778,
              "#fb9f3a"
             ],
             [
              0.8888888888888888,
              "#fdca26"
             ],
             [
              1,
              "#f0f921"
             ]
            ],
            "type": "contour"
           }
          ],
          "contourcarpet": [
           {
            "colorbar": {
             "outlinewidth": 0,
             "ticks": ""
            },
            "type": "contourcarpet"
           }
          ],
          "heatmap": [
           {
            "colorbar": {
             "outlinewidth": 0,
             "ticks": ""
            },
            "colorscale": [
             [
              0,
              "#0d0887"
             ],
             [
              0.1111111111111111,
              "#46039f"
             ],
             [
              0.2222222222222222,
              "#7201a8"
             ],
             [
              0.3333333333333333,
              "#9c179e"
             ],
             [
              0.4444444444444444,
              "#bd3786"
             ],
             [
              0.5555555555555556,
              "#d8576b"
             ],
             [
              0.6666666666666666,
              "#ed7953"
             ],
             [
              0.7777777777777778,
              "#fb9f3a"
             ],
             [
              0.8888888888888888,
              "#fdca26"
             ],
             [
              1,
              "#f0f921"
             ]
            ],
            "type": "heatmap"
           }
          ],
          "heatmapgl": [
           {
            "colorbar": {
             "outlinewidth": 0,
             "ticks": ""
            },
            "colorscale": [
             [
              0,
              "#0d0887"
             ],
             [
              0.1111111111111111,
              "#46039f"
             ],
             [
              0.2222222222222222,
              "#7201a8"
             ],
             [
              0.3333333333333333,
              "#9c179e"
             ],
             [
              0.4444444444444444,
              "#bd3786"
             ],
             [
              0.5555555555555556,
              "#d8576b"
             ],
             [
              0.6666666666666666,
              "#ed7953"
             ],
             [
              0.7777777777777778,
              "#fb9f3a"
             ],
             [
              0.8888888888888888,
              "#fdca26"
             ],
             [
              1,
              "#f0f921"
             ]
            ],
            "type": "heatmapgl"
           }
          ],
          "histogram": [
           {
            "marker": {
             "colorbar": {
              "outlinewidth": 0,
              "ticks": ""
             }
            },
            "type": "histogram"
           }
          ],
          "histogram2d": [
           {
            "colorbar": {
             "outlinewidth": 0,
             "ticks": ""
            },
            "colorscale": [
             [
              0,
              "#0d0887"
             ],
             [
              0.1111111111111111,
              "#46039f"
             ],
             [
              0.2222222222222222,
              "#7201a8"
             ],
             [
              0.3333333333333333,
              "#9c179e"
             ],
             [
              0.4444444444444444,
              "#bd3786"
             ],
             [
              0.5555555555555556,
              "#d8576b"
             ],
             [
              0.6666666666666666,
              "#ed7953"
             ],
             [
              0.7777777777777778,
              "#fb9f3a"
             ],
             [
              0.8888888888888888,
              "#fdca26"
             ],
             [
              1,
              "#f0f921"
             ]
            ],
            "type": "histogram2d"
           }
          ],
          "histogram2dcontour": [
           {
            "colorbar": {
             "outlinewidth": 0,
             "ticks": ""
            },
            "colorscale": [
             [
              0,
              "#0d0887"
             ],
             [
              0.1111111111111111,
              "#46039f"
             ],
             [
              0.2222222222222222,
              "#7201a8"
             ],
             [
              0.3333333333333333,
              "#9c179e"
             ],
             [
              0.4444444444444444,
              "#bd3786"
             ],
             [
              0.5555555555555556,
              "#d8576b"
             ],
             [
              0.6666666666666666,
              "#ed7953"
             ],
             [
              0.7777777777777778,
              "#fb9f3a"
             ],
             [
              0.8888888888888888,
              "#fdca26"
             ],
             [
              1,
              "#f0f921"
             ]
            ],
            "type": "histogram2dcontour"
           }
          ],
          "mesh3d": [
           {
            "colorbar": {
             "outlinewidth": 0,
             "ticks": ""
            },
            "type": "mesh3d"
           }
          ],
          "parcoords": [
           {
            "line": {
             "colorbar": {
              "outlinewidth": 0,
              "ticks": ""
             }
            },
            "type": "parcoords"
           }
          ],
          "pie": [
           {
            "automargin": true,
            "type": "pie"
           }
          ],
          "scatter": [
           {
            "marker": {
             "colorbar": {
              "outlinewidth": 0,
              "ticks": ""
             }
            },
            "type": "scatter"
           }
          ],
          "scatter3d": [
           {
            "line": {
             "colorbar": {
              "outlinewidth": 0,
              "ticks": ""
             }
            },
            "marker": {
             "colorbar": {
              "outlinewidth": 0,
              "ticks": ""
             }
            },
            "type": "scatter3d"
           }
          ],
          "scattercarpet": [
           {
            "marker": {
             "colorbar": {
              "outlinewidth": 0,
              "ticks": ""
             }
            },
            "type": "scattercarpet"
           }
          ],
          "scattergeo": [
           {
            "marker": {
             "colorbar": {
              "outlinewidth": 0,
              "ticks": ""
             }
            },
            "type": "scattergeo"
           }
          ],
          "scattergl": [
           {
            "marker": {
             "colorbar": {
              "outlinewidth": 0,
              "ticks": ""
             }
            },
            "type": "scattergl"
           }
          ],
          "scattermapbox": [
           {
            "marker": {
             "colorbar": {
              "outlinewidth": 0,
              "ticks": ""
             }
            },
            "type": "scattermapbox"
           }
          ],
          "scatterpolar": [
           {
            "marker": {
             "colorbar": {
              "outlinewidth": 0,
              "ticks": ""
             }
            },
            "type": "scatterpolar"
           }
          ],
          "scatterpolargl": [
           {
            "marker": {
             "colorbar": {
              "outlinewidth": 0,
              "ticks": ""
             }
            },
            "type": "scatterpolargl"
           }
          ],
          "scatterternary": [
           {
            "marker": {
             "colorbar": {
              "outlinewidth": 0,
              "ticks": ""
             }
            },
            "type": "scatterternary"
           }
          ],
          "surface": [
           {
            "colorbar": {
             "outlinewidth": 0,
             "ticks": ""
            },
            "colorscale": [
             [
              0,
              "#0d0887"
             ],
             [
              0.1111111111111111,
              "#46039f"
             ],
             [
              0.2222222222222222,
              "#7201a8"
             ],
             [
              0.3333333333333333,
              "#9c179e"
             ],
             [
              0.4444444444444444,
              "#bd3786"
             ],
             [
              0.5555555555555556,
              "#d8576b"
             ],
             [
              0.6666666666666666,
              "#ed7953"
             ],
             [
              0.7777777777777778,
              "#fb9f3a"
             ],
             [
              0.8888888888888888,
              "#fdca26"
             ],
             [
              1,
              "#f0f921"
             ]
            ],
            "type": "surface"
           }
          ],
          "table": [
           {
            "cells": {
             "fill": {
              "color": "#EBF0F8"
             },
             "line": {
              "color": "white"
             }
            },
            "header": {
             "fill": {
              "color": "#C8D4E3"
             },
             "line": {
              "color": "white"
             }
            },
            "type": "table"
           }
          ]
         },
         "layout": {
          "annotationdefaults": {
           "arrowcolor": "#2a3f5f",
           "arrowhead": 0,
           "arrowwidth": 1
          },
          "autotypenumbers": "strict",
          "coloraxis": {
           "colorbar": {
            "outlinewidth": 0,
            "ticks": ""
           }
          },
          "colorscale": {
           "diverging": [
            [
             0,
             "#8e0152"
            ],
            [
             0.1,
             "#c51b7d"
            ],
            [
             0.2,
             "#de77ae"
            ],
            [
             0.3,
             "#f1b6da"
            ],
            [
             0.4,
             "#fde0ef"
            ],
            [
             0.5,
             "#f7f7f7"
            ],
            [
             0.6,
             "#e6f5d0"
            ],
            [
             0.7,
             "#b8e186"
            ],
            [
             0.8,
             "#7fbc41"
            ],
            [
             0.9,
             "#4d9221"
            ],
            [
             1,
             "#276419"
            ]
           ],
           "sequential": [
            [
             0,
             "#0d0887"
            ],
            [
             0.1111111111111111,
             "#46039f"
            ],
            [
             0.2222222222222222,
             "#7201a8"
            ],
            [
             0.3333333333333333,
             "#9c179e"
            ],
            [
             0.4444444444444444,
             "#bd3786"
            ],
            [
             0.5555555555555556,
             "#d8576b"
            ],
            [
             0.6666666666666666,
             "#ed7953"
            ],
            [
             0.7777777777777778,
             "#fb9f3a"
            ],
            [
             0.8888888888888888,
             "#fdca26"
            ],
            [
             1,
             "#f0f921"
            ]
           ],
           "sequentialminus": [
            [
             0,
             "#0d0887"
            ],
            [
             0.1111111111111111,
             "#46039f"
            ],
            [
             0.2222222222222222,
             "#7201a8"
            ],
            [
             0.3333333333333333,
             "#9c179e"
            ],
            [
             0.4444444444444444,
             "#bd3786"
            ],
            [
             0.5555555555555556,
             "#d8576b"
            ],
            [
             0.6666666666666666,
             "#ed7953"
            ],
            [
             0.7777777777777778,
             "#fb9f3a"
            ],
            [
             0.8888888888888888,
             "#fdca26"
            ],
            [
             1,
             "#f0f921"
            ]
           ]
          },
          "colorway": [
           "#636efa",
           "#EF553B",
           "#00cc96",
           "#ab63fa",
           "#FFA15A",
           "#19d3f3",
           "#FF6692",
           "#B6E880",
           "#FF97FF",
           "#FECB52"
          ],
          "font": {
           "color": "#2a3f5f"
          },
          "geo": {
           "bgcolor": "white",
           "lakecolor": "white",
           "landcolor": "#E5ECF6",
           "showlakes": true,
           "showland": true,
           "subunitcolor": "white"
          },
          "hoverlabel": {
           "align": "left"
          },
          "hovermode": "closest",
          "mapbox": {
           "style": "light"
          },
          "paper_bgcolor": "white",
          "plot_bgcolor": "#E5ECF6",
          "polar": {
           "angularaxis": {
            "gridcolor": "white",
            "linecolor": "white",
            "ticks": ""
           },
           "bgcolor": "#E5ECF6",
           "radialaxis": {
            "gridcolor": "white",
            "linecolor": "white",
            "ticks": ""
           }
          },
          "scene": {
           "xaxis": {
            "backgroundcolor": "#E5ECF6",
            "gridcolor": "white",
            "gridwidth": 2,
            "linecolor": "white",
            "showbackground": true,
            "ticks": "",
            "zerolinecolor": "white"
           },
           "yaxis": {
            "backgroundcolor": "#E5ECF6",
            "gridcolor": "white",
            "gridwidth": 2,
            "linecolor": "white",
            "showbackground": true,
            "ticks": "",
            "zerolinecolor": "white"
           },
           "zaxis": {
            "backgroundcolor": "#E5ECF6",
            "gridcolor": "white",
            "gridwidth": 2,
            "linecolor": "white",
            "showbackground": true,
            "ticks": "",
            "zerolinecolor": "white"
           }
          },
          "shapedefaults": {
           "line": {
            "color": "#2a3f5f"
           }
          },
          "ternary": {
           "aaxis": {
            "gridcolor": "white",
            "linecolor": "white",
            "ticks": ""
           },
           "baxis": {
            "gridcolor": "white",
            "linecolor": "white",
            "ticks": ""
           },
           "bgcolor": "#E5ECF6",
           "caxis": {
            "gridcolor": "white",
            "linecolor": "white",
            "ticks": ""
           }
          },
          "title": {
           "x": 0.05
          },
          "xaxis": {
           "automargin": true,
           "gridcolor": "white",
           "linecolor": "white",
           "ticks": "",
           "title": {
            "standoff": 15
           },
           "zerolinecolor": "white",
           "zerolinewidth": 2
          },
          "yaxis": {
           "automargin": true,
           "gridcolor": "white",
           "linecolor": "white",
           "ticks": "",
           "title": {
            "standoff": 15
           },
           "zerolinecolor": "white",
           "zerolinewidth": 2
          }
         }
        },
        "title": {
         "text": "Emoji Distribution"
        }
       }
      },
      "text/html": [
       "<div>                            <div id=\"cbec637d-9c7b-408b-be91-02ec1a2d83db\" class=\"plotly-graph-div\" style=\"height:525px; width:100%;\"></div>            <script type=\"text/javascript\">                require([\"plotly\"], function(Plotly) {                    window.PLOTLYENV=window.PLOTLYENV || {};                                    if (document.getElementById(\"cbec637d-9c7b-408b-be91-02ec1a2d83db\")) {                    Plotly.newPlot(                        \"cbec637d-9c7b-408b-be91-02ec1a2d83db\",                        [{\"domain\": {\"x\": [0.0, 1.0], \"y\": [0.0, 1.0]}, \"hovertemplate\": \"emojis=%{label}<br>count=%{value}<extra></extra>\", \"labels\": [\"\\ud83d\\ude02\", \"\\ud83d\\ude2d\", \"\\ud83e\\udd23\", \"\\ud83d\\udc46\\ud83c\\udffe\", \"\\ud83d\\udd25\", \"\\ud83d\\ude0f\", \"\\ud83d\\udc46\\ud83c\\udffc\", \"\\ud83d\\udcb6\", \"\\u2764\", \"\\ud83e\\udd14\", \"\\ud83d\\udc46\\ud83c\\udffb\", \"\\u2764\\ufe0f\", \"\\ud83d\\ude31\", \"\\ud83d\\udc46\", \"\\ud83d\\udc40\"], \"legendgroup\": \"\", \"name\": \"\", \"showlegend\": true, \"textinfo\": \"percent+label\", \"textposition\": \"inside\", \"type\": \"pie\", \"values\": [21380, 1836, 1783, 1120, 1055, 851, 846, 732, 524, 458, 457, 446, 431, 288, 283]}],                        {\"legend\": {\"tracegroupgap\": 0}, \"template\": {\"data\": {\"bar\": [{\"error_x\": {\"color\": \"#2a3f5f\"}, \"error_y\": {\"color\": \"#2a3f5f\"}, \"marker\": {\"line\": {\"color\": \"#E5ECF6\", \"width\": 0.5}}, \"type\": \"bar\"}], \"barpolar\": [{\"marker\": {\"line\": {\"color\": \"#E5ECF6\", \"width\": 0.5}}, \"type\": \"barpolar\"}], \"carpet\": [{\"aaxis\": {\"endlinecolor\": \"#2a3f5f\", \"gridcolor\": \"white\", \"linecolor\": \"white\", \"minorgridcolor\": \"white\", \"startlinecolor\": \"#2a3f5f\"}, \"baxis\": {\"endlinecolor\": \"#2a3f5f\", \"gridcolor\": \"white\", \"linecolor\": \"white\", \"minorgridcolor\": \"white\", \"startlinecolor\": \"#2a3f5f\"}, \"type\": \"carpet\"}], \"choropleth\": [{\"colorbar\": {\"outlinewidth\": 0, \"ticks\": \"\"}, \"type\": \"choropleth\"}], \"contour\": [{\"colorbar\": {\"outlinewidth\": 0, \"ticks\": \"\"}, \"colorscale\": [[0.0, \"#0d0887\"], [0.1111111111111111, \"#46039f\"], [0.2222222222222222, \"#7201a8\"], [0.3333333333333333, \"#9c179e\"], [0.4444444444444444, \"#bd3786\"], [0.5555555555555556, \"#d8576b\"], [0.6666666666666666, \"#ed7953\"], [0.7777777777777778, \"#fb9f3a\"], [0.8888888888888888, \"#fdca26\"], [1.0, \"#f0f921\"]], \"type\": \"contour\"}], \"contourcarpet\": [{\"colorbar\": {\"outlinewidth\": 0, \"ticks\": \"\"}, \"type\": \"contourcarpet\"}], \"heatmap\": [{\"colorbar\": {\"outlinewidth\": 0, \"ticks\": \"\"}, \"colorscale\": [[0.0, \"#0d0887\"], [0.1111111111111111, \"#46039f\"], [0.2222222222222222, \"#7201a8\"], [0.3333333333333333, \"#9c179e\"], [0.4444444444444444, \"#bd3786\"], [0.5555555555555556, \"#d8576b\"], [0.6666666666666666, \"#ed7953\"], [0.7777777777777778, \"#fb9f3a\"], [0.8888888888888888, \"#fdca26\"], [1.0, \"#f0f921\"]], \"type\": \"heatmap\"}], \"heatmapgl\": [{\"colorbar\": {\"outlinewidth\": 0, \"ticks\": \"\"}, \"colorscale\": [[0.0, \"#0d0887\"], [0.1111111111111111, \"#46039f\"], [0.2222222222222222, \"#7201a8\"], [0.3333333333333333, \"#9c179e\"], [0.4444444444444444, \"#bd3786\"], [0.5555555555555556, \"#d8576b\"], [0.6666666666666666, \"#ed7953\"], [0.7777777777777778, \"#fb9f3a\"], [0.8888888888888888, \"#fdca26\"], [1.0, \"#f0f921\"]], \"type\": \"heatmapgl\"}], \"histogram\": [{\"marker\": {\"colorbar\": {\"outlinewidth\": 0, \"ticks\": \"\"}}, \"type\": \"histogram\"}], \"histogram2d\": [{\"colorbar\": {\"outlinewidth\": 0, \"ticks\": \"\"}, \"colorscale\": [[0.0, \"#0d0887\"], [0.1111111111111111, \"#46039f\"], [0.2222222222222222, \"#7201a8\"], [0.3333333333333333, \"#9c179e\"], [0.4444444444444444, \"#bd3786\"], [0.5555555555555556, \"#d8576b\"], [0.6666666666666666, \"#ed7953\"], [0.7777777777777778, \"#fb9f3a\"], [0.8888888888888888, \"#fdca26\"], [1.0, \"#f0f921\"]], \"type\": \"histogram2d\"}], \"histogram2dcontour\": [{\"colorbar\": {\"outlinewidth\": 0, \"ticks\": \"\"}, \"colorscale\": [[0.0, \"#0d0887\"], [0.1111111111111111, \"#46039f\"], [0.2222222222222222, \"#7201a8\"], [0.3333333333333333, \"#9c179e\"], [0.4444444444444444, \"#bd3786\"], [0.5555555555555556, \"#d8576b\"], [0.6666666666666666, \"#ed7953\"], [0.7777777777777778, \"#fb9f3a\"], [0.8888888888888888, \"#fdca26\"], [1.0, \"#f0f921\"]], \"type\": \"histogram2dcontour\"}], \"mesh3d\": [{\"colorbar\": {\"outlinewidth\": 0, \"ticks\": \"\"}, \"type\": \"mesh3d\"}], \"parcoords\": [{\"line\": {\"colorbar\": {\"outlinewidth\": 0, \"ticks\": \"\"}}, \"type\": \"parcoords\"}], \"pie\": [{\"automargin\": true, \"type\": \"pie\"}], \"scatter\": [{\"marker\": {\"colorbar\": {\"outlinewidth\": 0, \"ticks\": \"\"}}, \"type\": \"scatter\"}], \"scatter3d\": [{\"line\": {\"colorbar\": {\"outlinewidth\": 0, \"ticks\": \"\"}}, \"marker\": {\"colorbar\": {\"outlinewidth\": 0, \"ticks\": \"\"}}, \"type\": \"scatter3d\"}], \"scattercarpet\": [{\"marker\": {\"colorbar\": {\"outlinewidth\": 0, \"ticks\": \"\"}}, \"type\": \"scattercarpet\"}], \"scattergeo\": [{\"marker\": {\"colorbar\": {\"outlinewidth\": 0, \"ticks\": \"\"}}, \"type\": \"scattergeo\"}], \"scattergl\": [{\"marker\": {\"colorbar\": {\"outlinewidth\": 0, \"ticks\": \"\"}}, \"type\": \"scattergl\"}], \"scattermapbox\": [{\"marker\": {\"colorbar\": {\"outlinewidth\": 0, \"ticks\": \"\"}}, \"type\": \"scattermapbox\"}], \"scatterpolar\": [{\"marker\": {\"colorbar\": {\"outlinewidth\": 0, \"ticks\": \"\"}}, \"type\": \"scatterpolar\"}], \"scatterpolargl\": [{\"marker\": {\"colorbar\": {\"outlinewidth\": 0, \"ticks\": \"\"}}, \"type\": \"scatterpolargl\"}], \"scatterternary\": [{\"marker\": {\"colorbar\": {\"outlinewidth\": 0, \"ticks\": \"\"}}, \"type\": \"scatterternary\"}], \"surface\": [{\"colorbar\": {\"outlinewidth\": 0, \"ticks\": \"\"}, \"colorscale\": [[0.0, \"#0d0887\"], [0.1111111111111111, \"#46039f\"], [0.2222222222222222, \"#7201a8\"], [0.3333333333333333, \"#9c179e\"], [0.4444444444444444, \"#bd3786\"], [0.5555555555555556, \"#d8576b\"], [0.6666666666666666, \"#ed7953\"], [0.7777777777777778, \"#fb9f3a\"], [0.8888888888888888, \"#fdca26\"], [1.0, \"#f0f921\"]], \"type\": \"surface\"}], \"table\": [{\"cells\": {\"fill\": {\"color\": \"#EBF0F8\"}, \"line\": {\"color\": \"white\"}}, \"header\": {\"fill\": {\"color\": \"#C8D4E3\"}, \"line\": {\"color\": \"white\"}}, \"type\": \"table\"}]}, \"layout\": {\"annotationdefaults\": {\"arrowcolor\": \"#2a3f5f\", \"arrowhead\": 0, \"arrowwidth\": 1}, \"autotypenumbers\": \"strict\", \"coloraxis\": {\"colorbar\": {\"outlinewidth\": 0, \"ticks\": \"\"}}, \"colorscale\": {\"diverging\": [[0, \"#8e0152\"], [0.1, \"#c51b7d\"], [0.2, \"#de77ae\"], [0.3, \"#f1b6da\"], [0.4, \"#fde0ef\"], [0.5, \"#f7f7f7\"], [0.6, \"#e6f5d0\"], [0.7, \"#b8e186\"], [0.8, \"#7fbc41\"], [0.9, \"#4d9221\"], [1, \"#276419\"]], \"sequential\": [[0.0, \"#0d0887\"], [0.1111111111111111, \"#46039f\"], [0.2222222222222222, \"#7201a8\"], [0.3333333333333333, \"#9c179e\"], [0.4444444444444444, \"#bd3786\"], [0.5555555555555556, \"#d8576b\"], [0.6666666666666666, \"#ed7953\"], [0.7777777777777778, \"#fb9f3a\"], [0.8888888888888888, \"#fdca26\"], [1.0, \"#f0f921\"]], \"sequentialminus\": [[0.0, \"#0d0887\"], [0.1111111111111111, \"#46039f\"], [0.2222222222222222, \"#7201a8\"], [0.3333333333333333, \"#9c179e\"], [0.4444444444444444, \"#bd3786\"], [0.5555555555555556, \"#d8576b\"], [0.6666666666666666, \"#ed7953\"], [0.7777777777777778, \"#fb9f3a\"], [0.8888888888888888, \"#fdca26\"], [1.0, \"#f0f921\"]]}, \"colorway\": [\"#636efa\", \"#EF553B\", \"#00cc96\", \"#ab63fa\", \"#FFA15A\", \"#19d3f3\", \"#FF6692\", \"#B6E880\", \"#FF97FF\", \"#FECB52\"], \"font\": {\"color\": \"#2a3f5f\"}, \"geo\": {\"bgcolor\": \"white\", \"lakecolor\": \"white\", \"landcolor\": \"#E5ECF6\", \"showlakes\": true, \"showland\": true, \"subunitcolor\": \"white\"}, \"hoverlabel\": {\"align\": \"left\"}, \"hovermode\": \"closest\", \"mapbox\": {\"style\": \"light\"}, \"paper_bgcolor\": \"white\", \"plot_bgcolor\": \"#E5ECF6\", \"polar\": {\"angularaxis\": {\"gridcolor\": \"white\", \"linecolor\": \"white\", \"ticks\": \"\"}, \"bgcolor\": \"#E5ECF6\", \"radialaxis\": {\"gridcolor\": \"white\", \"linecolor\": \"white\", \"ticks\": \"\"}}, \"scene\": {\"xaxis\": {\"backgroundcolor\": \"#E5ECF6\", \"gridcolor\": \"white\", \"gridwidth\": 2, \"linecolor\": \"white\", \"showbackground\": true, \"ticks\": \"\", \"zerolinecolor\": \"white\"}, \"yaxis\": {\"backgroundcolor\": \"#E5ECF6\", \"gridcolor\": \"white\", \"gridwidth\": 2, \"linecolor\": \"white\", \"showbackground\": true, \"ticks\": \"\", \"zerolinecolor\": \"white\"}, \"zaxis\": {\"backgroundcolor\": \"#E5ECF6\", \"gridcolor\": \"white\", \"gridwidth\": 2, \"linecolor\": \"white\", \"showbackground\": true, \"ticks\": \"\", \"zerolinecolor\": \"white\"}}, \"shapedefaults\": {\"line\": {\"color\": \"#2a3f5f\"}}, \"ternary\": {\"aaxis\": {\"gridcolor\": \"white\", \"linecolor\": \"white\", \"ticks\": \"\"}, \"baxis\": {\"gridcolor\": \"white\", \"linecolor\": \"white\", \"ticks\": \"\"}, \"bgcolor\": \"#E5ECF6\", \"caxis\": {\"gridcolor\": \"white\", \"linecolor\": \"white\", \"ticks\": \"\"}}, \"title\": {\"x\": 0.05}, \"xaxis\": {\"automargin\": true, \"gridcolor\": \"white\", \"linecolor\": \"white\", \"ticks\": \"\", \"title\": {\"standoff\": 15}, \"zerolinecolor\": \"white\", \"zerolinewidth\": 2}, \"yaxis\": {\"automargin\": true, \"gridcolor\": \"white\", \"linecolor\": \"white\", \"ticks\": \"\", \"title\": {\"standoff\": 15}, \"zerolinecolor\": \"white\", \"zerolinewidth\": 2}}}, \"title\": {\"text\": \"Emoji Distribution\"}},                        {\"responsive\": true}                    ).then(function(){\n",
       "                            \n",
       "var gd = document.getElementById('cbec637d-9c7b-408b-be91-02ec1a2d83db');\n",
       "var x = new MutationObserver(function (mutations, observer) {{\n",
       "        var display = window.getComputedStyle(gd).display;\n",
       "        if (!display || display === 'none') {{\n",
       "            console.log([gd, 'removed!']);\n",
       "            Plotly.purge(gd);\n",
       "            observer.disconnect();\n",
       "        }}\n",
       "}});\n",
       "\n",
       "// Listen for the removal of the full notebook cells\n",
       "var notebookContainer = gd.closest('#notebook-container');\n",
       "if (notebookContainer) {{\n",
       "    x.observe(notebookContainer, {childList: true});\n",
       "}}\n",
       "\n",
       "// Listen for the clearing of the current output cell\n",
       "var outputEl = gd.closest('.output');\n",
       "if (outputEl) {{\n",
       "    x.observe(outputEl, {childList: true});\n",
       "}}\n",
       "\n",
       "                        })                };                });            </script>        </div>"
      ]
     },
     "metadata": {},
     "output_type": "display_data"
    }
   ],
   "source": [
    "total_emojis_list = list([a for b in df.emojis for a in b])\n",
    "emoji_dict = dict(Counter(total_emojis_list))\n",
    "emoji_dict = sorted(emoji_dict.items(), key=lambda x: x[1], reverse=True)\n",
    "\n",
    "emoji_df = pd.DataFrame(emoji_dict, columns=['emojis', 'count'])\n",
    "emoji_df = emoji_df.head(15)\n",
    "\n",
    "import plotly.express as px\n",
    "fig = px.pie(emoji_df, values='count', names='emojis',\n",
    "             title='Emoji Distribution')\n",
    "fig.update_traces(textposition='inside', textinfo='percent+label')\n",
    "fig.show()"
   ]
  },
  {
   "cell_type": "markdown",
   "metadata": {},
   "source": [
    "I wanted to show the use of emojis in the group chat. These are only the top 15 emojis, but the laughing with tears is dominating. Even if I'd show all the emojis it would still be more than 50%!"
   ]
  },
  {
   "cell_type": "markdown",
   "metadata": {},
   "source": [
    "## Part IV: Predictive Model\n",
    "#### Random Forest.\n",
    "Now we're entering the good part of this notebook. We're going to work with a model. I'm chosing Random Forest as my predictive model. It is a so called supervised learning algorithm that can be used for classification and regression. The model is pretty easy to work with. Random Forest is a kind of descision tree, but instead of one tree, it creates multiple trees and keep score of all outcomes. At the end they evaluate the scores and predict the outcome (Naviani, 2018). \n",
    "\n",
    "We'll be using Random Forest as a classification model, since we want to classify the responder. I tried the classifier models KNN and Naive Bayes, but Random Forest had the highest score, so I just went with that one and train it.\n",
    "\n",
    "Random Forest advantages (Anurag, 2018)\n",
    "\n",
    "- Random forest algorithm can be used for both classifications and regression task.\n",
    "- It provides higher accuracy through cross validation.\n",
    "- Random forest classifier will handle the missing values and maintain the accuracy of a large proportion of data.\n",
    "- If there are more trees, it won’t allow over-fitting trees in the model.\n",
    "- It has the power to handle a large data set with higher dimensionality\n",
    "\n",
    "#### Getting the dummies\n",
    "We create dummies, because the model can only take numerical data. Most of our features were alphabetical classified and we need to transform this into numbers. With dummies, pandas creates a column for every value that is in the existing column. The column of the name of the value will return the number 1 in that row. The other columns will return a 0. So a column with four unique values will instead of one column, have 4 columns with the number 1 in one of them."
   ]
  },
  {
   "cell_type": "code",
   "execution_count": 260,
   "metadata": {},
   "outputs": [
    {
     "data": {
      "text/html": [
       "<div>\n",
       "<style scoped>\n",
       "    .dataframe tbody tr th:only-of-type {\n",
       "        vertical-align: middle;\n",
       "    }\n",
       "\n",
       "    .dataframe tbody tr th {\n",
       "        vertical-align: top;\n",
       "    }\n",
       "\n",
       "    .dataframe thead th {\n",
       "        text-align: right;\n",
       "    }\n",
       "</style>\n",
       "<table border=\"1\" class=\"dataframe\">\n",
       "  <thead>\n",
       "    <tr style=\"text-align: right;\">\n",
       "      <th></th>\n",
       "      <th>date_time</th>\n",
       "      <th>text</th>\n",
       "      <th>emojis</th>\n",
       "      <th>responder</th>\n",
       "      <th>words</th>\n",
       "      <th>characters</th>\n",
       "      <th>link</th>\n",
       "      <th>img</th>\n",
       "      <th>audio</th>\n",
       "      <th>emoji_count</th>\n",
       "      <th>...</th>\n",
       "      <th>month_07</th>\n",
       "      <th>month_08</th>\n",
       "      <th>month_09</th>\n",
       "      <th>month_10</th>\n",
       "      <th>month_11</th>\n",
       "      <th>month_12</th>\n",
       "      <th>season_Fall</th>\n",
       "      <th>season_Spring</th>\n",
       "      <th>season_Summer</th>\n",
       "      <th>season_Winter</th>\n",
       "    </tr>\n",
       "  </thead>\n",
       "  <tbody>\n",
       "    <tr>\n",
       "      <th>0</th>\n",
       "      <td>2014-05-10 19:36:39</td>\n",
       "      <td>zemmeks</td>\n",
       "      <td>[]</td>\n",
       "      <td>Faried</td>\n",
       "      <td>1</td>\n",
       "      <td>7</td>\n",
       "      <td>0</td>\n",
       "      <td>0</td>\n",
       "      <td>0</td>\n",
       "      <td>0</td>\n",
       "      <td>...</td>\n",
       "      <td>0</td>\n",
       "      <td>0</td>\n",
       "      <td>0</td>\n",
       "      <td>0</td>\n",
       "      <td>0</td>\n",
       "      <td>0</td>\n",
       "      <td>0</td>\n",
       "      <td>1</td>\n",
       "      <td>0</td>\n",
       "      <td>0</td>\n",
       "    </tr>\n",
       "    <tr>\n",
       "      <th>1</th>\n",
       "      <td>2014-05-10 19:36:41</td>\n",
       "      <td>jajaja</td>\n",
       "      <td>[]</td>\n",
       "      <td>Faried</td>\n",
       "      <td>1</td>\n",
       "      <td>6</td>\n",
       "      <td>0</td>\n",
       "      <td>0</td>\n",
       "      <td>0</td>\n",
       "      <td>0</td>\n",
       "      <td>...</td>\n",
       "      <td>0</td>\n",
       "      <td>0</td>\n",
       "      <td>0</td>\n",
       "      <td>0</td>\n",
       "      <td>0</td>\n",
       "      <td>0</td>\n",
       "      <td>0</td>\n",
       "      <td>1</td>\n",
       "      <td>0</td>\n",
       "      <td>0</td>\n",
       "    </tr>\n",
       "    <tr>\n",
       "      <th>2</th>\n",
       "      <td>2014-05-10 19:36:45</td>\n",
       "      <td>nieuwe iphone</td>\n",
       "      <td>[]</td>\n",
       "      <td>Faried</td>\n",
       "      <td>2</td>\n",
       "      <td>13</td>\n",
       "      <td>0</td>\n",
       "      <td>0</td>\n",
       "      <td>0</td>\n",
       "      <td>0</td>\n",
       "      <td>...</td>\n",
       "      <td>0</td>\n",
       "      <td>0</td>\n",
       "      <td>0</td>\n",
       "      <td>0</td>\n",
       "      <td>0</td>\n",
       "      <td>0</td>\n",
       "      <td>0</td>\n",
       "      <td>1</td>\n",
       "      <td>0</td>\n",
       "      <td>0</td>\n",
       "    </tr>\n",
       "    <tr>\n",
       "      <th>3</th>\n",
       "      <td>2014-05-10 19:36:48</td>\n",
       "      <td>zonder barst</td>\n",
       "      <td>[]</td>\n",
       "      <td>Justin</td>\n",
       "      <td>2</td>\n",
       "      <td>12</td>\n",
       "      <td>0</td>\n",
       "      <td>0</td>\n",
       "      <td>0</td>\n",
       "      <td>0</td>\n",
       "      <td>...</td>\n",
       "      <td>0</td>\n",
       "      <td>0</td>\n",
       "      <td>0</td>\n",
       "      <td>0</td>\n",
       "      <td>0</td>\n",
       "      <td>0</td>\n",
       "      <td>0</td>\n",
       "      <td>1</td>\n",
       "      <td>0</td>\n",
       "      <td>0</td>\n",
       "    </tr>\n",
       "    <tr>\n",
       "      <th>4</th>\n",
       "      <td>2014-05-10 21:55:52</td>\n",
       "      <td>gaan mensen nog aus</td>\n",
       "      <td>[]</td>\n",
       "      <td>Daan</td>\n",
       "      <td>4</td>\n",
       "      <td>19</td>\n",
       "      <td>0</td>\n",
       "      <td>0</td>\n",
       "      <td>0</td>\n",
       "      <td>0</td>\n",
       "      <td>...</td>\n",
       "      <td>0</td>\n",
       "      <td>0</td>\n",
       "      <td>0</td>\n",
       "      <td>0</td>\n",
       "      <td>0</td>\n",
       "      <td>0</td>\n",
       "      <td>0</td>\n",
       "      <td>1</td>\n",
       "      <td>0</td>\n",
       "      <td>0</td>\n",
       "    </tr>\n",
       "  </tbody>\n",
       "</table>\n",
       "<p>5 rows × 167 columns</p>\n",
       "</div>"
      ],
      "text/plain": [
       "             date_time                 text emojis responder  words  \\\n",
       "0  2014-05-10 19:36:39              zemmeks     []    Faried      1   \n",
       "1  2014-05-10 19:36:41               jajaja     []    Faried      1   \n",
       "2  2014-05-10 19:36:45        nieuwe iphone     []    Faried      2   \n",
       "3  2014-05-10 19:36:48         zonder barst     []    Justin      2   \n",
       "4  2014-05-10 21:55:52  gaan mensen nog aus     []      Daan      4   \n",
       "\n",
       "   characters  link  img  audio  emoji_count  ...  month_07  month_08  \\\n",
       "0           7     0    0      0            0  ...         0         0   \n",
       "1           6     0    0      0            0  ...         0         0   \n",
       "2          13     0    0      0            0  ...         0         0   \n",
       "3          12     0    0      0            0  ...         0         0   \n",
       "4          19     0    0      0            0  ...         0         0   \n",
       "\n",
       "   month_09  month_10  month_11  month_12  season_Fall  season_Spring  \\\n",
       "0         0         0         0         0            0              1   \n",
       "1         0         0         0         0            0              1   \n",
       "2         0         0         0         0            0              1   \n",
       "3         0         0         0         0            0              1   \n",
       "4         0         0         0         0            0              1   \n",
       "\n",
       "   season_Summer  season_Winter  \n",
       "0              0              0  \n",
       "1              0              0  \n",
       "2              0              0  \n",
       "3              0              0  \n",
       "4              0              0  \n",
       "\n",
       "[5 rows x 167 columns]"
      ]
     },
     "execution_count": 260,
     "metadata": {},
     "output_type": "execute_result"
    }
   ],
   "source": [
    "df_dum = pd.get_dummies(df, columns=['name', 'before_1mes', 'before_2mes', 'before_3mes', 'before_4mes', 'before_5mes', 'before_6mes', 'before_7mes', 'before_8mes', 'before_9mes', 'before_10mes',  'day', 'wait_time', 'period', 'season'])\n",
    "df_dum=df_dum.fillna(\"\")\n",
    "df_dum.head()"
   ]
  },
  {
   "cell_type": "markdown",
   "metadata": {},
   "source": [
    "Now the new numerical columns are replaced by the alphabatical columns we had. Instead of 26 columns, we now have 167. Let's check if they are all integers."
   ]
  },
  {
   "cell_type": "code",
   "execution_count": 323,
   "metadata": {},
   "outputs": [
    {
     "name": "stdout",
     "output_type": "stream",
     "text": [
      "<class 'pandas.core.frame.DataFrame'>\n",
      "RangeIndex: 388370 entries, 0 to 388369\n",
      "Data columns (total 167 columns):\n",
      " #   Column                Dtype \n",
      "---  ------                ----- \n",
      " 0   date_time             object\n",
      " 1   text                  object\n",
      " 2   emojis                object\n",
      " 3   responder             object\n",
      " 4   words                 int32 \n",
      " 5   characters            int32 \n",
      " 6   link                  int32 \n",
      " 7   img                   int32 \n",
      " 8   audio                 int32 \n",
      " 9   emoji_count           int64 \n",
      " 10  name_Abel             uint8 \n",
      " 11  name_Daan             uint8 \n",
      " 12  name_Faried           uint8 \n",
      " 13  name_Jules            uint8 \n",
      " 14  name_Justin           uint8 \n",
      " 15  name_Max              uint8 \n",
      " 16  name_Mel              uint8 \n",
      " 17  name_Nicko            uint8 \n",
      " 18  name_Ramzy            uint8 \n",
      " 19  name_Rutger           uint8 \n",
      " 20  name_Samson           uint8 \n",
      " 21  before_1mes_Abel      uint8 \n",
      " 22  before_1mes_Daan      uint8 \n",
      " 23  before_1mes_Faried    uint8 \n",
      " 24  before_1mes_Jules     uint8 \n",
      " 25  before_1mes_Justin    uint8 \n",
      " 26  before_1mes_Max       uint8 \n",
      " 27  before_1mes_Mel       uint8 \n",
      " 28  before_1mes_Nicko     uint8 \n",
      " 29  before_1mes_Ramzy     uint8 \n",
      " 30  before_1mes_Rutger    uint8 \n",
      " 31  before_1mes_Samson    uint8 \n",
      " 32  before_2mes_Abel      uint8 \n",
      " 33  before_2mes_Daan      uint8 \n",
      " 34  before_2mes_Faried    uint8 \n",
      " 35  before_2mes_Jules     uint8 \n",
      " 36  before_2mes_Justin    uint8 \n",
      " 37  before_2mes_Max       uint8 \n",
      " 38  before_2mes_Mel       uint8 \n",
      " 39  before_2mes_Nicko     uint8 \n",
      " 40  before_2mes_Ramzy     uint8 \n",
      " 41  before_2mes_Rutger    uint8 \n",
      " 42  before_2mes_Samson    uint8 \n",
      " 43  before_3mes_Abel      uint8 \n",
      " 44  before_3mes_Daan      uint8 \n",
      " 45  before_3mes_Faried    uint8 \n",
      " 46  before_3mes_Jules     uint8 \n",
      " 47  before_3mes_Justin    uint8 \n",
      " 48  before_3mes_Max       uint8 \n",
      " 49  before_3mes_Mel       uint8 \n",
      " 50  before_3mes_Nicko     uint8 \n",
      " 51  before_3mes_Ramzy     uint8 \n",
      " 52  before_3mes_Rutger    uint8 \n",
      " 53  before_3mes_Samson    uint8 \n",
      " 54  before_4mes_Abel      uint8 \n",
      " 55  before_4mes_Daan      uint8 \n",
      " 56  before_4mes_Faried    uint8 \n",
      " 57  before_4mes_Jules     uint8 \n",
      " 58  before_4mes_Justin    uint8 \n",
      " 59  before_4mes_Max       uint8 \n",
      " 60  before_4mes_Mel       uint8 \n",
      " 61  before_4mes_Nicko     uint8 \n",
      " 62  before_4mes_Ramzy     uint8 \n",
      " 63  before_4mes_Rutger    uint8 \n",
      " 64  before_4mes_Samson    uint8 \n",
      " 65  before_5mes_Abel      uint8 \n",
      " 66  before_5mes_Daan      uint8 \n",
      " 67  before_5mes_Faried    uint8 \n",
      " 68  before_5mes_Jules     uint8 \n",
      " 69  before_5mes_Justin    uint8 \n",
      " 70  before_5mes_Max       uint8 \n",
      " 71  before_5mes_Mel       uint8 \n",
      " 72  before_5mes_Nicko     uint8 \n",
      " 73  before_5mes_Ramzy     uint8 \n",
      " 74  before_5mes_Rutger    uint8 \n",
      " 75  before_5mes_Samson    uint8 \n",
      " 76  before_6mes_Abel      uint8 \n",
      " 77  before_6mes_Daan      uint8 \n",
      " 78  before_6mes_Faried    uint8 \n",
      " 79  before_6mes_Jules     uint8 \n",
      " 80  before_6mes_Justin    uint8 \n",
      " 81  before_6mes_Max       uint8 \n",
      " 82  before_6mes_Mel       uint8 \n",
      " 83  before_6mes_Nicko     uint8 \n",
      " 84  before_6mes_Ramzy     uint8 \n",
      " 85  before_6mes_Rutger    uint8 \n",
      " 86  before_6mes_Samson    uint8 \n",
      " 87  before_7mes_Abel      uint8 \n",
      " 88  before_7mes_Daan      uint8 \n",
      " 89  before_7mes_Faried    uint8 \n",
      " 90  before_7mes_Jules     uint8 \n",
      " 91  before_7mes_Justin    uint8 \n",
      " 92  before_7mes_Max       uint8 \n",
      " 93  before_7mes_Mel       uint8 \n",
      " 94  before_7mes_Nicko     uint8 \n",
      " 95  before_7mes_Ramzy     uint8 \n",
      " 96  before_7mes_Rutger    uint8 \n",
      " 97  before_7mes_Samson    uint8 \n",
      " 98  before_8mes_Abel      uint8 \n",
      " 99  before_8mes_Daan      uint8 \n",
      " 100 before_8mes_Faried    uint8 \n",
      " 101 before_8mes_Jules     uint8 \n",
      " 102 before_8mes_Justin    uint8 \n",
      " 103 before_8mes_Max       uint8 \n",
      " 104 before_8mes_Mel       uint8 \n",
      " 105 before_8mes_Nicko     uint8 \n",
      " 106 before_8mes_Ramzy     uint8 \n",
      " 107 before_8mes_Rutger    uint8 \n",
      " 108 before_8mes_Samson    uint8 \n",
      " 109 before_9mes_Abel      uint8 \n",
      " 110 before_9mes_Daan      uint8 \n",
      " 111 before_9mes_Faried    uint8 \n",
      " 112 before_9mes_Jules     uint8 \n",
      " 113 before_9mes_Justin    uint8 \n",
      " 114 before_9mes_Max       uint8 \n",
      " 115 before_9mes_Mel       uint8 \n",
      " 116 before_9mes_Nicko     uint8 \n",
      " 117 before_9mes_Ramzy     uint8 \n",
      " 118 before_9mes_Rutger    uint8 \n",
      " 119 before_9mes_Samson    uint8 \n",
      " 120 before_10mes_Abel     uint8 \n",
      " 121 before_10mes_Daan     uint8 \n",
      " 122 before_10mes_Faried   uint8 \n",
      " 123 before_10mes_Jules    uint8 \n",
      " 124 before_10mes_Justin   uint8 \n",
      " 125 before_10mes_Max      uint8 \n",
      " 126 before_10mes_Mel      uint8 \n",
      " 127 before_10mes_Nicko    uint8 \n",
      " 128 before_10mes_Ramzy    uint8 \n",
      " 129 before_10mes_Rutger   uint8 \n",
      " 130 before_10mes_Samson   uint8 \n",
      " 131 day_Friday            uint8 \n",
      " 132 day_Monday            uint8 \n",
      " 133 day_Saturday          uint8 \n",
      " 134 day_Sunday            uint8 \n",
      " 135 day_Thursday          uint8 \n",
      " 136 day_Tuesday           uint8 \n",
      " 137 day_Wednesday         uint8 \n",
      " 138 wait_time_10m         uint8 \n",
      " 139 wait_time_15m         uint8 \n",
      " 140 wait_time_1h          uint8 \n",
      " 141 wait_time_1h+         uint8 \n",
      " 142 wait_time_1min        uint8 \n",
      " 143 wait_time_30m         uint8 \n",
      " 144 wait_time_5m          uint8 \n",
      " 145 period_Early Morning  uint8 \n",
      " 146 period_Evening        uint8 \n",
      " 147 period_Late Night     uint8 \n",
      " 148 period_Morning        uint8 \n",
      " 149 period_Night          uint8 \n",
      " 150 period_Noon           uint8 \n",
      " 151 month_01              uint8 \n",
      " 152 month_02              uint8 \n",
      " 153 month_03              uint8 \n",
      " 154 month_04              uint8 \n",
      " 155 month_05              uint8 \n",
      " 156 month_06              uint8 \n",
      " 157 month_07              uint8 \n",
      " 158 month_08              uint8 \n",
      " 159 month_09              uint8 \n",
      " 160 month_10              uint8 \n",
      " 161 month_11              uint8 \n",
      " 162 month_12              uint8 \n",
      " 163 season_Fall           uint8 \n",
      " 164 season_Spring         uint8 \n",
      " 165 season_Summer         uint8 \n",
      " 166 season_Winter         uint8 \n",
      "dtypes: int32(5), int64(1), object(4), uint8(157)\n",
      "memory usage: 80.4+ MB\n"
     ]
    }
   ],
   "source": [
    "df_dum.info(50)"
   ]
  },
  {
   "cell_type": "markdown",
   "metadata": {},
   "source": [
    "### The Model: Random Forest\n",
    "\n",
    "Now we're importing the actual libraries for the model."
   ]
  },
  {
   "cell_type": "code",
   "execution_count": 276,
   "metadata": {},
   "outputs": [],
   "source": [
    "import sklearn as sk\n",
    "import pandas as pd\n",
    "import seaborn as sns\n",
    "import matplotlib.pyplot as plt\n",
    "import numpy as np\n",
    "\n",
    "from sklearn.ensemble import RandomForestClassifier\n",
    "from sklearn.model_selection import train_test_split\n",
    "from sklearn.metrics import confusion_matrix, accuracy_score, classification_report\n",
    "\n",
    "%matplotlib inline"
   ]
  },
  {
   "cell_type": "markdown",
   "metadata": {},
   "source": [
    "Let's check the possible outcomes of our Y variable one more time. The Y variable is the responder of the message. There will be one empty cell, because that is the last row and wasn't known at the time. Now we know that the answer was Jules (he double texted)."
   ]
  },
  {
   "cell_type": "code",
   "execution_count": 298,
   "metadata": {},
   "outputs": [
    {
     "data": {
      "text/plain": [
       "Faried    0.256446\n",
       "Mel       0.204200\n",
       "Abel      0.158112\n",
       "Samson    0.121266\n",
       "Max       0.061351\n",
       "Justin    0.047210\n",
       "Daan      0.041525\n",
       "Jules     0.041213\n",
       "Ramzy     0.033440\n",
       "Rutger    0.029871\n",
       "Nicko     0.005363\n",
       "          0.000003\n",
       "Name: responder, dtype: float64"
      ]
     },
     "execution_count": 298,
     "metadata": {},
     "output_type": "execute_result"
    }
   ],
   "source": [
    "df_dum['responder'].value_counts(normalize=True)"
   ]
  },
  {
   "cell_type": "code",
   "execution_count": 300,
   "metadata": {},
   "outputs": [
    {
     "data": {
      "text/plain": [
       "0.04436748461518655"
      ]
     },
     "execution_count": 300,
     "metadata": {},
     "output_type": "execute_result"
    }
   ],
   "source": [
    "df_dum['responder'].value_counts(normalize=True).median()"
   ]
  },
  {
   "cell_type": "markdown",
   "metadata": {},
   "source": [
    "You could say that the the chance of every guy in the chat is 100/11= 9% per guy. But, the number of messages of each person is changing this idea. So, the highest is Faried with 26% of the messages  and the lowest is Nicko with 0.005% of all messages. The chance that it's Nicko who will respond based on this, is very unlikely. Because the values are so wide apart, we also checked the median. That is the middle point of this set of numbers, there are an evenly number of values above as below the median.\n",
    "\n",
    "Let's also not forget the double texters. That was 38%, the goal is at least to be above this number. Because I predict that it is rather easy for the model to recognize the double texters. My hopes are on doubling the chances of the highest bidder, Faried, 52%.\n",
    "\n",
    "Now let's start with the algorithm!"
   ]
  },
  {
   "cell_type": "code",
   "execution_count": 261,
   "metadata": {},
   "outputs": [],
   "source": [
    "# Assigning the X and y\n",
    "X = df_dum.loc[:,'words':'season_Winter'] #This gets all the columns from Words to Season_Winter\n",
    "y = df_dum['responder'] # Here we assign the Y variable.\n",
    "\n",
    "# Now we have to create our test and training sets. The training set will be 70% of our data set.\n",
    "# We put random state as 1 so we will have the same outcome when we try the model multiple times.\n",
    "X_train, X_test, y_train, y_test = train_test_split(X, y, test_size=0.3, random_state=1)"
   ]
  },
  {
   "cell_type": "code",
   "execution_count": 262,
   "metadata": {},
   "outputs": [],
   "source": [
    "rf = RandomForestClassifier(random_state=1, n_estimators=100) #RF is a random algorithm, so to get the same results we need to use random_state\n",
    "rf = rf.fit(X_train, y_train)"
   ]
  },
  {
   "cell_type": "code",
   "execution_count": 290,
   "metadata": {},
   "outputs": [
    {
     "data": {
      "text/plain": [
       "0.46954364823922207"
      ]
     },
     "execution_count": 290,
     "metadata": {},
     "output_type": "execute_result"
    }
   ],
   "source": [
    "rf.score(X_test, y_test)"
   ]
  },
  {
   "cell_type": "markdown",
   "metadata": {},
   "source": [
    "So we came down to a score of 47%. I think that is already pretty good based on the fact that we didn't do text mining."
   ]
  },
  {
   "cell_type": "code",
   "execution_count": 264,
   "metadata": {
    "scrolled": true
   },
   "outputs": [
    {
     "data": {
      "text/html": [
       "<div>\n",
       "<style scoped>\n",
       "    .dataframe tbody tr th:only-of-type {\n",
       "        vertical-align: middle;\n",
       "    }\n",
       "\n",
       "    .dataframe tbody tr th {\n",
       "        vertical-align: top;\n",
       "    }\n",
       "\n",
       "    .dataframe thead th {\n",
       "        text-align: right;\n",
       "    }\n",
       "</style>\n",
       "<table border=\"1\" class=\"dataframe\">\n",
       "  <thead>\n",
       "    <tr style=\"text-align: right;\">\n",
       "      <th></th>\n",
       "      <th>leeg</th>\n",
       "      <th>Abel (pred)</th>\n",
       "      <th>Daan (pred)</th>\n",
       "      <th>Faried (pred)</th>\n",
       "      <th>Jules (pred)</th>\n",
       "      <th>Justin (pred)</th>\n",
       "      <th>Max (pred)</th>\n",
       "      <th>Mel (pred)</th>\n",
       "      <th>Nicko (pred)</th>\n",
       "      <th>Ramzy (pred)</th>\n",
       "      <th>Rutger (pred)</th>\n",
       "      <th>Samson (pred)</th>\n",
       "    </tr>\n",
       "  </thead>\n",
       "  <tbody>\n",
       "    <tr>\n",
       "      <th>leeg</th>\n",
       "      <td>0</td>\n",
       "      <td>0</td>\n",
       "      <td>0</td>\n",
       "      <td>1</td>\n",
       "      <td>0</td>\n",
       "      <td>0</td>\n",
       "      <td>0</td>\n",
       "      <td>0</td>\n",
       "      <td>0</td>\n",
       "      <td>0</td>\n",
       "      <td>0</td>\n",
       "      <td>0</td>\n",
       "    </tr>\n",
       "    <tr>\n",
       "      <th>Abel (act)</th>\n",
       "      <td>0</td>\n",
       "      <td>10050</td>\n",
       "      <td>215</td>\n",
       "      <td>2980</td>\n",
       "      <td>281</td>\n",
       "      <td>273</td>\n",
       "      <td>342</td>\n",
       "      <td>2857</td>\n",
       "      <td>17</td>\n",
       "      <td>121</td>\n",
       "      <td>161</td>\n",
       "      <td>1035</td>\n",
       "    </tr>\n",
       "    <tr>\n",
       "      <th>Daan (act)</th>\n",
       "      <td>0</td>\n",
       "      <td>648</td>\n",
       "      <td>1369</td>\n",
       "      <td>1258</td>\n",
       "      <td>55</td>\n",
       "      <td>91</td>\n",
       "      <td>142</td>\n",
       "      <td>888</td>\n",
       "      <td>8</td>\n",
       "      <td>42</td>\n",
       "      <td>69</td>\n",
       "      <td>246</td>\n",
       "    </tr>\n",
       "    <tr>\n",
       "      <th>Faried (act)</th>\n",
       "      <td>0</td>\n",
       "      <td>2923</td>\n",
       "      <td>473</td>\n",
       "      <td>18663</td>\n",
       "      <td>385</td>\n",
       "      <td>284</td>\n",
       "      <td>846</td>\n",
       "      <td>4058</td>\n",
       "      <td>17</td>\n",
       "      <td>213</td>\n",
       "      <td>362</td>\n",
       "      <td>1613</td>\n",
       "    </tr>\n",
       "    <tr>\n",
       "      <th>Jules (act)</th>\n",
       "      <td>0</td>\n",
       "      <td>690</td>\n",
       "      <td>47</td>\n",
       "      <td>1015</td>\n",
       "      <td>1495</td>\n",
       "      <td>67</td>\n",
       "      <td>151</td>\n",
       "      <td>907</td>\n",
       "      <td>4</td>\n",
       "      <td>41</td>\n",
       "      <td>55</td>\n",
       "      <td>322</td>\n",
       "    </tr>\n",
       "    <tr>\n",
       "      <th>Justin (act)</th>\n",
       "      <td>0</td>\n",
       "      <td>1205</td>\n",
       "      <td>104</td>\n",
       "      <td>1259</td>\n",
       "      <td>156</td>\n",
       "      <td>914</td>\n",
       "      <td>145</td>\n",
       "      <td>1199</td>\n",
       "      <td>17</td>\n",
       "      <td>68</td>\n",
       "      <td>86</td>\n",
       "      <td>449</td>\n",
       "    </tr>\n",
       "    <tr>\n",
       "      <th>Max (act)</th>\n",
       "      <td>0</td>\n",
       "      <td>667</td>\n",
       "      <td>102</td>\n",
       "      <td>1688</td>\n",
       "      <td>123</td>\n",
       "      <td>74</td>\n",
       "      <td>2494</td>\n",
       "      <td>1200</td>\n",
       "      <td>9</td>\n",
       "      <td>56</td>\n",
       "      <td>48</td>\n",
       "      <td>591</td>\n",
       "    </tr>\n",
       "    <tr>\n",
       "      <th>Mel (act)</th>\n",
       "      <td>0</td>\n",
       "      <td>3189</td>\n",
       "      <td>404</td>\n",
       "      <td>5414</td>\n",
       "      <td>555</td>\n",
       "      <td>359</td>\n",
       "      <td>743</td>\n",
       "      <td>10807</td>\n",
       "      <td>20</td>\n",
       "      <td>228</td>\n",
       "      <td>350</td>\n",
       "      <td>1873</td>\n",
       "    </tr>\n",
       "    <tr>\n",
       "      <th>Nicko (act)</th>\n",
       "      <td>0</td>\n",
       "      <td>136</td>\n",
       "      <td>8</td>\n",
       "      <td>134</td>\n",
       "      <td>24</td>\n",
       "      <td>29</td>\n",
       "      <td>30</td>\n",
       "      <td>141</td>\n",
       "      <td>86</td>\n",
       "      <td>6</td>\n",
       "      <td>5</td>\n",
       "      <td>37</td>\n",
       "    </tr>\n",
       "    <tr>\n",
       "      <th>Ramzy (act)</th>\n",
       "      <td>0</td>\n",
       "      <td>646</td>\n",
       "      <td>68</td>\n",
       "      <td>1082</td>\n",
       "      <td>50</td>\n",
       "      <td>84</td>\n",
       "      <td>126</td>\n",
       "      <td>835</td>\n",
       "      <td>2</td>\n",
       "      <td>676</td>\n",
       "      <td>81</td>\n",
       "      <td>269</td>\n",
       "    </tr>\n",
       "    <tr>\n",
       "      <th>Rutger (act)</th>\n",
       "      <td>0</td>\n",
       "      <td>423</td>\n",
       "      <td>48</td>\n",
       "      <td>624</td>\n",
       "      <td>34</td>\n",
       "      <td>42</td>\n",
       "      <td>30</td>\n",
       "      <td>577</td>\n",
       "      <td>1</td>\n",
       "      <td>34</td>\n",
       "      <td>1491</td>\n",
       "      <td>150</td>\n",
       "    </tr>\n",
       "    <tr>\n",
       "      <th>Samson (act)</th>\n",
       "      <td>0</td>\n",
       "      <td>1667</td>\n",
       "      <td>130</td>\n",
       "      <td>2309</td>\n",
       "      <td>228</td>\n",
       "      <td>167</td>\n",
       "      <td>428</td>\n",
       "      <td>2258</td>\n",
       "      <td>15</td>\n",
       "      <td>114</td>\n",
       "      <td>148</td>\n",
       "      <td>6662</td>\n",
       "    </tr>\n",
       "  </tbody>\n",
       "</table>\n",
       "</div>"
      ],
      "text/plain": [
       "              leeg  Abel (pred)  Daan (pred)  Faried (pred)  Jules (pred)  \\\n",
       "leeg             0            0            0              1             0   \n",
       "Abel (act)       0        10050          215           2980           281   \n",
       "Daan (act)       0          648         1369           1258            55   \n",
       "Faried (act)     0         2923          473          18663           385   \n",
       "Jules (act)      0          690           47           1015          1495   \n",
       "Justin (act)     0         1205          104           1259           156   \n",
       "Max (act)        0          667          102           1688           123   \n",
       "Mel (act)        0         3189          404           5414           555   \n",
       "Nicko (act)      0          136            8            134            24   \n",
       "Ramzy (act)      0          646           68           1082            50   \n",
       "Rutger (act)     0          423           48            624            34   \n",
       "Samson (act)     0         1667          130           2309           228   \n",
       "\n",
       "              Justin (pred)  Max (pred)  Mel (pred)  Nicko (pred)  \\\n",
       "leeg                      0           0           0             0   \n",
       "Abel (act)              273         342        2857            17   \n",
       "Daan (act)               91         142         888             8   \n",
       "Faried (act)            284         846        4058            17   \n",
       "Jules (act)              67         151         907             4   \n",
       "Justin (act)            914         145        1199            17   \n",
       "Max (act)                74        2494        1200             9   \n",
       "Mel (act)               359         743       10807            20   \n",
       "Nicko (act)              29          30         141            86   \n",
       "Ramzy (act)              84         126         835             2   \n",
       "Rutger (act)             42          30         577             1   \n",
       "Samson (act)            167         428        2258            15   \n",
       "\n",
       "              Ramzy (pred)  Rutger (pred)  Samson (pred)  \n",
       "leeg                     0              0              0  \n",
       "Abel (act)             121            161           1035  \n",
       "Daan (act)              42             69            246  \n",
       "Faried (act)           213            362           1613  \n",
       "Jules (act)             41             55            322  \n",
       "Justin (act)            68             86            449  \n",
       "Max (act)               56             48            591  \n",
       "Mel (act)              228            350           1873  \n",
       "Nicko (act)              6              5             37  \n",
       "Ramzy (act)            676             81            269  \n",
       "Rutger (act)            34           1491            150  \n",
       "Samson (act)           114            148           6662  "
      ]
     },
     "execution_count": 264,
     "metadata": {},
     "output_type": "execute_result"
    }
   ],
   "source": [
    "y_pred = rf.predict(X_test) #the predicted values\n",
    "cm = confusion_matrix(y_test, y_pred) #creates a \"confusion matrix\"\n",
    "cm = pd.DataFrame(cm, index=['leeg','Abel (act)', 'Daan (act)','Faried (act)','Jules (act)','Justin (act)','Max (act)','Mel (act)','Nicko (act)','Ramzy (act)','Rutger (act)','Samson (act)'],\n",
    "                  columns = ['leeg','Abel (pred)', 'Daan (pred)','Faried (pred)','Jules (pred)','Justin (pred)','Max (pred)','Mel (pred)','Nicko (pred)','Ramzy (pred)','Rutger (pred)','Samson (pred)']) #label and make df\n",
    "cm"
   ]
  },
  {
   "cell_type": "markdown",
   "metadata": {},
   "source": [
    "With the confusion matrix we can see clearly where the model struggled with guessing. And you can see that the guys with most messages, Mel and Faried, are overrepresented in the other columns.\n",
    "\n",
    "I saw this other confusion matrix online that I really liked, so I copied the code. With that matrix we have a better view of the recall of all predictions."
   ]
  },
  {
   "cell_type": "code",
   "execution_count": 275,
   "metadata": {},
   "outputs": [
    {
     "data": {
      "image/png": "[encoded data removed]",
      "text/plain": [
       "<Figure size 1152x504 with 2 Axes>"
      ]
     },
     "metadata": {
      "needs_background": "light"
     },
     "output_type": "display_data"
    }
   ],
   "source": [
    "# https://medium.com/analytics-vidhya/evaluating-a-random-forest-model-9d165595ad56\n",
    "\n",
    "# Get and reshape confusion matrix data\n",
    "matrix = confusion_matrix(y_test, y_pred)\n",
    "matrix = matrix.astype('float') / matrix.sum(axis=1)[:, np.newaxis]\n",
    "\n",
    "# Build the plot\n",
    "plt.figure(figsize=(16,7))\n",
    "sns.set(font_scale=1.4)\n",
    "sns.heatmap(matrix, annot=True, annot_kws={'size':10},\n",
    "            cmap=plt.cm.Greens, linewidths=0.2)\n",
    "\n",
    "# Add labels to the plot\n",
    "class_names = ['empty','Abel', 'Daan','Faried','Jules','Justin','Max','Mel','Nicko','Ramzy','Rutger','Samson']\n",
    "tick_marks = np.arange(len(class_names))\n",
    "tick_marks2 = tick_marks + 0.5\n",
    "plt.xticks(tick_marks, class_names, rotation=25)\n",
    "plt.yticks(tick_marks2, class_names, rotation=0)\n",
    "plt.xlabel('Predicted label')\n",
    "plt.ylabel('True label')\n",
    "plt.title('Confusion Matrix for Random Forest Model')\n",
    "plt.show()"
   ]
  },
  {
   "cell_type": "markdown",
   "metadata": {},
   "source": [
    "## Part V: Evaluation"
   ]
  },
  {
   "cell_type": "markdown",
   "metadata": {},
   "source": [
    "So to sum up everything. First we implemented the data set, then we cleaned the data and added new features. After that we analysed the data, in reality this happened during we added new features to get new insights. We chose Random Forest as our algorithm that would classify our outcomes. Now we're going to evaluate the results."
   ]
  },
  {
   "cell_type": "code",
   "execution_count": 326,
   "metadata": {},
   "outputs": [
    {
     "name": "stdout",
     "output_type": "stream",
     "text": [
      "              precision    recall  f1-score   support\n",
      "\n",
      "                   0.00      0.00      0.00         1\n",
      "        Abel       0.45      0.55      0.50     18332\n",
      "        Daan       0.46      0.28      0.35      4816\n",
      "      Faried       0.51      0.63      0.56     29837\n",
      "       Jules       0.44      0.31      0.37      4794\n",
      "      Justin       0.38      0.16      0.23      5602\n",
      "         Max       0.46      0.35      0.40      7052\n",
      "         Mel       0.42      0.45      0.44     23942\n",
      "       Nicko       0.44      0.14      0.21       636\n",
      "       Ramzy       0.42      0.17      0.25      3919\n",
      "      Rutger       0.52      0.43      0.47      3454\n",
      "      Samson       0.50      0.47      0.49     14126\n",
      "\n",
      "    accuracy                           0.47    116511\n",
      "   macro avg       0.42      0.33      0.35    116511\n",
      "weighted avg       0.46      0.47      0.46    116511\n",
      "\n"
     ]
    }
   ],
   "source": [
    "# Let's print the classification report.\n",
    "print(classification_report(y_test, y_pred))"
   ]
  },
  {
   "cell_type": "markdown",
   "metadata": {},
   "source": [
    "The model works best for guys with a high support and a high percentage of double messages, such as Faried (53%), Abel (47%) and Samson (45%). Justin, for example, double texts way less (26%) and you can really see a low on his recall. Most times when I added features it would only feed the ones with a big support. It was killing the ones with a lower support like Nicko and Rutger.\n",
    "\n",
    "Nicko, Ramzy and Justin were very hard to predict. They have a very low recall, so they were confused a lot with false negatives. If you look at the confusion matrix, they all were confused a lot with the 3 guys with the most messages: Faried, Mel and Abel. They have such a high support so the model can distinguish them poorly.\n",
    "\n",
    "I like it that Rutger has such a high score. Probably because most features were really set for his type of behaviour. He text mostly in summer, responds to certain people and short messages.\n",
    "\n",
    "Samson seem to be predicted very good. He had a good support, but not as high as the top 3 earlier mentioned. He probably has his own style of texting that the system could distinguish him from the top 3 support guys. They probably has so much support that they attract most false positives already.\n",
    "\n",
    "Overall, I think my score of 47% accuracy is pretty good. As I said earlier, I wanted to have a score above 50%. But seeing the results and the effect the support has on the predictions. I think I should be very happy with my 47%. Given the fact that I didn't implement some kind of text mining into my model."
   ]
  },
  {
   "cell_type": "markdown",
   "metadata": {},
   "source": [
    "### Citations\n",
    "\n",
    "Anurag. (2018, August 17). Random Forest Analysis in ML and when to use it. NewGenApps. https://www.newgenapps.com/blog/random-forest-analysis-in-ml-and-when-to-use-it/\n",
    "\n",
    "Navlani, A. (2018, May 16). Understanding Random Forests Classifiers in Python. Datacamp. https://www.datacamp.com/community/tutorials/random-forests-classifier-python"
   ]
  },
  {
   "cell_type": "markdown",
   "metadata": {},
   "source": [
    "## Extra! Adding text mining\n",
    "I really wanted to add text mining. But due to a stupid bug in my code, I lost a lot of time at the end. Here is how far I came. I just really wanted to still show the progress. I know how the concept works to add the document feature matrix on the dummy model. But at the end it wasn't cutting it."
   ]
  },
  {
   "cell_type": "code",
   "execution_count": 306,
   "metadata": {},
   "outputs": [
    {
     "data": {
      "text/html": [
       "<div>\n",
       "<style scoped>\n",
       "    .dataframe tbody tr th:only-of-type {\n",
       "        vertical-align: middle;\n",
       "    }\n",
       "\n",
       "    .dataframe tbody tr th {\n",
       "        vertical-align: top;\n",
       "    }\n",
       "\n",
       "    .dataframe thead th {\n",
       "        text-align: right;\n",
       "    }\n",
       "</style>\n",
       "<table border=\"1\" class=\"dataframe\">\n",
       "  <thead>\n",
       "    <tr style=\"text-align: right;\">\n",
       "      <th></th>\n",
       "      <th>index</th>\n",
       "      <th>date_time</th>\n",
       "      <th>name</th>\n",
       "      <th>text</th>\n",
       "      <th>emojis</th>\n",
       "      <th>responder</th>\n",
       "      <th>words</th>\n",
       "      <th>characters</th>\n",
       "      <th>link</th>\n",
       "      <th>img</th>\n",
       "      <th>...</th>\n",
       "      <th>before_4mes</th>\n",
       "      <th>before_5mes</th>\n",
       "      <th>before_6mes</th>\n",
       "      <th>before_7mes</th>\n",
       "      <th>before_8mes</th>\n",
       "      <th>before_9mes</th>\n",
       "      <th>before_10mes</th>\n",
       "      <th>emoji_count</th>\n",
       "      <th>wait_time</th>\n",
       "      <th>month</th>\n",
       "    </tr>\n",
       "  </thead>\n",
       "  <tbody>\n",
       "    <tr>\n",
       "      <th>0</th>\n",
       "      <td>365968</td>\n",
       "      <td>2020-08-01 00:12:11</td>\n",
       "      <td>Nicko</td>\n",
       "      <td>tot t eind</td>\n",
       "      <td>[]</td>\n",
       "      <td>Faried</td>\n",
       "      <td>3</td>\n",
       "      <td>10</td>\n",
       "      <td>0</td>\n",
       "      <td>0</td>\n",
       "      <td>...</td>\n",
       "      <td>Nicko</td>\n",
       "      <td>Abel</td>\n",
       "      <td>Rutger</td>\n",
       "      <td>Rutger</td>\n",
       "      <td>Abel</td>\n",
       "      <td>Abel</td>\n",
       "      <td>Rutger</td>\n",
       "      <td>0</td>\n",
       "      <td>1h+</td>\n",
       "      <td>08</td>\n",
       "    </tr>\n",
       "    <tr>\n",
       "      <th>1</th>\n",
       "      <td>365969</td>\n",
       "      <td>2020-08-01 09:31:32</td>\n",
       "      <td>Faried</td>\n",
       "      <td>shiittt hahahaha</td>\n",
       "      <td>[]</td>\n",
       "      <td>Faried</td>\n",
       "      <td>2</td>\n",
       "      <td>16</td>\n",
       "      <td>0</td>\n",
       "      <td>0</td>\n",
       "      <td>...</td>\n",
       "      <td>Abel</td>\n",
       "      <td>Nicko</td>\n",
       "      <td>Abel</td>\n",
       "      <td>Rutger</td>\n",
       "      <td>Rutger</td>\n",
       "      <td>Abel</td>\n",
       "      <td>Abel</td>\n",
       "      <td>0</td>\n",
       "      <td>1min</td>\n",
       "      <td>08</td>\n",
       "    </tr>\n",
       "    <tr>\n",
       "      <th>2</th>\n",
       "      <td>365970</td>\n",
       "      <td>2020-08-01 09:31:40</td>\n",
       "      <td>Faried</td>\n",
       "      <td>ey voor de hercu boys</td>\n",
       "      <td>[]</td>\n",
       "      <td>Faried</td>\n",
       "      <td>5</td>\n",
       "      <td>21</td>\n",
       "      <td>0</td>\n",
       "      <td>0</td>\n",
       "      <td>...</td>\n",
       "      <td>Abel</td>\n",
       "      <td>Abel</td>\n",
       "      <td>Nicko</td>\n",
       "      <td>Abel</td>\n",
       "      <td>Rutger</td>\n",
       "      <td>Rutger</td>\n",
       "      <td>Abel</td>\n",
       "      <td>0</td>\n",
       "      <td>1min</td>\n",
       "      <td>08</td>\n",
       "    </tr>\n",
       "    <tr>\n",
       "      <th>3</th>\n",
       "      <td>365971</td>\n",
       "      <td>2020-08-01 09:31:55</td>\n",
       "      <td>Faried</td>\n",
       "      <td>zeker gevlogen vannacht</td>\n",
       "      <td>[]</td>\n",
       "      <td>Faried</td>\n",
       "      <td>3</td>\n",
       "      <td>23</td>\n",
       "      <td>0</td>\n",
       "      <td>0</td>\n",
       "      <td>...</td>\n",
       "      <td>Justin</td>\n",
       "      <td>Abel</td>\n",
       "      <td>Abel</td>\n",
       "      <td>Nicko</td>\n",
       "      <td>Abel</td>\n",
       "      <td>Rutger</td>\n",
       "      <td>Rutger</td>\n",
       "      <td>0</td>\n",
       "      <td>1min</td>\n",
       "      <td>08</td>\n",
       "    </tr>\n",
       "    <tr>\n",
       "      <th>4</th>\n",
       "      <td>365972</td>\n",
       "      <td>2020-08-01 09:32:06</td>\n",
       "      <td>Faried</td>\n",
       "      <td>was bij scott en de boy was panchi</td>\n",
       "      <td>[]</td>\n",
       "      <td>Faried</td>\n",
       "      <td>8</td>\n",
       "      <td>34</td>\n",
       "      <td>0</td>\n",
       "      <td>0</td>\n",
       "      <td>...</td>\n",
       "      <td>Nicko</td>\n",
       "      <td>Justin</td>\n",
       "      <td>Abel</td>\n",
       "      <td>Abel</td>\n",
       "      <td>Nicko</td>\n",
       "      <td>Abel</td>\n",
       "      <td>Rutger</td>\n",
       "      <td>0</td>\n",
       "      <td>1min</td>\n",
       "      <td>08</td>\n",
       "    </tr>\n",
       "    <tr>\n",
       "      <th>...</th>\n",
       "      <td>...</td>\n",
       "      <td>...</td>\n",
       "      <td>...</td>\n",
       "      <td>...</td>\n",
       "      <td>...</td>\n",
       "      <td>...</td>\n",
       "      <td>...</td>\n",
       "      <td>...</td>\n",
       "      <td>...</td>\n",
       "      <td>...</td>\n",
       "      <td>...</td>\n",
       "      <td>...</td>\n",
       "      <td>...</td>\n",
       "      <td>...</td>\n",
       "      <td>...</td>\n",
       "      <td>...</td>\n",
       "      <td>...</td>\n",
       "      <td>...</td>\n",
       "      <td>...</td>\n",
       "      <td>...</td>\n",
       "      <td>...</td>\n",
       "    </tr>\n",
       "    <tr>\n",
       "      <th>22397</th>\n",
       "      <td>388365</td>\n",
       "      <td>2021-01-12 13:48:09</td>\n",
       "      <td>Faried</td>\n",
       "      <td>afbeelding weggelaten</td>\n",
       "      <td>[]</td>\n",
       "      <td>Faried</td>\n",
       "      <td>2</td>\n",
       "      <td>21</td>\n",
       "      <td>0</td>\n",
       "      <td>1</td>\n",
       "      <td>...</td>\n",
       "      <td>Ramzy</td>\n",
       "      <td>Faried</td>\n",
       "      <td>Ramzy</td>\n",
       "      <td>Faried</td>\n",
       "      <td>Ramzy</td>\n",
       "      <td>Ramzy</td>\n",
       "      <td>Daan</td>\n",
       "      <td>0</td>\n",
       "      <td>1min</td>\n",
       "      <td>01</td>\n",
       "    </tr>\n",
       "    <tr>\n",
       "      <th>22398</th>\n",
       "      <td>388366</td>\n",
       "      <td>2021-01-12 13:48:25</td>\n",
       "      <td>Faried</td>\n",
       "      <td>enge enge klappers</td>\n",
       "      <td>[]</td>\n",
       "      <td>Max</td>\n",
       "      <td>3</td>\n",
       "      <td>18</td>\n",
       "      <td>0</td>\n",
       "      <td>0</td>\n",
       "      <td>...</td>\n",
       "      <td>Ramzy</td>\n",
       "      <td>Ramzy</td>\n",
       "      <td>Faried</td>\n",
       "      <td>Ramzy</td>\n",
       "      <td>Faried</td>\n",
       "      <td>Ramzy</td>\n",
       "      <td>Ramzy</td>\n",
       "      <td>0</td>\n",
       "      <td>5m</td>\n",
       "      <td>01</td>\n",
       "    </tr>\n",
       "    <tr>\n",
       "      <th>22399</th>\n",
       "      <td>388367</td>\n",
       "      <td>2021-01-12 13:49:47</td>\n",
       "      <td>Max</td>\n",
       "      <td>3andek he</td>\n",
       "      <td>[]</td>\n",
       "      <td>Max</td>\n",
       "      <td>2</td>\n",
       "      <td>9</td>\n",
       "      <td>0</td>\n",
       "      <td>0</td>\n",
       "      <td>...</td>\n",
       "      <td>Faried</td>\n",
       "      <td>Ramzy</td>\n",
       "      <td>Ramzy</td>\n",
       "      <td>Faried</td>\n",
       "      <td>Ramzy</td>\n",
       "      <td>Faried</td>\n",
       "      <td>Ramzy</td>\n",
       "      <td>0</td>\n",
       "      <td>1min</td>\n",
       "      <td>01</td>\n",
       "    </tr>\n",
       "    <tr>\n",
       "      <th>22400</th>\n",
       "      <td>388368</td>\n",
       "      <td>2021-01-12 13:50:01</td>\n",
       "      <td>Max</td>\n",
       "      <td>altijd als ik mocros belachelijk maakte bij go...</td>\n",
       "      <td>[]</td>\n",
       "      <td>Max</td>\n",
       "      <td>8</td>\n",
       "      <td>51</td>\n",
       "      <td>0</td>\n",
       "      <td>0</td>\n",
       "      <td>...</td>\n",
       "      <td>Daan</td>\n",
       "      <td>Faried</td>\n",
       "      <td>Ramzy</td>\n",
       "      <td>Ramzy</td>\n",
       "      <td>Faried</td>\n",
       "      <td>Ramzy</td>\n",
       "      <td>Faried</td>\n",
       "      <td>0</td>\n",
       "      <td>1min</td>\n",
       "      <td>01</td>\n",
       "    </tr>\n",
       "    <tr>\n",
       "      <th>22401</th>\n",
       "      <td>388369</td>\n",
       "      <td>2021-01-12 13:50:04</td>\n",
       "      <td>Max</td>\n",
       "      <td>gooide ze die</td>\n",
       "      <td>[]</td>\n",
       "      <td>NaN</td>\n",
       "      <td>3</td>\n",
       "      <td>13</td>\n",
       "      <td>0</td>\n",
       "      <td>0</td>\n",
       "      <td>...</td>\n",
       "      <td>Faried</td>\n",
       "      <td>Daan</td>\n",
       "      <td>Faried</td>\n",
       "      <td>Ramzy</td>\n",
       "      <td>Ramzy</td>\n",
       "      <td>Faried</td>\n",
       "      <td>Ramzy</td>\n",
       "      <td>0</td>\n",
       "      <td>1h+</td>\n",
       "      <td>01</td>\n",
       "    </tr>\n",
       "  </tbody>\n",
       "</table>\n",
       "<p>22402 rows × 27 columns</p>\n",
       "</div>"
      ],
      "text/plain": [
       "        index           date_time    name  \\\n",
       "0      365968 2020-08-01 00:12:11   Nicko   \n",
       "1      365969 2020-08-01 09:31:32  Faried   \n",
       "2      365970 2020-08-01 09:31:40  Faried   \n",
       "3      365971 2020-08-01 09:31:55  Faried   \n",
       "4      365972 2020-08-01 09:32:06  Faried   \n",
       "...       ...                 ...     ...   \n",
       "22397  388365 2021-01-12 13:48:09  Faried   \n",
       "22398  388366 2021-01-12 13:48:25  Faried   \n",
       "22399  388367 2021-01-12 13:49:47     Max   \n",
       "22400  388368 2021-01-12 13:50:01     Max   \n",
       "22401  388369 2021-01-12 13:50:04     Max   \n",
       "\n",
       "                                                    text emojis responder  \\\n",
       "0                                             tot t eind     []    Faried   \n",
       "1                                       shiittt hahahaha     []    Faried   \n",
       "2                                  ey voor de hercu boys     []    Faried   \n",
       "3                                zeker gevlogen vannacht     []    Faried   \n",
       "4                     was bij scott en de boy was panchi     []    Faried   \n",
       "...                                                  ...    ...       ...   \n",
       "22397                              afbeelding weggelaten     []    Faried   \n",
       "22398                                 enge enge klappers     []       Max   \n",
       "22399                                          3andek he     []       Max   \n",
       "22400  altijd als ik mocros belachelijk maakte bij go...     []       Max   \n",
       "22401                                      gooide ze die     []       NaN   \n",
       "\n",
       "       words  characters  link  img  ...  before_4mes before_5mes before_6mes  \\\n",
       "0          3          10     0    0  ...        Nicko        Abel      Rutger   \n",
       "1          2          16     0    0  ...         Abel       Nicko        Abel   \n",
       "2          5          21     0    0  ...         Abel        Abel       Nicko   \n",
       "3          3          23     0    0  ...       Justin        Abel        Abel   \n",
       "4          8          34     0    0  ...        Nicko      Justin        Abel   \n",
       "...      ...         ...   ...  ...  ...          ...         ...         ...   \n",
       "22397      2          21     0    1  ...        Ramzy      Faried       Ramzy   \n",
       "22398      3          18     0    0  ...        Ramzy       Ramzy      Faried   \n",
       "22399      2           9     0    0  ...       Faried       Ramzy       Ramzy   \n",
       "22400      8          51     0    0  ...         Daan      Faried       Ramzy   \n",
       "22401      3          13     0    0  ...       Faried        Daan      Faried   \n",
       "\n",
       "      before_7mes before_8mes before_9mes before_10mes emoji_count wait_time  \\\n",
       "0          Rutger        Abel        Abel       Rutger           0       1h+   \n",
       "1          Rutger      Rutger        Abel         Abel           0      1min   \n",
       "2            Abel      Rutger      Rutger         Abel           0      1min   \n",
       "3           Nicko        Abel      Rutger       Rutger           0      1min   \n",
       "4            Abel       Nicko        Abel       Rutger           0      1min   \n",
       "...           ...         ...         ...          ...         ...       ...   \n",
       "22397      Faried       Ramzy       Ramzy         Daan           0      1min   \n",
       "22398       Ramzy      Faried       Ramzy        Ramzy           0        5m   \n",
       "22399      Faried       Ramzy      Faried        Ramzy           0      1min   \n",
       "22400       Ramzy      Faried       Ramzy       Faried           0      1min   \n",
       "22401       Ramzy       Ramzy      Faried        Ramzy           0       1h+   \n",
       "\n",
       "      month  \n",
       "0        08  \n",
       "1        08  \n",
       "2        08  \n",
       "3        08  \n",
       "4        08  \n",
       "...     ...  \n",
       "22397    01  \n",
       "22398    01  \n",
       "22399    01  \n",
       "22400    01  \n",
       "22401    01  \n",
       "\n",
       "[22402 rows x 27 columns]"
      ]
     },
     "execution_count": 306,
     "metadata": {},
     "output_type": "execute_result"
    }
   ],
   "source": [
    "mask = (df['date_time'] > '08-01-2020')\n",
    "dummy = df.loc[mask]\n",
    "dummy = dummy.reset_index()\n",
    "dummy"
   ]
  },
  {
   "cell_type": "code",
   "execution_count": 307,
   "metadata": {},
   "outputs": [],
   "source": [
    "df_dum1 = pd.get_dummies(dummy, columns=['name', 'before_1mes', 'before_2mes', 'before_3mes', 'before_4mes', 'before_5mes', 'before_6mes', 'before_7mes', 'before_8mes', 'before_9mes', 'before_10mes',  'day', 'wait_time', 'period', 'season'])\n",
    "df_dum1=df_dum1.fillna(\"\")"
   ]
  },
  {
   "cell_type": "code",
   "execution_count": 308,
   "metadata": {},
   "outputs": [
    {
     "name": "stdout",
     "output_type": "stream",
     "text": [
      "There are 11680 words in the vocabulary. A selection: ['958728', '95e', '96', '961398', '97', '9874040027', '987404002712400', '99', '9ctjn_wfxei', '9cybma26sgsww', '9u', '_2ur7wurtn4', '_5uokqxzcoa', '_6cu5mba', '_etgaiclrwcrwpka_jxmhq', 'a054b9fd', 'a05f7b46', 'a083a8e1', 'a086800e', 'a0b4cf7e']\n"
     ]
    }
   ],
   "source": [
    "from sklearn.feature_extraction.text import CountVectorizer #The CountVectorizer object\n",
    "from stop_words import get_stop_words\n",
    "\n",
    "stop_words = get_stop_words('dutch')\n",
    "text = df_dum1['text'].values.astype('U') #Taking the text from the df. We need to convert it to Unicode\n",
    "vect = CountVectorizer(stop_words=stop_words) #Create the CV object, with English stop words\n",
    "vect = vect.fit(text) #We fit the model with the words from the review text\n",
    "vect\n",
    "feature_names = vect.get_feature_names() #Get the words from the vocabulary\n",
    "#feature_names\n",
    "print(f\"There are {len(feature_names)} words in the vocabulary. A selection: {feature_names[500:520]}\")"
   ]
  },
  {
   "cell_type": "code",
   "execution_count": 309,
   "metadata": {},
   "outputs": [
    {
     "name": "stdout",
     "output_type": "stream",
     "text": [
      "\n"
     ]
    }
   ],
   "source": [
    "docu_feat = vect.transform(text) #The transform method from the CountVectorizer object creates the matrix\n",
    "print(docu_feat[0:50,0:50]) #Let's print a little part of the matrix: the first 50 words & documents"
   ]
  },
  {
   "cell_type": "code",
   "execution_count": 310,
   "metadata": {},
   "outputs": [
    {
     "data": {
      "text/html": [
       "<div>\n",
       "<style scoped>\n",
       "    .dataframe tbody tr th:only-of-type {\n",
       "        vertical-align: middle;\n",
       "    }\n",
       "\n",
       "    .dataframe tbody tr th {\n",
       "        vertical-align: top;\n",
       "    }\n",
       "\n",
       "    .dataframe thead th {\n",
       "        text-align: right;\n",
       "    }\n",
       "</style>\n",
       "<table border=\"1\" class=\"dataframe\">\n",
       "  <thead>\n",
       "    <tr style=\"text-align: right;\">\n",
       "      <th></th>\n",
       "      <th>index</th>\n",
       "      <th>date_time</th>\n",
       "      <th>name</th>\n",
       "      <th>text</th>\n",
       "      <th>emojis</th>\n",
       "      <th>responder</th>\n",
       "      <th>words</th>\n",
       "      <th>characters</th>\n",
       "      <th>link</th>\n",
       "      <th>img</th>\n",
       "      <th>...</th>\n",
       "      <th>11670</th>\n",
       "      <th>11671</th>\n",
       "      <th>11672</th>\n",
       "      <th>11673</th>\n",
       "      <th>11674</th>\n",
       "      <th>11675</th>\n",
       "      <th>11676</th>\n",
       "      <th>11677</th>\n",
       "      <th>11678</th>\n",
       "      <th>11679</th>\n",
       "    </tr>\n",
       "  </thead>\n",
       "  <tbody>\n",
       "    <tr>\n",
       "      <th>0</th>\n",
       "      <td>365968</td>\n",
       "      <td>2020-08-01 00:12:11</td>\n",
       "      <td>Nicko</td>\n",
       "      <td>tot t eind</td>\n",
       "      <td>[]</td>\n",
       "      <td>Faried</td>\n",
       "      <td>3</td>\n",
       "      <td>10</td>\n",
       "      <td>0</td>\n",
       "      <td>0</td>\n",
       "      <td>...</td>\n",
       "      <td>0</td>\n",
       "      <td>0</td>\n",
       "      <td>0</td>\n",
       "      <td>0</td>\n",
       "      <td>0</td>\n",
       "      <td>0</td>\n",
       "      <td>0</td>\n",
       "      <td>0</td>\n",
       "      <td>0</td>\n",
       "      <td>0</td>\n",
       "    </tr>\n",
       "    <tr>\n",
       "      <th>1</th>\n",
       "      <td>365969</td>\n",
       "      <td>2020-08-01 09:31:32</td>\n",
       "      <td>Faried</td>\n",
       "      <td>shiittt hahahaha</td>\n",
       "      <td>[]</td>\n",
       "      <td>Faried</td>\n",
       "      <td>2</td>\n",
       "      <td>16</td>\n",
       "      <td>0</td>\n",
       "      <td>0</td>\n",
       "      <td>...</td>\n",
       "      <td>0</td>\n",
       "      <td>0</td>\n",
       "      <td>0</td>\n",
       "      <td>0</td>\n",
       "      <td>0</td>\n",
       "      <td>0</td>\n",
       "      <td>0</td>\n",
       "      <td>0</td>\n",
       "      <td>0</td>\n",
       "      <td>0</td>\n",
       "    </tr>\n",
       "    <tr>\n",
       "      <th>2</th>\n",
       "      <td>365970</td>\n",
       "      <td>2020-08-01 09:31:40</td>\n",
       "      <td>Faried</td>\n",
       "      <td>ey voor de hercu boys</td>\n",
       "      <td>[]</td>\n",
       "      <td>Faried</td>\n",
       "      <td>5</td>\n",
       "      <td>21</td>\n",
       "      <td>0</td>\n",
       "      <td>0</td>\n",
       "      <td>...</td>\n",
       "      <td>0</td>\n",
       "      <td>0</td>\n",
       "      <td>0</td>\n",
       "      <td>0</td>\n",
       "      <td>0</td>\n",
       "      <td>0</td>\n",
       "      <td>0</td>\n",
       "      <td>0</td>\n",
       "      <td>0</td>\n",
       "      <td>0</td>\n",
       "    </tr>\n",
       "    <tr>\n",
       "      <th>3</th>\n",
       "      <td>365971</td>\n",
       "      <td>2020-08-01 09:31:55</td>\n",
       "      <td>Faried</td>\n",
       "      <td>zeker gevlogen vannacht</td>\n",
       "      <td>[]</td>\n",
       "      <td>Faried</td>\n",
       "      <td>3</td>\n",
       "      <td>23</td>\n",
       "      <td>0</td>\n",
       "      <td>0</td>\n",
       "      <td>...</td>\n",
       "      <td>0</td>\n",
       "      <td>0</td>\n",
       "      <td>0</td>\n",
       "      <td>0</td>\n",
       "      <td>0</td>\n",
       "      <td>0</td>\n",
       "      <td>0</td>\n",
       "      <td>0</td>\n",
       "      <td>0</td>\n",
       "      <td>0</td>\n",
       "    </tr>\n",
       "    <tr>\n",
       "      <th>4</th>\n",
       "      <td>365972</td>\n",
       "      <td>2020-08-01 09:32:06</td>\n",
       "      <td>Faried</td>\n",
       "      <td>was bij scott en de boy was panchi</td>\n",
       "      <td>[]</td>\n",
       "      <td>Faried</td>\n",
       "      <td>8</td>\n",
       "      <td>34</td>\n",
       "      <td>0</td>\n",
       "      <td>0</td>\n",
       "      <td>...</td>\n",
       "      <td>0</td>\n",
       "      <td>0</td>\n",
       "      <td>0</td>\n",
       "      <td>0</td>\n",
       "      <td>0</td>\n",
       "      <td>0</td>\n",
       "      <td>0</td>\n",
       "      <td>0</td>\n",
       "      <td>0</td>\n",
       "      <td>0</td>\n",
       "    </tr>\n",
       "    <tr>\n",
       "      <th>5</th>\n",
       "      <td>365973</td>\n",
       "      <td>2020-08-01 09:32:18</td>\n",
       "      <td>Faried</td>\n",
       "      <td>hij vroeg kan je koda aub uitlaten</td>\n",
       "      <td>[]</td>\n",
       "      <td>Faried</td>\n",
       "      <td>7</td>\n",
       "      <td>34</td>\n",
       "      <td>0</td>\n",
       "      <td>0</td>\n",
       "      <td>...</td>\n",
       "      <td>0</td>\n",
       "      <td>0</td>\n",
       "      <td>0</td>\n",
       "      <td>0</td>\n",
       "      <td>0</td>\n",
       "      <td>0</td>\n",
       "      <td>0</td>\n",
       "      <td>0</td>\n",
       "      <td>0</td>\n",
       "      <td>0</td>\n",
       "    </tr>\n",
       "    <tr>\n",
       "      <th>6</th>\n",
       "      <td>365974</td>\n",
       "      <td>2020-08-01 09:32:22</td>\n",
       "      <td>Faried</td>\n",
       "      <td>pshhh</td>\n",
       "      <td>[]</td>\n",
       "      <td>Faried</td>\n",
       "      <td>1</td>\n",
       "      <td>5</td>\n",
       "      <td>0</td>\n",
       "      <td>0</td>\n",
       "      <td>...</td>\n",
       "      <td>0</td>\n",
       "      <td>0</td>\n",
       "      <td>0</td>\n",
       "      <td>0</td>\n",
       "      <td>0</td>\n",
       "      <td>0</td>\n",
       "      <td>0</td>\n",
       "      <td>0</td>\n",
       "      <td>0</td>\n",
       "      <td>0</td>\n",
       "    </tr>\n",
       "    <tr>\n",
       "      <th>7</th>\n",
       "      <td>365975</td>\n",
       "      <td>2020-08-01 09:32:29</td>\n",
       "      <td>Faried</td>\n",
       "      <td>koda heeft mij uitgelaten</td>\n",
       "      <td>[]</td>\n",
       "      <td>Max</td>\n",
       "      <td>4</td>\n",
       "      <td>25</td>\n",
       "      <td>0</td>\n",
       "      <td>0</td>\n",
       "      <td>...</td>\n",
       "      <td>0</td>\n",
       "      <td>0</td>\n",
       "      <td>0</td>\n",
       "      <td>0</td>\n",
       "      <td>0</td>\n",
       "      <td>0</td>\n",
       "      <td>0</td>\n",
       "      <td>0</td>\n",
       "      <td>0</td>\n",
       "      <td>0</td>\n",
       "    </tr>\n",
       "    <tr>\n",
       "      <th>8</th>\n",
       "      <td>365976</td>\n",
       "      <td>2020-08-01 10:43:52</td>\n",
       "      <td>Max</td>\n",
       "      <td>biggie daggoe</td>\n",
       "      <td>[]</td>\n",
       "      <td>Mel</td>\n",
       "      <td>2</td>\n",
       "      <td>13</td>\n",
       "      <td>0</td>\n",
       "      <td>0</td>\n",
       "      <td>...</td>\n",
       "      <td>0</td>\n",
       "      <td>0</td>\n",
       "      <td>0</td>\n",
       "      <td>0</td>\n",
       "      <td>0</td>\n",
       "      <td>0</td>\n",
       "      <td>0</td>\n",
       "      <td>0</td>\n",
       "      <td>0</td>\n",
       "      <td>0</td>\n",
       "    </tr>\n",
       "    <tr>\n",
       "      <th>9</th>\n",
       "      <td>365977</td>\n",
       "      <td>2020-08-01 11:50:14</td>\n",
       "      <td>Mel</td>\n",
       "      <td>dinsdag uitshirt uuttie</td>\n",
       "      <td>[]</td>\n",
       "      <td>Abel</td>\n",
       "      <td>3</td>\n",
       "      <td>23</td>\n",
       "      <td>0</td>\n",
       "      <td>0</td>\n",
       "      <td>...</td>\n",
       "      <td>0</td>\n",
       "      <td>0</td>\n",
       "      <td>0</td>\n",
       "      <td>0</td>\n",
       "      <td>0</td>\n",
       "      <td>0</td>\n",
       "      <td>0</td>\n",
       "      <td>0</td>\n",
       "      <td>0</td>\n",
       "      <td>0</td>\n",
       "    </tr>\n",
       "  </tbody>\n",
       "</table>\n",
       "<p>10 rows × 11707 columns</p>\n",
       "</div>"
      ],
      "text/plain": [
       "    index           date_time    name                                text  \\\n",
       "0  365968 2020-08-01 00:12:11   Nicko                          tot t eind   \n",
       "1  365969 2020-08-01 09:31:32  Faried                    shiittt hahahaha   \n",
       "2  365970 2020-08-01 09:31:40  Faried               ey voor de hercu boys   \n",
       "3  365971 2020-08-01 09:31:55  Faried             zeker gevlogen vannacht   \n",
       "4  365972 2020-08-01 09:32:06  Faried  was bij scott en de boy was panchi   \n",
       "5  365973 2020-08-01 09:32:18  Faried  hij vroeg kan je koda aub uitlaten   \n",
       "6  365974 2020-08-01 09:32:22  Faried                               pshhh   \n",
       "7  365975 2020-08-01 09:32:29  Faried           koda heeft mij uitgelaten   \n",
       "8  365976 2020-08-01 10:43:52     Max                       biggie daggoe   \n",
       "9  365977 2020-08-01 11:50:14     Mel             dinsdag uitshirt uuttie   \n",
       "\n",
       "  emojis responder  words  characters  link  img  ...  11670 11671 11672  \\\n",
       "0     []    Faried      3          10     0    0  ...      0     0     0   \n",
       "1     []    Faried      2          16     0    0  ...      0     0     0   \n",
       "2     []    Faried      5          21     0    0  ...      0     0     0   \n",
       "3     []    Faried      3          23     0    0  ...      0     0     0   \n",
       "4     []    Faried      8          34     0    0  ...      0     0     0   \n",
       "5     []    Faried      7          34     0    0  ...      0     0     0   \n",
       "6     []    Faried      1           5     0    0  ...      0     0     0   \n",
       "7     []       Max      4          25     0    0  ...      0     0     0   \n",
       "8     []       Mel      2          13     0    0  ...      0     0     0   \n",
       "9     []      Abel      3          23     0    0  ...      0     0     0   \n",
       "\n",
       "  11673 11674 11675 11676 11677 11678 11679  \n",
       "0     0     0     0     0     0     0     0  \n",
       "1     0     0     0     0     0     0     0  \n",
       "2     0     0     0     0     0     0     0  \n",
       "3     0     0     0     0     0     0     0  \n",
       "4     0     0     0     0     0     0     0  \n",
       "5     0     0     0     0     0     0     0  \n",
       "6     0     0     0     0     0     0     0  \n",
       "7     0     0     0     0     0     0     0  \n",
       "8     0     0     0     0     0     0     0  \n",
       "9     0     0     0     0     0     0     0  \n",
       "\n",
       "[10 rows x 11707 columns]"
      ]
     },
     "execution_count": 310,
     "metadata": {},
     "output_type": "execute_result"
    }
   ],
   "source": [
    "#Make a regular matrix out of docu_feat, make it into a DataFrame and concatenate it along the columns\n",
    "rev_words = pd.concat([dummy, pd.DataFrame(docu_feat.toarray())], axis=1)\n",
    "rev_words.head(10)"
   ]
  },
  {
   "cell_type": "code",
   "execution_count": 320,
   "metadata": {},
   "outputs": [
    {
     "name": "stdout",
     "output_type": "stream",
     "text": [
      "index\", \"date_time\", \"text\", \"emojis\", \"responder\", \"words\", \"characters\", \"link\", \"img\", \"audio\", \"emoji_count\", \"month\", \"name_Abel\", \"name_Daan\", \"name_Faried\", \"name_Jules\", \"name_Justin\", \"name_Max\", \"name_Mel\", \"name_Nicko\", \"name_Ramzy\", \"name_Rutger\", \"name_Samson\", \"before_1mes_Abel\", \"before_1mes_Daan\", \"before_1mes_Faried\", \"before_1mes_Jules\", \"before_1mes_Justin\", \"before_1mes_Max\", \"before_1mes_Mel\", \"before_1mes_Nicko\", \"before_1mes_Ramzy\", \"before_1mes_Rutger\", \"before_1mes_Samson\", \"before_2mes_Abel\", \"before_2mes_Daan\", \"before_2mes_Faried\", \"before_2mes_Jules\", \"before_2mes_Justin\", \"before_2mes_Max\", \"before_2mes_Mel\", \"before_2mes_Nicko\", \"before_2mes_Ramzy\", \"before_2mes_Rutger\", \"before_2mes_Samson\", \"before_3mes_Abel\", \"before_3mes_Daan\", \"before_3mes_Faried\", \"before_3mes_Jules\", \"before_3mes_Justin\", \"before_3mes_Max\", \"before_3mes_Mel\", \"before_3mes_Nicko\", \"before_3mes_Ramzy\", \"before_3mes_Rutger\", \"before_3mes_Samson\", \"before_4mes_Abel\", \"before_4mes_Daan\", \"before_4mes_Faried\", \"before_4mes_Jules\", \"before_4mes_Justin\", \"before_4mes_Max\", \"before_4mes_Mel\", \"before_4mes_Nicko\", \"before_4mes_Ramzy\", \"before_4mes_Rutger\", \"before_4mes_Samson\", \"before_5mes_Abel\", \"before_5mes_Daan\", \"before_5mes_Faried\", \"before_5mes_Jules\", \"before_5mes_Justin\", \"before_5mes_Max\", \"before_5mes_Mel\", \"before_5mes_Nicko\", \"before_5mes_Ramzy\", \"before_5mes_Rutger\", \"before_5mes_Samson\", \"before_6mes_Abel\", \"before_6mes_Daan\", \"before_6mes_Faried\", \"before_6mes_Jules\", \"before_6mes_Justin\", \"before_6mes_Max\", \"before_6mes_Mel\", \"before_6mes_Nicko\", \"before_6mes_Ramzy\", \"before_6mes_Rutger\", \"before_6mes_Samson\", \"before_7mes_Abel\", \"before_7mes_Daan\", \"before_7mes_Faried\", \"before_7mes_Jules\", \"before_7mes_Justin\", \"before_7mes_Max\", \"before_7mes_Mel\", \"before_7mes_Nicko\", \"before_7mes_Ramzy\", \"before_7mes_Rutger\", \"before_7mes_Samson\", \"before_8mes_Abel\", \"before_8mes_Daan\", \"before_8mes_Faried\", \"before_8mes_Jules\", \"before_8mes_Justin\", \"before_8mes_Max\", \"before_8mes_Mel\", \"before_8mes_Nicko\", \"before_8mes_Ramzy\", \"before_8mes_Rutger\", \"before_8mes_Samson\", \"before_9mes_Abel\", \"before_9mes_Daan\", \"before_9mes_Faried\", \"before_9mes_Jules\", \"before_9mes_Justin\", \"before_9mes_Max\", \"before_9mes_Mel\", \"before_9mes_Nicko\", \"before_9mes_Ramzy\", \"before_9mes_Rutger\", \"before_9mes_Samson\", \"before_10mes_Abel\", \"before_10mes_Daan\", \"before_10mes_Faried\", \"before_10mes_Jules\", \"before_10mes_Justin\", \"before_10mes_Max\", \"before_10mes_Mel\", \"before_10mes_Nicko\", \"before_10mes_Ramzy\", \"before_10mes_Rutger\", \"before_10mes_Samson\", \"day_Friday\", \"day_Monday\", \"day_Saturday\", \"day_Sunday\", \"day_Thursday\", \"day_Tuesday\", \"day_Wednesday\", \"wait_time_10m\", \"wait_time_15m\", \"wait_time_1h\", \"wait_time_1h+\", \"wait_time_1min\", \"wait_time_30m\", \"wait_time_5m\", \"period_Early Morning\", \"period_Evening\", \"period_Late Night\", \"period_Morning\", \"period_Night\", \"period_Noon\", \"season_Fall\", \"season_Summer\", \"season_Winter\n"
     ]
    }
   ],
   "source": [
    "\n",
    "print('\", \"'.join(str(x) for x in list1))\n",
    "# for i in list1:\n",
    "#     print(i)"
   ]
  },
  {
   "cell_type": "code",
   "execution_count": 321,
   "metadata": {},
   "outputs": [
    {
     "ename": "ValueError",
     "evalue": "Length mismatch: Expected axis has 11707 elements, new values have 11836 elements",
     "output_type": "error",
     "traceback": [
      "\u001b[1;31m---------------------------------------------------------------------------\u001b[0m",
      "\u001b[1;31mValueError\u001b[0m                                Traceback (most recent call last)",
      "\u001b[1;32m<ipython-input-321-0718be12acbe>\u001b[0m in \u001b[0;36m<module>\u001b[1;34m\u001b[0m\n\u001b[1;32m----> 1\u001b[1;33m \u001b[0mrev_words\u001b[0m\u001b[1;33m.\u001b[0m\u001b[0mcolumns\u001b[0m \u001b[1;33m=\u001b[0m \u001b[1;33m[\u001b[0m\u001b[1;34m\"index\"\u001b[0m\u001b[1;33m,\u001b[0m \u001b[1;34m\"date_time\"\u001b[0m\u001b[1;33m,\u001b[0m \u001b[1;34m\"text\"\u001b[0m\u001b[1;33m,\u001b[0m \u001b[1;34m\"emojis\"\u001b[0m\u001b[1;33m,\u001b[0m \u001b[1;34m\"responder\"\u001b[0m\u001b[1;33m,\u001b[0m \u001b[1;34m\"words\"\u001b[0m\u001b[1;33m,\u001b[0m \u001b[1;34m\"characters\"\u001b[0m\u001b[1;33m,\u001b[0m \u001b[1;34m\"link\"\u001b[0m\u001b[1;33m,\u001b[0m \u001b[1;34m\"img\"\u001b[0m\u001b[1;33m,\u001b[0m \u001b[1;34m\"audio\"\u001b[0m\u001b[1;33m,\u001b[0m \u001b[1;34m\"emoji_count\"\u001b[0m\u001b[1;33m,\u001b[0m \u001b[1;34m\"month\"\u001b[0m\u001b[1;33m,\u001b[0m \u001b[1;34m\"name_Abel\"\u001b[0m\u001b[1;33m,\u001b[0m \u001b[1;34m\"name_Daan\"\u001b[0m\u001b[1;33m,\u001b[0m \u001b[1;34m\"name_Faried\"\u001b[0m\u001b[1;33m,\u001b[0m \u001b[1;34m\"name_Jules\"\u001b[0m\u001b[1;33m,\u001b[0m \u001b[1;34m\"name_Justin\"\u001b[0m\u001b[1;33m,\u001b[0m \u001b[1;34m\"name_Max\"\u001b[0m\u001b[1;33m,\u001b[0m \u001b[1;34m\"name_Mel\"\u001b[0m\u001b[1;33m,\u001b[0m \u001b[1;34m\"name_Nicko\"\u001b[0m\u001b[1;33m,\u001b[0m \u001b[1;34m\"name_Ramzy\"\u001b[0m\u001b[1;33m,\u001b[0m \u001b[1;34m\"name_Rutger\"\u001b[0m\u001b[1;33m,\u001b[0m \u001b[1;34m\"name_Samson\"\u001b[0m\u001b[1;33m,\u001b[0m \u001b[1;34m\"before_1mes_Abel\"\u001b[0m\u001b[1;33m,\u001b[0m \u001b[1;34m\"before_1mes_Daan\"\u001b[0m\u001b[1;33m,\u001b[0m \u001b[1;34m\"before_1mes_Faried\"\u001b[0m\u001b[1;33m,\u001b[0m \u001b[1;34m\"before_1mes_Jules\"\u001b[0m\u001b[1;33m,\u001b[0m \u001b[1;34m\"before_1mes_Justin\"\u001b[0m\u001b[1;33m,\u001b[0m \u001b[1;34m\"before_1mes_Max\"\u001b[0m\u001b[1;33m,\u001b[0m \u001b[1;34m\"before_1mes_Mel\"\u001b[0m\u001b[1;33m,\u001b[0m \u001b[1;34m\"before_1mes_Nicko\"\u001b[0m\u001b[1;33m,\u001b[0m \u001b[1;34m\"before_1mes_Ramzy\"\u001b[0m\u001b[1;33m,\u001b[0m \u001b[1;34m\"before_1mes_Rutger\"\u001b[0m\u001b[1;33m,\u001b[0m \u001b[1;34m\"before_1mes_Samson\"\u001b[0m\u001b[1;33m,\u001b[0m \u001b[1;34m\"before_2mes_Abel\"\u001b[0m\u001b[1;33m,\u001b[0m \u001b[1;34m\"before_2mes_Daan\"\u001b[0m\u001b[1;33m,\u001b[0m \u001b[1;34m\"before_2mes_Faried\"\u001b[0m\u001b[1;33m,\u001b[0m \u001b[1;34m\"before_2mes_Jules\"\u001b[0m\u001b[1;33m,\u001b[0m \u001b[1;34m\"before_2mes_Justin\"\u001b[0m\u001b[1;33m,\u001b[0m \u001b[1;34m\"before_2mes_Max\"\u001b[0m\u001b[1;33m,\u001b[0m \u001b[1;34m\"before_2mes_Mel\"\u001b[0m\u001b[1;33m,\u001b[0m \u001b[1;34m\"before_2mes_Nicko\"\u001b[0m\u001b[1;33m,\u001b[0m \u001b[1;34m\"before_2mes_Ramzy\"\u001b[0m\u001b[1;33m,\u001b[0m \u001b[1;34m\"before_2mes_Rutger\"\u001b[0m\u001b[1;33m,\u001b[0m \u001b[1;34m\"before_2mes_Samson\"\u001b[0m\u001b[1;33m,\u001b[0m \u001b[1;34m\"before_3mes_Abel\"\u001b[0m\u001b[1;33m,\u001b[0m \u001b[1;34m\"before_3mes_Daan\"\u001b[0m\u001b[1;33m,\u001b[0m \u001b[1;34m\"before_3mes_Faried\"\u001b[0m\u001b[1;33m,\u001b[0m \u001b[1;34m\"before_3mes_Jules\"\u001b[0m\u001b[1;33m,\u001b[0m \u001b[1;34m\"before_3mes_Justin\"\u001b[0m\u001b[1;33m,\u001b[0m \u001b[1;34m\"before_3mes_Max\"\u001b[0m\u001b[1;33m,\u001b[0m \u001b[1;34m\"before_3mes_Mel\"\u001b[0m\u001b[1;33m,\u001b[0m \u001b[1;34m\"before_3mes_Nicko\"\u001b[0m\u001b[1;33m,\u001b[0m \u001b[1;34m\"before_3mes_Ramzy\"\u001b[0m\u001b[1;33m,\u001b[0m \u001b[1;34m\"before_3mes_Rutger\"\u001b[0m\u001b[1;33m,\u001b[0m \u001b[1;34m\"before_3mes_Samson\"\u001b[0m\u001b[1;33m,\u001b[0m \u001b[1;34m\"before_4mes_Abel\"\u001b[0m\u001b[1;33m,\u001b[0m \u001b[1;34m\"before_4mes_Daan\"\u001b[0m\u001b[1;33m,\u001b[0m \u001b[1;34m\"before_4mes_Faried\"\u001b[0m\u001b[1;33m,\u001b[0m \u001b[1;34m\"before_4mes_Jules\"\u001b[0m\u001b[1;33m,\u001b[0m \u001b[1;34m\"before_4mes_Justin\"\u001b[0m\u001b[1;33m,\u001b[0m \u001b[1;34m\"before_4mes_Max\"\u001b[0m\u001b[1;33m,\u001b[0m \u001b[1;34m\"before_4mes_Mel\"\u001b[0m\u001b[1;33m,\u001b[0m \u001b[1;34m\"before_4mes_Nicko\"\u001b[0m\u001b[1;33m,\u001b[0m \u001b[1;34m\"before_4mes_Ramzy\"\u001b[0m\u001b[1;33m,\u001b[0m \u001b[1;34m\"before_4mes_Rutger\"\u001b[0m\u001b[1;33m,\u001b[0m \u001b[1;34m\"before_4mes_Samson\"\u001b[0m\u001b[1;33m,\u001b[0m \u001b[1;34m\"before_5mes_Abel\"\u001b[0m\u001b[1;33m,\u001b[0m \u001b[1;34m\"before_5mes_Daan\"\u001b[0m\u001b[1;33m,\u001b[0m \u001b[1;34m\"before_5mes_Faried\"\u001b[0m\u001b[1;33m,\u001b[0m \u001b[1;34m\"before_5mes_Jules\"\u001b[0m\u001b[1;33m,\u001b[0m \u001b[1;34m\"before_5mes_Justin\"\u001b[0m\u001b[1;33m,\u001b[0m \u001b[1;34m\"before_5mes_Max\"\u001b[0m\u001b[1;33m,\u001b[0m \u001b[1;34m\"before_5mes_Mel\"\u001b[0m\u001b[1;33m,\u001b[0m \u001b[1;34m\"before_5mes_Nicko\"\u001b[0m\u001b[1;33m,\u001b[0m \u001b[1;34m\"before_5mes_Ramzy\"\u001b[0m\u001b[1;33m,\u001b[0m \u001b[1;34m\"before_5mes_Rutger\"\u001b[0m\u001b[1;33m,\u001b[0m \u001b[1;34m\"before_5mes_Samson\"\u001b[0m\u001b[1;33m,\u001b[0m \u001b[1;34m\"before_6mes_Abel\"\u001b[0m\u001b[1;33m,\u001b[0m \u001b[1;34m\"before_6mes_Daan\"\u001b[0m\u001b[1;33m,\u001b[0m \u001b[1;34m\"before_6mes_Faried\"\u001b[0m\u001b[1;33m,\u001b[0m \u001b[1;34m\"before_6mes_Jules\"\u001b[0m\u001b[1;33m,\u001b[0m \u001b[1;34m\"before_6mes_Justin\"\u001b[0m\u001b[1;33m,\u001b[0m \u001b[1;34m\"before_6mes_Max\"\u001b[0m\u001b[1;33m,\u001b[0m \u001b[1;34m\"before_6mes_Mel\"\u001b[0m\u001b[1;33m,\u001b[0m \u001b[1;34m\"before_6mes_Nicko\"\u001b[0m\u001b[1;33m,\u001b[0m \u001b[1;34m\"before_6mes_Ramzy\"\u001b[0m\u001b[1;33m,\u001b[0m \u001b[1;34m\"before_6mes_Rutger\"\u001b[0m\u001b[1;33m,\u001b[0m \u001b[1;34m\"before_6mes_Samson\"\u001b[0m\u001b[1;33m,\u001b[0m \u001b[1;34m\"before_7mes_Abel\"\u001b[0m\u001b[1;33m,\u001b[0m \u001b[1;34m\"before_7mes_Daan\"\u001b[0m\u001b[1;33m,\u001b[0m \u001b[1;34m\"before_7mes_Faried\"\u001b[0m\u001b[1;33m,\u001b[0m \u001b[1;34m\"before_7mes_Jules\"\u001b[0m\u001b[1;33m,\u001b[0m \u001b[1;34m\"before_7mes_Justin\"\u001b[0m\u001b[1;33m,\u001b[0m \u001b[1;34m\"before_7mes_Max\"\u001b[0m\u001b[1;33m,\u001b[0m \u001b[1;34m\"before_7mes_Mel\"\u001b[0m\u001b[1;33m,\u001b[0m \u001b[1;34m\"before_7mes_Nicko\"\u001b[0m\u001b[1;33m,\u001b[0m \u001b[1;34m\"before_7mes_Ramzy\"\u001b[0m\u001b[1;33m,\u001b[0m \u001b[1;34m\"before_7mes_Rutger\"\u001b[0m\u001b[1;33m,\u001b[0m \u001b[1;34m\"before_7mes_Samson\"\u001b[0m\u001b[1;33m,\u001b[0m \u001b[1;34m\"before_8mes_Abel\"\u001b[0m\u001b[1;33m,\u001b[0m \u001b[1;34m\"before_8mes_Daan\"\u001b[0m\u001b[1;33m,\u001b[0m \u001b[1;34m\"before_8mes_Faried\"\u001b[0m\u001b[1;33m,\u001b[0m \u001b[1;34m\"before_8mes_Jules\"\u001b[0m\u001b[1;33m,\u001b[0m \u001b[1;34m\"before_8mes_Justin\"\u001b[0m\u001b[1;33m,\u001b[0m \u001b[1;34m\"before_8mes_Max\"\u001b[0m\u001b[1;33m,\u001b[0m \u001b[1;34m\"before_8mes_Mel\"\u001b[0m\u001b[1;33m,\u001b[0m \u001b[1;34m\"before_8mes_Nicko\"\u001b[0m\u001b[1;33m,\u001b[0m \u001b[1;34m\"before_8mes_Ramzy\"\u001b[0m\u001b[1;33m,\u001b[0m \u001b[1;34m\"before_8mes_Rutger\"\u001b[0m\u001b[1;33m,\u001b[0m \u001b[1;34m\"before_8mes_Samson\"\u001b[0m\u001b[1;33m,\u001b[0m \u001b[1;34m\"before_9mes_Abel\"\u001b[0m\u001b[1;33m,\u001b[0m \u001b[1;34m\"before_9mes_Daan\"\u001b[0m\u001b[1;33m,\u001b[0m \u001b[1;34m\"before_9mes_Faried\"\u001b[0m\u001b[1;33m,\u001b[0m \u001b[1;34m\"before_9mes_Jules\"\u001b[0m\u001b[1;33m,\u001b[0m \u001b[1;34m\"before_9mes_Justin\"\u001b[0m\u001b[1;33m,\u001b[0m \u001b[1;34m\"before_9mes_Max\"\u001b[0m\u001b[1;33m,\u001b[0m \u001b[1;34m\"before_9mes_Mel\"\u001b[0m\u001b[1;33m,\u001b[0m \u001b[1;34m\"before_9mes_Nicko\"\u001b[0m\u001b[1;33m,\u001b[0m \u001b[1;34m\"before_9mes_Ramzy\"\u001b[0m\u001b[1;33m,\u001b[0m \u001b[1;34m\"before_9mes_Rutger\"\u001b[0m\u001b[1;33m,\u001b[0m \u001b[1;34m\"before_9mes_Samson\"\u001b[0m\u001b[1;33m,\u001b[0m \u001b[1;34m\"before_10mes_Abel\"\u001b[0m\u001b[1;33m,\u001b[0m \u001b[1;34m\"before_10mes_Daan\"\u001b[0m\u001b[1;33m,\u001b[0m \u001b[1;34m\"before_10mes_Faried\"\u001b[0m\u001b[1;33m,\u001b[0m \u001b[1;34m\"before_10mes_Jules\"\u001b[0m\u001b[1;33m,\u001b[0m \u001b[1;34m\"before_10mes_Justin\"\u001b[0m\u001b[1;33m,\u001b[0m \u001b[1;34m\"before_10mes_Max\"\u001b[0m\u001b[1;33m,\u001b[0m \u001b[1;34m\"before_10mes_Mel\"\u001b[0m\u001b[1;33m,\u001b[0m \u001b[1;34m\"before_10mes_Nicko\"\u001b[0m\u001b[1;33m,\u001b[0m \u001b[1;34m\"before_10mes_Ramzy\"\u001b[0m\u001b[1;33m,\u001b[0m \u001b[1;34m\"before_10mes_Rutger\"\u001b[0m\u001b[1;33m,\u001b[0m \u001b[1;34m\"before_10mes_Samson\"\u001b[0m\u001b[1;33m,\u001b[0m \u001b[1;34m\"day_Friday\"\u001b[0m\u001b[1;33m,\u001b[0m \u001b[1;34m\"day_Monday\"\u001b[0m\u001b[1;33m,\u001b[0m \u001b[1;34m\"day_Saturday\"\u001b[0m\u001b[1;33m,\u001b[0m \u001b[1;34m\"day_Sunday\"\u001b[0m\u001b[1;33m,\u001b[0m \u001b[1;34m\"day_Thursday\"\u001b[0m\u001b[1;33m,\u001b[0m \u001b[1;34m\"day_Tuesday\"\u001b[0m\u001b[1;33m,\u001b[0m \u001b[1;34m\"day_Wednesday\"\u001b[0m\u001b[1;33m,\u001b[0m \u001b[1;34m\"wait_time_10m\"\u001b[0m\u001b[1;33m,\u001b[0m \u001b[1;34m\"wait_time_15m\"\u001b[0m\u001b[1;33m,\u001b[0m \u001b[1;34m\"wait_time_1h\"\u001b[0m\u001b[1;33m,\u001b[0m \u001b[1;34m\"wait_time_1h+\"\u001b[0m\u001b[1;33m,\u001b[0m \u001b[1;34m\"wait_time_1min\"\u001b[0m\u001b[1;33m,\u001b[0m \u001b[1;34m\"wait_time_30m\"\u001b[0m\u001b[1;33m,\u001b[0m \u001b[1;34m\"wait_time_5m\"\u001b[0m\u001b[1;33m,\u001b[0m \u001b[1;34m\"period_Early Morning\"\u001b[0m\u001b[1;33m,\u001b[0m \u001b[1;34m\"period_Evening\"\u001b[0m\u001b[1;33m,\u001b[0m \u001b[1;34m\"period_Late Night\"\u001b[0m\u001b[1;33m,\u001b[0m \u001b[1;34m\"period_Morning\"\u001b[0m\u001b[1;33m,\u001b[0m \u001b[1;34m\"period_Night\"\u001b[0m\u001b[1;33m,\u001b[0m \u001b[1;34m\"period_Noon\"\u001b[0m\u001b[1;33m,\u001b[0m \u001b[1;34m\"season_Fall\"\u001b[0m\u001b[1;33m,\u001b[0m \u001b[1;34m\"season_Summer\"\u001b[0m\u001b[1;33m,\u001b[0m \u001b[1;34m\"season_Winter\"\u001b[0m\u001b[1;33m]\u001b[0m \u001b[1;33m+\u001b[0m \u001b[0mfeature_names\u001b[0m\u001b[1;33m\u001b[0m\u001b[1;33m\u001b[0m\u001b[0m\n\u001b[0m\u001b[0;32m      2\u001b[0m \u001b[0mrev_words\u001b[0m\u001b[1;33m.\u001b[0m\u001b[0mhead\u001b[0m\u001b[1;33m(\u001b[0m\u001b[1;33m)\u001b[0m\u001b[1;33m\u001b[0m\u001b[1;33m\u001b[0m\u001b[0m\n",
      "\u001b[1;32mF:\\Anaconda-Daan\\lib\\site-packages\\pandas\\core\\generic.py\u001b[0m in \u001b[0;36m__setattr__\u001b[1;34m(self, name, value)\u001b[0m\n\u001b[0;32m   5150\u001b[0m         \u001b[1;32mtry\u001b[0m\u001b[1;33m:\u001b[0m\u001b[1;33m\u001b[0m\u001b[1;33m\u001b[0m\u001b[0m\n\u001b[0;32m   5151\u001b[0m             \u001b[0mobject\u001b[0m\u001b[1;33m.\u001b[0m\u001b[0m__getattribute__\u001b[0m\u001b[1;33m(\u001b[0m\u001b[0mself\u001b[0m\u001b[1;33m,\u001b[0m \u001b[0mname\u001b[0m\u001b[1;33m)\u001b[0m\u001b[1;33m\u001b[0m\u001b[1;33m\u001b[0m\u001b[0m\n\u001b[1;32m-> 5152\u001b[1;33m             \u001b[1;32mreturn\u001b[0m \u001b[0mobject\u001b[0m\u001b[1;33m.\u001b[0m\u001b[0m__setattr__\u001b[0m\u001b[1;33m(\u001b[0m\u001b[0mself\u001b[0m\u001b[1;33m,\u001b[0m \u001b[0mname\u001b[0m\u001b[1;33m,\u001b[0m \u001b[0mvalue\u001b[0m\u001b[1;33m)\u001b[0m\u001b[1;33m\u001b[0m\u001b[1;33m\u001b[0m\u001b[0m\n\u001b[0m\u001b[0;32m   5153\u001b[0m         \u001b[1;32mexcept\u001b[0m \u001b[0mAttributeError\u001b[0m\u001b[1;33m:\u001b[0m\u001b[1;33m\u001b[0m\u001b[1;33m\u001b[0m\u001b[0m\n\u001b[0;32m   5154\u001b[0m             \u001b[1;32mpass\u001b[0m\u001b[1;33m\u001b[0m\u001b[1;33m\u001b[0m\u001b[0m\n",
      "\u001b[1;32mpandas\\_libs\\properties.pyx\u001b[0m in \u001b[0;36mpandas._libs.properties.AxisProperty.__set__\u001b[1;34m()\u001b[0m\n",
      "\u001b[1;32mF:\\Anaconda-Daan\\lib\\site-packages\\pandas\\core\\generic.py\u001b[0m in \u001b[0;36m_set_axis\u001b[1;34m(self, axis, labels)\u001b[0m\n\u001b[0;32m    562\u001b[0m     \u001b[1;32mdef\u001b[0m \u001b[0m_set_axis\u001b[0m\u001b[1;33m(\u001b[0m\u001b[0mself\u001b[0m\u001b[1;33m,\u001b[0m \u001b[0maxis\u001b[0m\u001b[1;33m:\u001b[0m \u001b[0mint\u001b[0m\u001b[1;33m,\u001b[0m \u001b[0mlabels\u001b[0m\u001b[1;33m:\u001b[0m \u001b[0mIndex\u001b[0m\u001b[1;33m)\u001b[0m \u001b[1;33m->\u001b[0m \u001b[1;32mNone\u001b[0m\u001b[1;33m:\u001b[0m\u001b[1;33m\u001b[0m\u001b[1;33m\u001b[0m\u001b[0m\n\u001b[0;32m    563\u001b[0m         \u001b[0mlabels\u001b[0m \u001b[1;33m=\u001b[0m \u001b[0mensure_index\u001b[0m\u001b[1;33m(\u001b[0m\u001b[0mlabels\u001b[0m\u001b[1;33m)\u001b[0m\u001b[1;33m\u001b[0m\u001b[1;33m\u001b[0m\u001b[0m\n\u001b[1;32m--> 564\u001b[1;33m         \u001b[0mself\u001b[0m\u001b[1;33m.\u001b[0m\u001b[0m_mgr\u001b[0m\u001b[1;33m.\u001b[0m\u001b[0mset_axis\u001b[0m\u001b[1;33m(\u001b[0m\u001b[0maxis\u001b[0m\u001b[1;33m,\u001b[0m \u001b[0mlabels\u001b[0m\u001b[1;33m)\u001b[0m\u001b[1;33m\u001b[0m\u001b[1;33m\u001b[0m\u001b[0m\n\u001b[0m\u001b[0;32m    565\u001b[0m         \u001b[0mself\u001b[0m\u001b[1;33m.\u001b[0m\u001b[0m_clear_item_cache\u001b[0m\u001b[1;33m(\u001b[0m\u001b[1;33m)\u001b[0m\u001b[1;33m\u001b[0m\u001b[1;33m\u001b[0m\u001b[0m\n\u001b[0;32m    566\u001b[0m \u001b[1;33m\u001b[0m\u001b[0m\n",
      "\u001b[1;32mF:\\Anaconda-Daan\\lib\\site-packages\\pandas\\core\\internals\\managers.py\u001b[0m in \u001b[0;36mset_axis\u001b[1;34m(self, axis, new_labels)\u001b[0m\n\u001b[0;32m    224\u001b[0m \u001b[1;33m\u001b[0m\u001b[0m\n\u001b[0;32m    225\u001b[0m         \u001b[1;32mif\u001b[0m \u001b[0mnew_len\u001b[0m \u001b[1;33m!=\u001b[0m \u001b[0mold_len\u001b[0m\u001b[1;33m:\u001b[0m\u001b[1;33m\u001b[0m\u001b[1;33m\u001b[0m\u001b[0m\n\u001b[1;32m--> 226\u001b[1;33m             raise ValueError(\n\u001b[0m\u001b[0;32m    227\u001b[0m                 \u001b[1;34mf\"Length mismatch: Expected axis has {old_len} elements, new \"\u001b[0m\u001b[1;33m\u001b[0m\u001b[1;33m\u001b[0m\u001b[0m\n\u001b[0;32m    228\u001b[0m                 \u001b[1;34mf\"values have {new_len} elements\"\u001b[0m\u001b[1;33m\u001b[0m\u001b[1;33m\u001b[0m\u001b[0m\n",
      "\u001b[1;31mValueError\u001b[0m: Length mismatch: Expected axis has 11707 elements, new values have 11836 elements"
     ]
    }
   ],
   "source": [
    "rev_words.columns = [\"index\", \"date_time\", \"text\", \"emojis\", \"responder\", \"words\", \"characters\", \"link\", \"img\", \"audio\", \"emoji_count\", \"month\", \"name_Abel\", \"name_Daan\", \"name_Faried\", \"name_Jules\", \"name_Justin\", \"name_Max\", \"name_Mel\", \"name_Nicko\", \"name_Ramzy\", \"name_Rutger\", \"name_Samson\", \"before_1mes_Abel\", \"before_1mes_Daan\", \"before_1mes_Faried\", \"before_1mes_Jules\", \"before_1mes_Justin\", \"before_1mes_Max\", \"before_1mes_Mel\", \"before_1mes_Nicko\", \"before_1mes_Ramzy\", \"before_1mes_Rutger\", \"before_1mes_Samson\", \"before_2mes_Abel\", \"before_2mes_Daan\", \"before_2mes_Faried\", \"before_2mes_Jules\", \"before_2mes_Justin\", \"before_2mes_Max\", \"before_2mes_Mel\", \"before_2mes_Nicko\", \"before_2mes_Ramzy\", \"before_2mes_Rutger\", \"before_2mes_Samson\", \"before_3mes_Abel\", \"before_3mes_Daan\", \"before_3mes_Faried\", \"before_3mes_Jules\", \"before_3mes_Justin\", \"before_3mes_Max\", \"before_3mes_Mel\", \"before_3mes_Nicko\", \"before_3mes_Ramzy\", \"before_3mes_Rutger\", \"before_3mes_Samson\", \"before_4mes_Abel\", \"before_4mes_Daan\", \"before_4mes_Faried\", \"before_4mes_Jules\", \"before_4mes_Justin\", \"before_4mes_Max\", \"before_4mes_Mel\", \"before_4mes_Nicko\", \"before_4mes_Ramzy\", \"before_4mes_Rutger\", \"before_4mes_Samson\", \"before_5mes_Abel\", \"before_5mes_Daan\", \"before_5mes_Faried\", \"before_5mes_Jules\", \"before_5mes_Justin\", \"before_5mes_Max\", \"before_5mes_Mel\", \"before_5mes_Nicko\", \"before_5mes_Ramzy\", \"before_5mes_Rutger\", \"before_5mes_Samson\", \"before_6mes_Abel\", \"before_6mes_Daan\", \"before_6mes_Faried\", \"before_6mes_Jules\", \"before_6mes_Justin\", \"before_6mes_Max\", \"before_6mes_Mel\", \"before_6mes_Nicko\", \"before_6mes_Ramzy\", \"before_6mes_Rutger\", \"before_6mes_Samson\", \"before_7mes_Abel\", \"before_7mes_Daan\", \"before_7mes_Faried\", \"before_7mes_Jules\", \"before_7mes_Justin\", \"before_7mes_Max\", \"before_7mes_Mel\", \"before_7mes_Nicko\", \"before_7mes_Ramzy\", \"before_7mes_Rutger\", \"before_7mes_Samson\", \"before_8mes_Abel\", \"before_8mes_Daan\", \"before_8mes_Faried\", \"before_8mes_Jules\", \"before_8mes_Justin\", \"before_8mes_Max\", \"before_8mes_Mel\", \"before_8mes_Nicko\", \"before_8mes_Ramzy\", \"before_8mes_Rutger\", \"before_8mes_Samson\", \"before_9mes_Abel\", \"before_9mes_Daan\", \"before_9mes_Faried\", \"before_9mes_Jules\", \"before_9mes_Justin\", \"before_9mes_Max\", \"before_9mes_Mel\", \"before_9mes_Nicko\", \"before_9mes_Ramzy\", \"before_9mes_Rutger\", \"before_9mes_Samson\", \"before_10mes_Abel\", \"before_10mes_Daan\", \"before_10mes_Faried\", \"before_10mes_Jules\", \"before_10mes_Justin\", \"before_10mes_Max\", \"before_10mes_Mel\", \"before_10mes_Nicko\", \"before_10mes_Ramzy\", \"before_10mes_Rutger\", \"before_10mes_Samson\", \"day_Friday\", \"day_Monday\", \"day_Saturday\", \"day_Sunday\", \"day_Thursday\", \"day_Tuesday\", \"day_Wednesday\", \"wait_time_10m\", \"wait_time_15m\", \"wait_time_1h\", \"wait_time_1h+\", \"wait_time_1min\", \"wait_time_30m\", \"wait_time_5m\", \"period_Early Morning\", \"period_Evening\", \"period_Late Night\", \"period_Morning\", \"period_Night\", \"period_Noon\", \"season_Fall\", \"season_Summer\", \"season_Winter\"] + feature_names\n",
    "rev_words.head()"
   ]
  },
  {
   "cell_type": "code",
   "execution_count": 49,
   "metadata": {},
   "outputs": [
    {
     "ename": "KeyError",
     "evalue": "'11678'",
     "output_type": "error",
     "traceback": [
      "\u001b[1;31m---------------------------------------------------------------------------\u001b[0m",
      "\u001b[1;31mKeyError\u001b[0m                                  Traceback (most recent call last)",
      "\u001b[1;32mF:\\Anaconda-Daan\\lib\\site-packages\\pandas\\core\\indexes\\base.py\u001b[0m in \u001b[0;36mget_loc\u001b[1;34m(self, key, method, tolerance)\u001b[0m\n\u001b[0;32m   2894\u001b[0m             \u001b[1;32mtry\u001b[0m\u001b[1;33m:\u001b[0m\u001b[1;33m\u001b[0m\u001b[1;33m\u001b[0m\u001b[0m\n\u001b[1;32m-> 2895\u001b[1;33m                 \u001b[1;32mreturn\u001b[0m \u001b[0mself\u001b[0m\u001b[1;33m.\u001b[0m\u001b[0m_engine\u001b[0m\u001b[1;33m.\u001b[0m\u001b[0mget_loc\u001b[0m\u001b[1;33m(\u001b[0m\u001b[0mcasted_key\u001b[0m\u001b[1;33m)\u001b[0m\u001b[1;33m\u001b[0m\u001b[1;33m\u001b[0m\u001b[0m\n\u001b[0m\u001b[0;32m   2896\u001b[0m             \u001b[1;32mexcept\u001b[0m \u001b[0mKeyError\u001b[0m \u001b[1;32mas\u001b[0m \u001b[0merr\u001b[0m\u001b[1;33m:\u001b[0m\u001b[1;33m\u001b[0m\u001b[1;33m\u001b[0m\u001b[0m\n",
      "\u001b[1;32mpandas\\_libs\\index.pyx\u001b[0m in \u001b[0;36mpandas._libs.index.IndexEngine.get_loc\u001b[1;34m()\u001b[0m\n",
      "\u001b[1;32mpandas\\_libs\\index.pyx\u001b[0m in \u001b[0;36mpandas._libs.index.IndexEngine.get_loc\u001b[1;34m()\u001b[0m\n",
      "\u001b[1;32mpandas\\_libs\\hashtable_class_helper.pxi\u001b[0m in \u001b[0;36mpandas._libs.hashtable.PyObjectHashTable.get_item\u001b[1;34m()\u001b[0m\n",
      "\u001b[1;32mpandas\\_libs\\hashtable_class_helper.pxi\u001b[0m in \u001b[0;36mpandas._libs.hashtable.PyObjectHashTable.get_item\u001b[1;34m()\u001b[0m\n",
      "\u001b[1;31mKeyError\u001b[0m: '11678'",
      "\nThe above exception was the direct cause of the following exception:\n",
      "\u001b[1;31mKeyError\u001b[0m                                  Traceback (most recent call last)",
      "\u001b[1;32m<ipython-input-49-15b3292d2106>\u001b[0m in \u001b[0;36m<module>\u001b[1;34m\u001b[0m\n\u001b[1;32m----> 1\u001b[1;33m \u001b[0mX\u001b[0m \u001b[1;33m=\u001b[0m \u001b[0mrev_words\u001b[0m\u001b[1;33m.\u001b[0m\u001b[0mloc\u001b[0m\u001b[1;33m[\u001b[0m\u001b[1;33m:\u001b[0m\u001b[1;33m,\u001b[0m\u001b[1;34m'words'\u001b[0m\u001b[1;33m:\u001b[0m\u001b[1;34m'11678'\u001b[0m\u001b[1;33m]\u001b[0m \u001b[1;31m#This gets all the columns from Time to Amount\u001b[0m\u001b[1;33m\u001b[0m\u001b[1;33m\u001b[0m\u001b[0m\n\u001b[0m\u001b[0;32m      2\u001b[0m \u001b[0my\u001b[0m \u001b[1;33m=\u001b[0m \u001b[0mrev_words\u001b[0m\u001b[1;33m[\u001b[0m\u001b[1;34m'responder'\u001b[0m\u001b[1;33m]\u001b[0m\u001b[1;33m\u001b[0m\u001b[1;33m\u001b[0m\u001b[0m\n\u001b[0;32m      3\u001b[0m \u001b[0mX_train\u001b[0m\u001b[1;33m,\u001b[0m \u001b[0mX_test\u001b[0m\u001b[1;33m,\u001b[0m \u001b[0my_train\u001b[0m\u001b[1;33m,\u001b[0m \u001b[0my_test\u001b[0m \u001b[1;33m=\u001b[0m \u001b[0mtrain_test_split\u001b[0m\u001b[1;33m(\u001b[0m\u001b[0mX\u001b[0m\u001b[1;33m,\u001b[0m \u001b[0my\u001b[0m\u001b[1;33m,\u001b[0m \u001b[0mtest_size\u001b[0m\u001b[1;33m=\u001b[0m\u001b[1;36m0.3\u001b[0m\u001b[1;33m,\u001b[0m \u001b[0mrandom_state\u001b[0m\u001b[1;33m=\u001b[0m\u001b[1;36m1\u001b[0m\u001b[1;33m)\u001b[0m\u001b[1;33m\u001b[0m\u001b[1;33m\u001b[0m\u001b[0m\n",
      "\u001b[1;32mF:\\Anaconda-Daan\\lib\\site-packages\\pandas\\core\\indexing.py\u001b[0m in \u001b[0;36m__getitem__\u001b[1;34m(self, key)\u001b[0m\n\u001b[0;32m    871\u001b[0m                     \u001b[1;31m# AttributeError for IntervalTree get_value\u001b[0m\u001b[1;33m\u001b[0m\u001b[1;33m\u001b[0m\u001b[1;33m\u001b[0m\u001b[0m\n\u001b[0;32m    872\u001b[0m                     \u001b[1;32mpass\u001b[0m\u001b[1;33m\u001b[0m\u001b[1;33m\u001b[0m\u001b[0m\n\u001b[1;32m--> 873\u001b[1;33m             \u001b[1;32mreturn\u001b[0m \u001b[0mself\u001b[0m\u001b[1;33m.\u001b[0m\u001b[0m_getitem_tuple\u001b[0m\u001b[1;33m(\u001b[0m\u001b[0mkey\u001b[0m\u001b[1;33m)\u001b[0m\u001b[1;33m\u001b[0m\u001b[1;33m\u001b[0m\u001b[0m\n\u001b[0m\u001b[0;32m    874\u001b[0m         \u001b[1;32melse\u001b[0m\u001b[1;33m:\u001b[0m\u001b[1;33m\u001b[0m\u001b[1;33m\u001b[0m\u001b[0m\n\u001b[0;32m    875\u001b[0m             \u001b[1;31m# we by definition only have the 0th axis\u001b[0m\u001b[1;33m\u001b[0m\u001b[1;33m\u001b[0m\u001b[1;33m\u001b[0m\u001b[0m\n",
      "\u001b[1;32mF:\\Anaconda-Daan\\lib\\site-packages\\pandas\\core\\indexing.py\u001b[0m in \u001b[0;36m_getitem_tuple\u001b[1;34m(self, tup)\u001b[0m\n\u001b[0;32m   1053\u001b[0m             \u001b[1;32mreturn\u001b[0m \u001b[0mself\u001b[0m\u001b[1;33m.\u001b[0m\u001b[0m_multi_take\u001b[0m\u001b[1;33m(\u001b[0m\u001b[0mtup\u001b[0m\u001b[1;33m)\u001b[0m\u001b[1;33m\u001b[0m\u001b[1;33m\u001b[0m\u001b[0m\n\u001b[0;32m   1054\u001b[0m \u001b[1;33m\u001b[0m\u001b[0m\n\u001b[1;32m-> 1055\u001b[1;33m         \u001b[1;32mreturn\u001b[0m \u001b[0mself\u001b[0m\u001b[1;33m.\u001b[0m\u001b[0m_getitem_tuple_same_dim\u001b[0m\u001b[1;33m(\u001b[0m\u001b[0mtup\u001b[0m\u001b[1;33m)\u001b[0m\u001b[1;33m\u001b[0m\u001b[1;33m\u001b[0m\u001b[0m\n\u001b[0m\u001b[0;32m   1056\u001b[0m \u001b[1;33m\u001b[0m\u001b[0m\n\u001b[0;32m   1057\u001b[0m     \u001b[1;32mdef\u001b[0m \u001b[0m_get_label\u001b[0m\u001b[1;33m(\u001b[0m\u001b[0mself\u001b[0m\u001b[1;33m,\u001b[0m \u001b[0mlabel\u001b[0m\u001b[1;33m,\u001b[0m \u001b[0maxis\u001b[0m\u001b[1;33m:\u001b[0m \u001b[0mint\u001b[0m\u001b[1;33m)\u001b[0m\u001b[1;33m:\u001b[0m\u001b[1;33m\u001b[0m\u001b[1;33m\u001b[0m\u001b[0m\n",
      "\u001b[1;32mF:\\Anaconda-Daan\\lib\\site-packages\\pandas\\core\\indexing.py\u001b[0m in \u001b[0;36m_getitem_tuple_same_dim\u001b[1;34m(self, tup)\u001b[0m\n\u001b[0;32m    748\u001b[0m                 \u001b[1;32mcontinue\u001b[0m\u001b[1;33m\u001b[0m\u001b[1;33m\u001b[0m\u001b[0m\n\u001b[0;32m    749\u001b[0m \u001b[1;33m\u001b[0m\u001b[0m\n\u001b[1;32m--> 750\u001b[1;33m             \u001b[0mretval\u001b[0m \u001b[1;33m=\u001b[0m \u001b[0mgetattr\u001b[0m\u001b[1;33m(\u001b[0m\u001b[0mretval\u001b[0m\u001b[1;33m,\u001b[0m \u001b[0mself\u001b[0m\u001b[1;33m.\u001b[0m\u001b[0mname\u001b[0m\u001b[1;33m)\u001b[0m\u001b[1;33m.\u001b[0m\u001b[0m_getitem_axis\u001b[0m\u001b[1;33m(\u001b[0m\u001b[0mkey\u001b[0m\u001b[1;33m,\u001b[0m \u001b[0maxis\u001b[0m\u001b[1;33m=\u001b[0m\u001b[0mi\u001b[0m\u001b[1;33m)\u001b[0m\u001b[1;33m\u001b[0m\u001b[1;33m\u001b[0m\u001b[0m\n\u001b[0m\u001b[0;32m    751\u001b[0m             \u001b[1;31m# We should never have retval.ndim < self.ndim, as that should\u001b[0m\u001b[1;33m\u001b[0m\u001b[1;33m\u001b[0m\u001b[1;33m\u001b[0m\u001b[0m\n\u001b[0;32m    752\u001b[0m             \u001b[1;31m#  be handled by the _getitem_lowerdim call above.\u001b[0m\u001b[1;33m\u001b[0m\u001b[1;33m\u001b[0m\u001b[1;33m\u001b[0m\u001b[0m\n",
      "\u001b[1;32mF:\\Anaconda-Daan\\lib\\site-packages\\pandas\\core\\indexing.py\u001b[0m in \u001b[0;36m_getitem_axis\u001b[1;34m(self, key, axis)\u001b[0m\n\u001b[0;32m   1086\u001b[0m         \u001b[1;32mif\u001b[0m \u001b[0misinstance\u001b[0m\u001b[1;33m(\u001b[0m\u001b[0mkey\u001b[0m\u001b[1;33m,\u001b[0m \u001b[0mslice\u001b[0m\u001b[1;33m)\u001b[0m\u001b[1;33m:\u001b[0m\u001b[1;33m\u001b[0m\u001b[1;33m\u001b[0m\u001b[0m\n\u001b[0;32m   1087\u001b[0m             \u001b[0mself\u001b[0m\u001b[1;33m.\u001b[0m\u001b[0m_validate_key\u001b[0m\u001b[1;33m(\u001b[0m\u001b[0mkey\u001b[0m\u001b[1;33m,\u001b[0m \u001b[0maxis\u001b[0m\u001b[1;33m)\u001b[0m\u001b[1;33m\u001b[0m\u001b[1;33m\u001b[0m\u001b[0m\n\u001b[1;32m-> 1088\u001b[1;33m             \u001b[1;32mreturn\u001b[0m \u001b[0mself\u001b[0m\u001b[1;33m.\u001b[0m\u001b[0m_get_slice_axis\u001b[0m\u001b[1;33m(\u001b[0m\u001b[0mkey\u001b[0m\u001b[1;33m,\u001b[0m \u001b[0maxis\u001b[0m\u001b[1;33m=\u001b[0m\u001b[0maxis\u001b[0m\u001b[1;33m)\u001b[0m\u001b[1;33m\u001b[0m\u001b[1;33m\u001b[0m\u001b[0m\n\u001b[0m\u001b[0;32m   1089\u001b[0m         \u001b[1;32melif\u001b[0m \u001b[0mcom\u001b[0m\u001b[1;33m.\u001b[0m\u001b[0mis_bool_indexer\u001b[0m\u001b[1;33m(\u001b[0m\u001b[0mkey\u001b[0m\u001b[1;33m)\u001b[0m\u001b[1;33m:\u001b[0m\u001b[1;33m\u001b[0m\u001b[1;33m\u001b[0m\u001b[0m\n\u001b[0;32m   1090\u001b[0m             \u001b[1;32mreturn\u001b[0m \u001b[0mself\u001b[0m\u001b[1;33m.\u001b[0m\u001b[0m_getbool_axis\u001b[0m\u001b[1;33m(\u001b[0m\u001b[0mkey\u001b[0m\u001b[1;33m,\u001b[0m \u001b[0maxis\u001b[0m\u001b[1;33m=\u001b[0m\u001b[0maxis\u001b[0m\u001b[1;33m)\u001b[0m\u001b[1;33m\u001b[0m\u001b[1;33m\u001b[0m\u001b[0m\n",
      "\u001b[1;32mF:\\Anaconda-Daan\\lib\\site-packages\\pandas\\core\\indexing.py\u001b[0m in \u001b[0;36m_get_slice_axis\u001b[1;34m(self, slice_obj, axis)\u001b[0m\n\u001b[0;32m   1120\u001b[0m \u001b[1;33m\u001b[0m\u001b[0m\n\u001b[0;32m   1121\u001b[0m         \u001b[0mlabels\u001b[0m \u001b[1;33m=\u001b[0m \u001b[0mobj\u001b[0m\u001b[1;33m.\u001b[0m\u001b[0m_get_axis\u001b[0m\u001b[1;33m(\u001b[0m\u001b[0maxis\u001b[0m\u001b[1;33m)\u001b[0m\u001b[1;33m\u001b[0m\u001b[1;33m\u001b[0m\u001b[0m\n\u001b[1;32m-> 1122\u001b[1;33m         indexer = labels.slice_indexer(\n\u001b[0m\u001b[0;32m   1123\u001b[0m             \u001b[0mslice_obj\u001b[0m\u001b[1;33m.\u001b[0m\u001b[0mstart\u001b[0m\u001b[1;33m,\u001b[0m \u001b[0mslice_obj\u001b[0m\u001b[1;33m.\u001b[0m\u001b[0mstop\u001b[0m\u001b[1;33m,\u001b[0m \u001b[0mslice_obj\u001b[0m\u001b[1;33m.\u001b[0m\u001b[0mstep\u001b[0m\u001b[1;33m,\u001b[0m \u001b[0mkind\u001b[0m\u001b[1;33m=\u001b[0m\u001b[1;34m\"loc\"\u001b[0m\u001b[1;33m\u001b[0m\u001b[1;33m\u001b[0m\u001b[0m\n\u001b[0;32m   1124\u001b[0m         )\n",
      "\u001b[1;32mF:\\Anaconda-Daan\\lib\\site-packages\\pandas\\core\\indexes\\base.py\u001b[0m in \u001b[0;36mslice_indexer\u001b[1;34m(self, start, end, step, kind)\u001b[0m\n\u001b[0;32m   4964\u001b[0m         \u001b[0mslice\u001b[0m\u001b[1;33m(\u001b[0m\u001b[1;36m1\u001b[0m\u001b[1;33m,\u001b[0m \u001b[1;36m3\u001b[0m\u001b[1;33m,\u001b[0m \u001b[1;32mNone\u001b[0m\u001b[1;33m)\u001b[0m\u001b[1;33m\u001b[0m\u001b[1;33m\u001b[0m\u001b[0m\n\u001b[0;32m   4965\u001b[0m         \"\"\"\n\u001b[1;32m-> 4966\u001b[1;33m         \u001b[0mstart_slice\u001b[0m\u001b[1;33m,\u001b[0m \u001b[0mend_slice\u001b[0m \u001b[1;33m=\u001b[0m \u001b[0mself\u001b[0m\u001b[1;33m.\u001b[0m\u001b[0mslice_locs\u001b[0m\u001b[1;33m(\u001b[0m\u001b[0mstart\u001b[0m\u001b[1;33m,\u001b[0m \u001b[0mend\u001b[0m\u001b[1;33m,\u001b[0m \u001b[0mstep\u001b[0m\u001b[1;33m=\u001b[0m\u001b[0mstep\u001b[0m\u001b[1;33m,\u001b[0m \u001b[0mkind\u001b[0m\u001b[1;33m=\u001b[0m\u001b[0mkind\u001b[0m\u001b[1;33m)\u001b[0m\u001b[1;33m\u001b[0m\u001b[1;33m\u001b[0m\u001b[0m\n\u001b[0m\u001b[0;32m   4967\u001b[0m \u001b[1;33m\u001b[0m\u001b[0m\n\u001b[0;32m   4968\u001b[0m         \u001b[1;31m# return a slice\u001b[0m\u001b[1;33m\u001b[0m\u001b[1;33m\u001b[0m\u001b[1;33m\u001b[0m\u001b[0m\n",
      "\u001b[1;32mF:\\Anaconda-Daan\\lib\\site-packages\\pandas\\core\\indexes\\base.py\u001b[0m in \u001b[0;36mslice_locs\u001b[1;34m(self, start, end, step, kind)\u001b[0m\n\u001b[0;32m   5171\u001b[0m         \u001b[0mend_slice\u001b[0m \u001b[1;33m=\u001b[0m \u001b[1;32mNone\u001b[0m\u001b[1;33m\u001b[0m\u001b[1;33m\u001b[0m\u001b[0m\n\u001b[0;32m   5172\u001b[0m         \u001b[1;32mif\u001b[0m \u001b[0mend\u001b[0m \u001b[1;32mis\u001b[0m \u001b[1;32mnot\u001b[0m \u001b[1;32mNone\u001b[0m\u001b[1;33m:\u001b[0m\u001b[1;33m\u001b[0m\u001b[1;33m\u001b[0m\u001b[0m\n\u001b[1;32m-> 5173\u001b[1;33m             \u001b[0mend_slice\u001b[0m \u001b[1;33m=\u001b[0m \u001b[0mself\u001b[0m\u001b[1;33m.\u001b[0m\u001b[0mget_slice_bound\u001b[0m\u001b[1;33m(\u001b[0m\u001b[0mend\u001b[0m\u001b[1;33m,\u001b[0m \u001b[1;34m\"right\"\u001b[0m\u001b[1;33m,\u001b[0m \u001b[0mkind\u001b[0m\u001b[1;33m)\u001b[0m\u001b[1;33m\u001b[0m\u001b[1;33m\u001b[0m\u001b[0m\n\u001b[0m\u001b[0;32m   5174\u001b[0m         \u001b[1;32mif\u001b[0m \u001b[0mend_slice\u001b[0m \u001b[1;32mis\u001b[0m \u001b[1;32mNone\u001b[0m\u001b[1;33m:\u001b[0m\u001b[1;33m\u001b[0m\u001b[1;33m\u001b[0m\u001b[0m\n\u001b[0;32m   5175\u001b[0m             \u001b[0mend_slice\u001b[0m \u001b[1;33m=\u001b[0m \u001b[0mlen\u001b[0m\u001b[1;33m(\u001b[0m\u001b[0mself\u001b[0m\u001b[1;33m)\u001b[0m\u001b[1;33m\u001b[0m\u001b[1;33m\u001b[0m\u001b[0m\n",
      "\u001b[1;32mF:\\Anaconda-Daan\\lib\\site-packages\\pandas\\core\\indexes\\base.py\u001b[0m in \u001b[0;36mget_slice_bound\u001b[1;34m(self, label, side, kind)\u001b[0m\n\u001b[0;32m   5087\u001b[0m             \u001b[1;32mexcept\u001b[0m \u001b[0mValueError\u001b[0m\u001b[1;33m:\u001b[0m\u001b[1;33m\u001b[0m\u001b[1;33m\u001b[0m\u001b[0m\n\u001b[0;32m   5088\u001b[0m                 \u001b[1;31m# raise the original KeyError\u001b[0m\u001b[1;33m\u001b[0m\u001b[1;33m\u001b[0m\u001b[1;33m\u001b[0m\u001b[0m\n\u001b[1;32m-> 5089\u001b[1;33m                 \u001b[1;32mraise\u001b[0m \u001b[0merr\u001b[0m\u001b[1;33m\u001b[0m\u001b[1;33m\u001b[0m\u001b[0m\n\u001b[0m\u001b[0;32m   5090\u001b[0m \u001b[1;33m\u001b[0m\u001b[0m\n\u001b[0;32m   5091\u001b[0m         \u001b[1;32mif\u001b[0m \u001b[0misinstance\u001b[0m\u001b[1;33m(\u001b[0m\u001b[0mslc\u001b[0m\u001b[1;33m,\u001b[0m \u001b[0mnp\u001b[0m\u001b[1;33m.\u001b[0m\u001b[0mndarray\u001b[0m\u001b[1;33m)\u001b[0m\u001b[1;33m:\u001b[0m\u001b[1;33m\u001b[0m\u001b[1;33m\u001b[0m\u001b[0m\n",
      "\u001b[1;32mF:\\Anaconda-Daan\\lib\\site-packages\\pandas\\core\\indexes\\base.py\u001b[0m in \u001b[0;36mget_slice_bound\u001b[1;34m(self, label, side, kind)\u001b[0m\n\u001b[0;32m   5081\u001b[0m         \u001b[1;31m# we need to look up the label\u001b[0m\u001b[1;33m\u001b[0m\u001b[1;33m\u001b[0m\u001b[1;33m\u001b[0m\u001b[0m\n\u001b[0;32m   5082\u001b[0m         \u001b[1;32mtry\u001b[0m\u001b[1;33m:\u001b[0m\u001b[1;33m\u001b[0m\u001b[1;33m\u001b[0m\u001b[0m\n\u001b[1;32m-> 5083\u001b[1;33m             \u001b[0mslc\u001b[0m \u001b[1;33m=\u001b[0m \u001b[0mself\u001b[0m\u001b[1;33m.\u001b[0m\u001b[0mget_loc\u001b[0m\u001b[1;33m(\u001b[0m\u001b[0mlabel\u001b[0m\u001b[1;33m)\u001b[0m\u001b[1;33m\u001b[0m\u001b[1;33m\u001b[0m\u001b[0m\n\u001b[0m\u001b[0;32m   5084\u001b[0m         \u001b[1;32mexcept\u001b[0m \u001b[0mKeyError\u001b[0m \u001b[1;32mas\u001b[0m \u001b[0merr\u001b[0m\u001b[1;33m:\u001b[0m\u001b[1;33m\u001b[0m\u001b[1;33m\u001b[0m\u001b[0m\n\u001b[0;32m   5085\u001b[0m             \u001b[1;32mtry\u001b[0m\u001b[1;33m:\u001b[0m\u001b[1;33m\u001b[0m\u001b[1;33m\u001b[0m\u001b[0m\n",
      "\u001b[1;32mF:\\Anaconda-Daan\\lib\\site-packages\\pandas\\core\\indexes\\base.py\u001b[0m in \u001b[0;36mget_loc\u001b[1;34m(self, key, method, tolerance)\u001b[0m\n\u001b[0;32m   2895\u001b[0m                 \u001b[1;32mreturn\u001b[0m \u001b[0mself\u001b[0m\u001b[1;33m.\u001b[0m\u001b[0m_engine\u001b[0m\u001b[1;33m.\u001b[0m\u001b[0mget_loc\u001b[0m\u001b[1;33m(\u001b[0m\u001b[0mcasted_key\u001b[0m\u001b[1;33m)\u001b[0m\u001b[1;33m\u001b[0m\u001b[1;33m\u001b[0m\u001b[0m\n\u001b[0;32m   2896\u001b[0m             \u001b[1;32mexcept\u001b[0m \u001b[0mKeyError\u001b[0m \u001b[1;32mas\u001b[0m \u001b[0merr\u001b[0m\u001b[1;33m:\u001b[0m\u001b[1;33m\u001b[0m\u001b[1;33m\u001b[0m\u001b[0m\n\u001b[1;32m-> 2897\u001b[1;33m                 \u001b[1;32mraise\u001b[0m \u001b[0mKeyError\u001b[0m\u001b[1;33m(\u001b[0m\u001b[0mkey\u001b[0m\u001b[1;33m)\u001b[0m \u001b[1;32mfrom\u001b[0m \u001b[0merr\u001b[0m\u001b[1;33m\u001b[0m\u001b[1;33m\u001b[0m\u001b[0m\n\u001b[0m\u001b[0;32m   2898\u001b[0m \u001b[1;33m\u001b[0m\u001b[0m\n\u001b[0;32m   2899\u001b[0m         \u001b[1;32mif\u001b[0m \u001b[0mtolerance\u001b[0m \u001b[1;32mis\u001b[0m \u001b[1;32mnot\u001b[0m \u001b[1;32mNone\u001b[0m\u001b[1;33m:\u001b[0m\u001b[1;33m\u001b[0m\u001b[1;33m\u001b[0m\u001b[0m\n",
      "\u001b[1;31mKeyError\u001b[0m: '11678'"
     ]
    }
   ],
   "source": [
    "X = rev_words.loc[:,'words':'11679'] \n",
    "y = rev_words['responder']\n",
    "X_train, X_test, y_train, y_test = train_test_split(X, y, test_size=0.3, random_state=1)"
   ]
  },
  {
   "cell_type": "code",
   "execution_count": null,
   "metadata": {},
   "outputs": [],
   "source": []
  }
 ],
 "metadata": {
  "kernelspec": {
   "display_name": "Python 3",
   "language": "python",
   "name": "python3"
  },
  "language_info": {
   "codemirror_mode": {
    "name": "ipython",
    "version": 3
   },
   "file_extension": ".py",
   "mimetype": "text/x-python",
   "name": "python",
   "nbconvert_exporter": "python",
   "pygments_lexer": "ipython3",
   "version": "3.8.3"
  }
 },
 "nbformat": 4,
 "nbformat_minor": 4
}
